{
 "cells": [
  {
   "cell_type": "code",
   "execution_count": 2,
   "metadata": {},
   "outputs": [],
   "source": [
    "%matplotlib inline\n",
    "import matplotlib.pyplot as plt\n",
    "plt.style.use('ggplot')"
   ]
  },
  {
   "cell_type": "code",
   "execution_count": 3,
   "metadata": {},
   "outputs": [],
   "source": [
    "from itertools import chain\n",
    "\n",
    "import json\n",
    "import nltk\n",
    "import sklearn\n",
    "import scipy.stats\n",
    "from sklearn.metrics import make_scorer\n",
    "from sklearn.model_selection import cross_val_score\n",
    "from sklearn.model_selection import RandomizedSearchCV\n",
    "\n",
    "import sklearn_crfsuite\n",
    "from sklearn_crfsuite import scorers\n",
    "from sklearn_crfsuite import metrics"
   ]
  },
  {
   "cell_type": "markdown",
   "metadata": {},
   "source": [
    "## Read dataset"
   ]
  },
  {
   "cell_type": "code",
   "execution_count": 4,
   "metadata": {},
   "outputs": [],
   "source": [
    "CRF_TRAIN = \"../Data/Generated_dataset/crf_dataset/crf_train.txt\"\n",
    "CRF_DEV = \"../Data/Generated_dataset/crf_dataset/crf_dev.txt\"\n",
    "CRF_TEST = \"../Data/Generated_dataset/crf_dataset/crf_test.txt\""
   ]
  },
  {
   "cell_type": "code",
   "execution_count": 5,
   "metadata": {},
   "outputs": [],
   "source": [
    "train_sents = []\n",
    "def read_dataset(file_name):\n",
    "    sentences = []\n",
    "    with open (file_name, 'r') as f:\n",
    "        for line in f:\n",
    "            sent = json.loads(line)\n",
    "            sent_set = []\n",
    "            for item in sent:\n",
    "                sent_set.append(tuple(item))\n",
    "            sentences.append(sent_set)\n",
    "    return sentences\n",
    "\n",
    "train_sents = read_dataset(CRF_TRAIN)\n",
    "dev_sents = read_dataset(CRF_DEV)\n",
    "test_sents = read_dataset(CRF_TEST)"
   ]
  },
  {
   "cell_type": "code",
   "execution_count": 6,
   "metadata": {},
   "outputs": [],
   "source": [
    "def word2features(sent, i):\n",
    "    word = sent[i][0]\n",
    "    postag = sent[i][1]\n",
    "    \n",
    "    features = {\n",
    "        'bias': 1.0,\n",
    "        'word.lower()': word.lower(),\n",
    "        'word[-3:]': word[-3:],\n",
    "        'word[-2:]': word[-2:],\n",
    "        'word.isupper()': word.isupper(),\n",
    "        'word.istitle()': word.istitle(),\n",
    "        'word.isdigit()': word.isdigit(),\n",
    "        'postag': postag,\n",
    "        'postag[:2]': postag[:2],        \n",
    "    }\n",
    "    if i > 0:\n",
    "        word1 = sent[i-1][0]\n",
    "        postag1 = sent[i-1][1]\n",
    "        features.update({\n",
    "            '-1:word.lower()': word1.lower(),\n",
    "            '-1:word.istitle()': word1.istitle(),\n",
    "            '-1:word.isupper()': word1.isupper(),\n",
    "            '-1:postag': postag1,\n",
    "            '-1:postag[:2]': postag1[:2],\n",
    "        })\n",
    "    else:\n",
    "        features['BOS'] = True\n",
    "        \n",
    "    if i < len(sent)-1:\n",
    "        word1 = sent[i+1][0]\n",
    "        postag1 = sent[i+1][1]\n",
    "        features.update({\n",
    "            '+1:word.lower()': word1.lower(),\n",
    "            '+1:word.istitle()': word1.istitle(),\n",
    "            '+1:word.isupper()': word1.isupper(),\n",
    "            '+1:postag': postag1,\n",
    "            '+1:postag[:2]': postag1[:2],\n",
    "        })\n",
    "    else:\n",
    "        features['EOS'] = True\n",
    "                \n",
    "    return features\n",
    "\n",
    "\n",
    "def sent2features(sent):\n",
    "    return [word2features(sent, i) for i in range(len(sent))]\n",
    "\n",
    "def sent2labels(sent):\n",
    "    return [label for token, postag, label in sent]\n",
    "\n",
    "def sent2tokens(sent):\n",
    "    return [token for token, postag, label in sent]"
   ]
  },
  {
   "cell_type": "code",
   "execution_count": 7,
   "metadata": {},
   "outputs": [
    {
     "data": {
      "text/plain": [
       "{'bias': 1.0,\n",
       " 'word.lower()': 'move',\n",
       " 'word[-3:]': 'ove',\n",
       " 'word[-2:]': 've',\n",
       " 'word.isupper()': False,\n",
       " 'word.istitle()': False,\n",
       " 'word.isdigit()': False,\n",
       " 'postag': 'VERB',\n",
       " 'postag[:2]': 'VE',\n",
       " 'BOS': True,\n",
       " '+1:word.lower()': 'the',\n",
       " '+1:word.istitle()': False,\n",
       " '+1:word.isupper()': False,\n",
       " '+1:postag': 'DET',\n",
       " '+1:postag[:2]': 'DE'}"
      ]
     },
     "execution_count": 7,
     "metadata": {},
     "output_type": "execute_result"
    }
   ],
   "source": [
    "sent2features(train_sents[0])[0]"
   ]
  },
  {
   "cell_type": "code",
   "execution_count": 8,
   "metadata": {},
   "outputs": [
    {
     "name": "stdout",
     "output_type": "stream",
     "text": [
      "CPU times: user 1.68 s, sys: 646 ms, total: 2.32 s\n",
      "Wall time: 2.32 s\n"
     ]
    }
   ],
   "source": [
    "%%time\n",
    "X_train = [sent2features(s) for s in train_sents]\n",
    "y_train = [sent2labels(s) for s in train_sents]\n",
    "\n",
    "X_test = [sent2features(s) for s in test_sents]\n",
    "y_test = [sent2labels(s) for s in test_sents] "
   ]
  },
  {
   "cell_type": "code",
   "execution_count": 18,
   "metadata": {},
   "outputs": [
    {
     "name": "stdout",
     "output_type": "stream",
     "text": [
      "CPU times: user 1min 10s, sys: 7.04 s, total: 1min 17s\n",
      "Wall time: 1min 29s\n"
     ]
    },
    {
     "name": "stderr",
     "output_type": "stream",
     "text": [
      "/home/ching/.local/lib/python3.6/site-packages/sklearn/base.py:213: FutureWarning: From version 0.24, get_params will raise an AttributeError if a parameter cannot be retrieved as an instance attribute. Previously it would return None.\n",
      "  FutureWarning)\n"
     ]
    },
    {
     "data": {
      "text/plain": [
       "CRF(algorithm='lbfgs', all_possible_transitions=True, c1=0.2, c2=0.1,\n",
       "    keep_tempfiles=None, max_iterations=100)"
      ]
     },
     "execution_count": 18,
     "metadata": {},
     "output_type": "execute_result"
    }
   ],
   "source": [
    "%%time\n",
    "crf = sklearn_crfsuite.CRF(\n",
    "    algorithm='lbfgs', \n",
    "    c1=0.2, \n",
    "    c2=0.1, \n",
    "    max_iterations=100, \n",
    "    all_possible_transitions=True\n",
    ")\n",
    "crf.fit(X_train, y_train)"
   ]
  },
  {
   "cell_type": "code",
   "execution_count": 11,
   "metadata": {},
   "outputs": [
    {
     "data": {
      "text/plain": [
       "['B-TARGET', 'I-TARGET', 'B-RECEPTACLE', 'I-RECEPTACLE']"
      ]
     },
     "execution_count": 11,
     "metadata": {},
     "output_type": "execute_result"
    }
   ],
   "source": [
    "labels = list(crf.classes_)\n",
    "labels.remove('O')\n",
    "labels"
   ]
  },
  {
   "cell_type": "code",
   "execution_count": 36,
   "metadata": {},
   "outputs": [
    {
     "data": {
      "text/plain": [
       "0.628554993061262"
      ]
     },
     "execution_count": 36,
     "metadata": {},
     "output_type": "execute_result"
    }
   ],
   "source": [
    "y_pred = crf.predict(X_test)\n",
    "metrics.flat_f1_score(y_test, y_pred,\n",
    "                      average='weighted', labels=labels)"
   ]
  },
  {
   "cell_type": "code",
   "execution_count": 37,
   "metadata": {
    "scrolled": true
   },
   "outputs": [
    {
     "name": "stdout",
     "output_type": "stream",
     "text": [
      "              precision    recall  f1-score   support\n",
      "\n",
      "B-RECEPTACLE      0.551     0.514     0.532      5983\n",
      "I-RECEPTACLE      0.434     0.455     0.444      1152\n",
      "    B-TARGET      0.826     0.703     0.760      6236\n",
      "    I-TARGET      0.790     0.502     0.614      1837\n",
      "\n",
      "   micro avg      0.672     0.586     0.626     15208\n",
      "   macro avg      0.650     0.544     0.588     15208\n",
      "weighted avg      0.684     0.586     0.629     15208\n",
      "\n"
     ]
    }
   ],
   "source": [
    "# group B and I results\n",
    "sorted_labels = sorted(\n",
    "    labels,\n",
    "    key=lambda name: (name[1:], name[0])\n",
    ")\n",
    "print(metrics.flat_classification_report(\n",
    "    y_test, y_pred, labels=sorted_labels, digits=3\n",
    "))"
   ]
  },
  {
   "cell_type": "code",
   "execution_count": 31,
   "metadata": {},
   "outputs": [
    {
     "name": "stdout",
     "output_type": "stream",
     "text": [
      "Fitting 3 folds for each of 30 candidates, totalling 90 fits\n"
     ]
    },
    {
     "name": "stderr",
     "output_type": "stream",
     "text": [
      "[Parallel(n_jobs=-2)]: Using backend LokyBackend with 7 concurrent workers.\n",
      "[Parallel(n_jobs=-2)]: Done  36 tasks      | elapsed: 31.0min\n",
      "[Parallel(n_jobs=-2)]: Done  90 out of  90 | elapsed: 77.2min finished\n"
     ]
    },
    {
     "name": "stdout",
     "output_type": "stream",
     "text": [
      "CPU times: user 1h 13min 27s, sys: 2min 29s, total: 1h 15min 56s\n",
      "Wall time: 1h 17min 58s\n"
     ]
    },
    {
     "data": {
      "text/plain": [
       "RandomizedSearchCV(cv=3,\n",
       "                   estimator=CRF(algorithm='lbfgs',\n",
       "                                 all_possible_transitions=True,\n",
       "                                 keep_tempfiles=None, max_iterations=100),\n",
       "                   n_iter=30, n_jobs=-2,\n",
       "                   param_distributions={'c1': <scipy.stats._distn_infrastructure.rv_frozen object at 0x7f24899dd2e8>,\n",
       "                                        'c2': <scipy.stats._distn_infrastructure.rv_frozen object at 0x7f24899dd470>},\n",
       "                   scoring=make_scorer(flat_f1_score, average=weighted, labels=['B-TARGET', 'I-TARGET', 'B-RECEPTACLE', 'I-RECEPTACLE']),\n",
       "                   verbose=1)"
      ]
     },
     "execution_count": 31,
     "metadata": {},
     "output_type": "execute_result"
    }
   ],
   "source": [
    "%%time\n",
    "# define fixed parameters and parameters to search\n",
    "crf = sklearn_crfsuite.CRF(\n",
    "    algorithm='lbfgs', \n",
    "    max_iterations=100, \n",
    "    all_possible_transitions=True\n",
    ")\n",
    "params_space = {\n",
    "    'c1': scipy.stats.expon(scale=0.5),\n",
    "    'c2': scipy.stats.expon(scale=0.05),\n",
    "}\n",
    "\n",
    "# use the same metric for evaluation\n",
    "f1_scorer = make_scorer(metrics.flat_f1_score, \n",
    "                        average='weighted', labels=labels)\n",
    "\n",
    "# search\n",
    "rs = RandomizedSearchCV(crf, params_space, \n",
    "                        cv=3, \n",
    "                        verbose=1, \n",
    "                        n_jobs=-2, \n",
    "                        n_iter=30, \n",
    "                        scoring=f1_scorer)\n",
    "rs.fit(X_train, y_train)"
   ]
  },
  {
   "cell_type": "code",
   "execution_count": 32,
   "metadata": {},
   "outputs": [
    {
     "name": "stdout",
     "output_type": "stream",
     "text": [
      "best params: {'c1': 0.0433462845150516, 'c2': 0.01316779153024307}\n",
      "best CV score: 0.49676629501730885\n",
      "model size: 0.21M\n"
     ]
    }
   ],
   "source": [
    "crf = rs.best_estimator_\n",
    "print('best params:', rs.best_params_)\n",
    "print('best CV score:', rs.best_score_)\n",
    "print('model size: {:0.2f}M'.format(rs.best_estimator_.size_ / 1000000))"
   ]
  },
  {
   "cell_type": "code",
   "execution_count": 33,
   "metadata": {},
   "outputs": [
    {
     "data": {
      "text/plain": [
       "0.628554993061262"
      ]
     },
     "execution_count": 33,
     "metadata": {},
     "output_type": "execute_result"
    }
   ],
   "source": [
    "y_pred = crf.predict(X_test)\n",
    "metrics.flat_f1_score(y_test, y_pred,\n",
    "                      average='weighted', labels=labels)"
   ]
  },
  {
   "cell_type": "code",
   "execution_count": 34,
   "metadata": {},
   "outputs": [
    {
     "name": "stdout",
     "output_type": "stream",
     "text": [
      "Top likely transitions:\n",
      "B-TARGET -> I-TARGET 4.048525\n",
      "I-TARGET -> I-TARGET 3.335785\n",
      "B-RECEPTACLE -> I-RECEPTACLE 2.926770\n",
      "O      -> O       1.882036\n",
      "I-TARGET -> I-RECEPTACLE 0.466125\n",
      "O      -> B-RECEPTACLE 0.449737\n",
      "I-RECEPTACLE -> I-RECEPTACLE 0.374634\n",
      "O      -> B-TARGET 0.241345\n",
      "I-RECEPTACLE -> O       -0.002101\n",
      "B-RECEPTACLE -> O       -0.165732\n",
      "I-TARGET -> B-RECEPTACLE -0.268988\n",
      "B-TARGET -> O       -0.330918\n",
      "I-TARGET -> O       -0.361394\n",
      "I-TARGET -> B-TARGET -1.553355\n",
      "B-RECEPTACLE -> B-TARGET -1.563485\n",
      "B-RECEPTACLE -> I-TARGET -2.115421\n",
      "I-RECEPTACLE -> B-RECEPTACLE -2.285759\n",
      "B-TARGET -> I-RECEPTACLE -2.523690\n",
      "B-TARGET -> B-TARGET -2.715554\n",
      "I-RECEPTACLE -> B-TARGET -3.021333\n",
      "\n",
      "Top unlikely transitions:\n",
      "O      -> B-RECEPTACLE 0.449737\n",
      "I-RECEPTACLE -> I-RECEPTACLE 0.374634\n",
      "O      -> B-TARGET 0.241345\n",
      "I-RECEPTACLE -> O       -0.002101\n",
      "B-RECEPTACLE -> O       -0.165732\n",
      "I-TARGET -> B-RECEPTACLE -0.268988\n",
      "B-TARGET -> O       -0.330918\n",
      "I-TARGET -> O       -0.361394\n",
      "I-TARGET -> B-TARGET -1.553355\n",
      "B-RECEPTACLE -> B-TARGET -1.563485\n",
      "B-RECEPTACLE -> I-TARGET -2.115421\n",
      "I-RECEPTACLE -> B-RECEPTACLE -2.285759\n",
      "B-TARGET -> I-RECEPTACLE -2.523690\n",
      "B-TARGET -> B-TARGET -2.715554\n",
      "I-RECEPTACLE -> B-TARGET -3.021333\n",
      "I-RECEPTACLE -> I-TARGET -3.090989\n",
      "B-TARGET -> B-RECEPTACLE -4.014902\n",
      "O      -> I-TARGET -4.310711\n",
      "O      -> I-RECEPTACLE -4.646161\n",
      "B-RECEPTACLE -> B-RECEPTACLE -6.455137\n"
     ]
    }
   ],
   "source": [
    "from collections import Counter\n",
    "\n",
    "def print_transitions(trans_features):\n",
    "    for (label_from, label_to), weight in trans_features:\n",
    "        print(\"%-6s -> %-7s %0.6f\" % (label_from, label_to, weight))\n",
    "\n",
    "print(\"Top likely transitions:\")\n",
    "print_transitions(Counter(crf.transition_features_).most_common(20))\n",
    "\n",
    "print(\"\\nTop unlikely transitions:\")\n",
    "print_transitions(Counter(crf.transition_features_).most_common()[-20:])"
   ]
  },
  {
   "cell_type": "code",
   "execution_count": 35,
   "metadata": {},
   "outputs": [
    {
     "name": "stdout",
     "output_type": "stream",
     "text": [
      "Top positive:\n",
      "12.153116 B-RECEPTACLE -1:word.lower():safe\n",
      "9.843691 B-TARGET word.lower():dispenser\n",
      "9.220662 I-TARGET -1:word.lower():fire\n",
      "8.615246 O        postag:ADP\n",
      "7.619490 B-TARGET word.lower():clothing\n",
      "7.214269 O        -1:word.lower():safe\n",
      "7.065473 B-RECEPTACLE -1:word.lower():original\n",
      "6.988626 I-TARGET word.lower():card\n",
      "6.769381 I-TARGET word.lower():tablet\n",
      "6.516453 I-TARGET -1:word.lower():bed\n",
      "6.394268 B-TARGET word.lower():frying\n",
      "6.335617 O        word.lower():lower\n",
      "6.274567 O        word[-2:]:st\n",
      "6.253033 O        postag:PRON\n",
      "6.210318 B-TARGET +1:word.lower():a\n",
      "6.171586 O        word.lower():then\n",
      "6.122281 I-RECEPTACLE -1:word.lower():toiler\n",
      "6.049479 I-TARGET -1:word.lower():bath\n",
      "6.033224 O        word.lower():right\n",
      "6.005406 O        word.lower():one\n",
      "5.917266 O        -1:word.lower():credit\n",
      "5.864150 B-TARGET word.lower():cleaner\n",
      "5.809009 O        word.lower():toiler\n",
      "5.807791 I-TARGET word.lower():dispenser\n",
      "5.749456 I-TARGET +1:word.lower():thing\n",
      "5.665179 O        -1:word.lower():lunch\n",
      "5.567810 O        word.lower():forward\n",
      "5.550136 O        word.lower():small\n",
      "5.540882 B-RECEPTACLE word.lower():microwave\n",
      "5.524392 O        word.lower():middle\n",
      "\n",
      "Top negative:\n",
      "-2.785056 B-RECEPTACLE +1:word.lower():roll\n",
      "-2.837468 I-TARGET +1:word.lower():phone\n",
      "-2.858839 I-RECEPTACLE word.lower():corner\n",
      "-2.969378 B-RECEPTACLE word[-3:]:dle\n",
      "-3.000762 I-TARGET word[-2:]:ed\n",
      "-3.032281 I-TARGET EOS\n",
      "-3.036549 I-TARGET -1:word.lower():a\n",
      "-3.041831 B-RECEPTACLE word[-2:]:an\n",
      "-3.066006 B-TARGET +1:word.lower():roll\n",
      "-3.083424 O        word.lower():wine\n",
      "-3.104200 B-TARGET word[-3:]:ank\n",
      "-3.111586 B-RECEPTACLE word.lower():cardboard\n",
      "-3.135397 O        +1:word.lower():container\n",
      "-3.164101 I-RECEPTACLE word[-2:]:nt\n",
      "-3.368739 B-RECEPTACLE +1:word.lower():ring\n",
      "-3.390805 O        +1:word.lower():standing\n",
      "-3.410045 B-RECEPTACLE +1:word.lower():soap\n",
      "-3.539518 B-TARGET +1:word.lower():shelf\n",
      "-3.601345 I-TARGET word[-3:]:let\n",
      "-3.784014 B-TARGET word[-3:]:ack\n",
      "-3.849628 I-RECEPTACLE +1:postag:ADJ\n",
      "-3.952798 I-TARGET +1:word.lower():of\n",
      "-3.979550 O        -1:word.lower():put\n",
      "-4.367976 B-RECEPTACLE word[-2:]:se\n",
      "-4.434317 B-RECEPTACLE word[-2:]:id\n",
      "-4.617211 B-TARGET word.lower():counter\n",
      "-4.643302 B-RECEPTACLE word[-3:]:per\n",
      "-4.687951 B-TARGET word[-3:]:ser\n",
      "-5.620463 O        +1:word.lower():television\n",
      "-5.874138 O        +1:word.lower():ball\n"
     ]
    }
   ],
   "source": [
    "def print_state_features(state_features):\n",
    "    for (attr, label), weight in state_features:\n",
    "        print(\"%0.6f %-8s %s\" % (weight, label, attr))    \n",
    "\n",
    "print(\"Top positive:\")\n",
    "print_state_features(Counter(crf.state_features_).most_common(30))\n",
    "\n",
    "print(\"\\nTop negative:\")\n",
    "print_state_features(Counter(crf.state_features_).most_common()[-30:])"
   ]
  }
 ],
 "metadata": {
  "kernelspec": {
   "display_name": "Python 3",
   "language": "python",
   "name": "python3"
  },
  "language_info": {
   "codemirror_mode": {
    "name": "ipython",
    "version": 3
   },
   "file_extension": ".py",
   "mimetype": "text/x-python",
   "name": "python",
   "nbconvert_exporter": "python",
   "pygments_lexer": "ipython3",
   "version": "3.6.9"
  }
 },
 "nbformat": 4,
 "nbformat_minor": 4
}
