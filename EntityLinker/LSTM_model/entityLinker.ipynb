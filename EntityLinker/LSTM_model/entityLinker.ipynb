{
  "nbformat": 4,
  "nbformat_minor": 0,
  "metadata": {
    "colab": {
      "name": "entityLinker.ipynb",
      "provenance": [],
      "collapsed_sections": []
    },
    "kernelspec": {
      "name": "python3",
      "display_name": "Python 3"
    },
    "language_info": {
      "name": "python"
    }
  },
  "cells": [
    {
      "cell_type": "code",
      "metadata": {
        "colab": {
          "base_uri": "https://localhost:8080/"
        },
        "id": "jUr016oJnRuU",
        "outputId": "7555a165-529c-4df7-f74f-afa6c19fdf37"
      },
      "source": [
        "import spacy\n",
        "!python -m spacy download en_core_web_lg"
      ],
      "execution_count": null,
      "outputs": [
        {
          "output_type": "stream",
          "name": "stdout",
          "text": [
            "Collecting en_core_web_lg==2.2.5\n",
            "  Downloading https://github.com/explosion/spacy-models/releases/download/en_core_web_lg-2.2.5/en_core_web_lg-2.2.5.tar.gz (827.9 MB)\n",
            "\u001b[K     |████████████████████████████████| 827.9 MB 1.3 MB/s \n",
            "\u001b[?25hRequirement already satisfied: spacy>=2.2.2 in /usr/local/lib/python3.7/dist-packages (from en_core_web_lg==2.2.5) (2.2.4)\n",
            "Requirement already satisfied: blis<0.5.0,>=0.4.0 in /usr/local/lib/python3.7/dist-packages (from spacy>=2.2.2->en_core_web_lg==2.2.5) (0.4.1)\n",
            "Requirement already satisfied: plac<1.2.0,>=0.9.6 in /usr/local/lib/python3.7/dist-packages (from spacy>=2.2.2->en_core_web_lg==2.2.5) (1.1.3)\n",
            "Requirement already satisfied: cymem<2.1.0,>=2.0.2 in /usr/local/lib/python3.7/dist-packages (from spacy>=2.2.2->en_core_web_lg==2.2.5) (2.0.5)\n",
            "Requirement already satisfied: murmurhash<1.1.0,>=0.28.0 in /usr/local/lib/python3.7/dist-packages (from spacy>=2.2.2->en_core_web_lg==2.2.5) (1.0.5)\n",
            "Requirement already satisfied: tqdm<5.0.0,>=4.38.0 in /usr/local/lib/python3.7/dist-packages (from spacy>=2.2.2->en_core_web_lg==2.2.5) (4.62.3)\n",
            "Requirement already satisfied: requests<3.0.0,>=2.13.0 in /usr/local/lib/python3.7/dist-packages (from spacy>=2.2.2->en_core_web_lg==2.2.5) (2.23.0)\n",
            "Requirement already satisfied: setuptools in /usr/local/lib/python3.7/dist-packages (from spacy>=2.2.2->en_core_web_lg==2.2.5) (57.4.0)\n",
            "Requirement already satisfied: catalogue<1.1.0,>=0.0.7 in /usr/local/lib/python3.7/dist-packages (from spacy>=2.2.2->en_core_web_lg==2.2.5) (1.0.0)\n",
            "Requirement already satisfied: srsly<1.1.0,>=1.0.2 in /usr/local/lib/python3.7/dist-packages (from spacy>=2.2.2->en_core_web_lg==2.2.5) (1.0.5)\n",
            "Requirement already satisfied: wasabi<1.1.0,>=0.4.0 in /usr/local/lib/python3.7/dist-packages (from spacy>=2.2.2->en_core_web_lg==2.2.5) (0.8.2)\n",
            "Requirement already satisfied: numpy>=1.15.0 in /usr/local/lib/python3.7/dist-packages (from spacy>=2.2.2->en_core_web_lg==2.2.5) (1.19.5)\n",
            "Requirement already satisfied: preshed<3.1.0,>=3.0.2 in /usr/local/lib/python3.7/dist-packages (from spacy>=2.2.2->en_core_web_lg==2.2.5) (3.0.5)\n",
            "Requirement already satisfied: thinc==7.4.0 in /usr/local/lib/python3.7/dist-packages (from spacy>=2.2.2->en_core_web_lg==2.2.5) (7.4.0)\n",
            "Requirement already satisfied: importlib-metadata>=0.20 in /usr/local/lib/python3.7/dist-packages (from catalogue<1.1.0,>=0.0.7->spacy>=2.2.2->en_core_web_lg==2.2.5) (4.8.1)\n",
            "Requirement already satisfied: zipp>=0.5 in /usr/local/lib/python3.7/dist-packages (from importlib-metadata>=0.20->catalogue<1.1.0,>=0.0.7->spacy>=2.2.2->en_core_web_lg==2.2.5) (3.6.0)\n",
            "Requirement already satisfied: typing-extensions>=3.6.4 in /usr/local/lib/python3.7/dist-packages (from importlib-metadata>=0.20->catalogue<1.1.0,>=0.0.7->spacy>=2.2.2->en_core_web_lg==2.2.5) (3.7.4.3)\n",
            "Requirement already satisfied: urllib3!=1.25.0,!=1.25.1,<1.26,>=1.21.1 in /usr/local/lib/python3.7/dist-packages (from requests<3.0.0,>=2.13.0->spacy>=2.2.2->en_core_web_lg==2.2.5) (1.24.3)\n",
            "Requirement already satisfied: chardet<4,>=3.0.2 in /usr/local/lib/python3.7/dist-packages (from requests<3.0.0,>=2.13.0->spacy>=2.2.2->en_core_web_lg==2.2.5) (3.0.4)\n",
            "Requirement already satisfied: idna<3,>=2.5 in /usr/local/lib/python3.7/dist-packages (from requests<3.0.0,>=2.13.0->spacy>=2.2.2->en_core_web_lg==2.2.5) (2.10)\n",
            "Requirement already satisfied: certifi>=2017.4.17 in /usr/local/lib/python3.7/dist-packages (from requests<3.0.0,>=2.13.0->spacy>=2.2.2->en_core_web_lg==2.2.5) (2021.5.30)\n",
            "Building wheels for collected packages: en-core-web-lg\n",
            "  Building wheel for en-core-web-lg (setup.py) ... \u001b[?25l\u001b[?25hdone\n",
            "  Created wheel for en-core-web-lg: filename=en_core_web_lg-2.2.5-py3-none-any.whl size=829180942 sha256=0dbb7493941fd3faf1847edd5e2cbac6e5a4f5c55fbf3c06055a1902b5b35c4d\n",
            "  Stored in directory: /tmp/pip-ephem-wheel-cache-sgm5rr2e/wheels/11/95/ba/2c36cc368c0bd339b44a791c2c1881a1fb714b78c29a4cb8f5\n",
            "Successfully built en-core-web-lg\n",
            "Installing collected packages: en-core-web-lg\n",
            "Successfully installed en-core-web-lg-2.2.5\n",
            "\u001b[38;5;2m✔ Download and installation successful\u001b[0m\n",
            "You can now load the model via spacy.load('en_core_web_lg')\n"
          ]
        }
      ]
    },
    {
      "cell_type": "code",
      "metadata": {
        "id": "1cTyOM0zpxt2"
      },
      "source": [
        "import json\n",
        "import re\n",
        "import time\n",
        "import numpy as np\n",
        "import torch\n",
        "import pandas as pd\n",
        "import matplotlib.pyplot as plt\n",
        "import torch.nn as nn\n",
        "import torch.optim as optim\n",
        "import torch.nn.functional as F\n",
        "import en_core_web_lg\n",
        "from torch.utils.data import Dataset, DataLoader\n",
        "from torch.nn.utils.rnn import pad_sequence, pack_padded_sequence, pad_packed_sequence"
      ],
      "execution_count": 2,
      "outputs": []
    },
    {
      "cell_type": "code",
      "metadata": {
        "id": "IFZsIaFuppPS",
        "colab": {
          "base_uri": "https://localhost:8080/"
        },
        "outputId": "82b3459b-b082-420a-e27a-b86aec4e2d8e"
      },
      "source": [
        "nlp = en_core_web_lg.load()\n",
        "\n",
        "use_cuda = torch.cuda.is_available()\n",
        "device = torch.device(\"cuda\" if use_cuda else \"cpu\")\n",
        "print(device)"
      ],
      "execution_count": null,
      "outputs": [
        {
          "output_type": "stream",
          "name": "stdout",
          "text": [
            "cuda\n"
          ]
        }
      ]
    },
    {
      "cell_type": "code",
      "metadata": {
        "colab": {
          "base_uri": "https://localhost:8080/"
        },
        "id": "YHnq0ikGp54T",
        "outputId": "63bd9308-e724-473b-c094-997e4b7230b8"
      },
      "source": [
        "from google.colab import drive, files\n",
        "drive.mount('/content/drive')\n",
        "\n",
        "TRAIN_SENTENCES_FILE_PATH = \"/content/drive/MyDrive/Colab Notebooks/baseline_dataset/sentences_train.txt\"\n",
        "DEV_SENTENCES_FILE_PATH = \"/content/drive/MyDrive/Colab Notebooks/baseline_dataset/sentences_dev.txt\"\n",
        "TEST_SENTENCES_FILE_PATH = \"/content/drive/MyDrive/Colab Notebooks/baseline_dataset/sentences_test.txt\"\n",
        "\n",
        "TRAIN_DEP_FILE_PATH = \"/content/drive/MyDrive/Colab Notebooks/baseline_dataset/dep_train.txt\"\n",
        "DEV_DEP_FILE_PATH = \"/content/drive/MyDrive/Colab Notebooks/baseline_dataset/dep_dev.txt\"\n",
        "TEST_DEP_FILE_PATH = \"/content/drive/MyDrive/Colab Notebooks/baseline_dataset/dep_test.txt\"\n",
        "\n",
        "TRAIN_LABELS_FILE_PATH = \"/content/drive/MyDrive/Colab Notebooks/baseline_dataset/labels_train.txt\"\n",
        "DEV_LABELS_FILE_PATH = \"/content/drive/MyDrive/Colab Notebooks/baseline_dataset/labels_dev.txt\"\n",
        "TEST_LABELS_FILE_PATH = \"/content/drive/MyDrive/Colab Notebooks/baseline_dataset/labels_test.txt\"\n",
        "\n",
        "MODEL_PATH = \"/content/drive/MyDrive/Colab Notebooks/entity_model.pth\"\n"
      ],
      "execution_count": 3,
      "outputs": [
        {
          "output_type": "stream",
          "name": "stdout",
          "text": [
            "Mounted at /content/drive\n"
          ]
        }
      ]
    },
    {
      "cell_type": "code",
      "metadata": {
        "colab": {
          "base_uri": "https://localhost:8080/",
          "height": 202
        },
        "id": "4H9-p_rRYqKX",
        "outputId": "a224c718-0a55-4e98-9b31-3e954e135d82"
      },
      "source": [
        "sentences = pd.read_csv(DEV_SENTENCES_FILE_PATH, delimiter='\\t', header = None, names = ['sentence'])\n",
        "sentences.head()"
      ],
      "execution_count": null,
      "outputs": [
        {
          "output_type": "execute_result",
          "data": {
            "text/html": [
              "<div>\n",
              "<style scoped>\n",
              "    .dataframe tbody tr th:only-of-type {\n",
              "        vertical-align: middle;\n",
              "    }\n",
              "\n",
              "    .dataframe tbody tr th {\n",
              "        vertical-align: top;\n",
              "    }\n",
              "\n",
              "    .dataframe thead th {\n",
              "        text-align: right;\n",
              "    }\n",
              "</style>\n",
              "<table border=\"1\" class=\"dataframe\">\n",
              "  <thead>\n",
              "    <tr style=\"text-align: right;\">\n",
              "      <th></th>\n",
              "      <th>sentence</th>\n",
              "    </tr>\n",
              "  </thead>\n",
              "  <tbody>\n",
              "    <tr>\n",
              "      <th>0</th>\n",
              "      <td>put a credit card on a couch</td>\n",
              "    </tr>\n",
              "    <tr>\n",
              "      <th>1</th>\n",
              "      <td>move the credit card from the shelf to the sofa</td>\n",
              "    </tr>\n",
              "    <tr>\n",
              "      <th>2</th>\n",
              "      <td>move a credit card from a shelf to the couch</td>\n",
              "    </tr>\n",
              "    <tr>\n",
              "      <th>3</th>\n",
              "      <td>turn around , go to the tall black shelves</td>\n",
              "    </tr>\n",
              "    <tr>\n",
              "      <th>4</th>\n",
              "      <td>pick up the credit card on the shelf</td>\n",
              "    </tr>\n",
              "  </tbody>\n",
              "</table>\n",
              "</div>"
            ],
            "text/plain": [
              "                                          sentence\n",
              "0                     put a credit card on a couch\n",
              "1  move the credit card from the shelf to the sofa\n",
              "2     move a credit card from a shelf to the couch\n",
              "3       turn around , go to the tall black shelves\n",
              "4             pick up the credit card on the shelf"
            ]
          },
          "metadata": {},
          "execution_count": 5
        }
      ]
    },
    {
      "cell_type": "code",
      "metadata": {
        "colab": {
          "base_uri": "https://localhost:8080/"
        },
        "id": "vVfQQvlDarR0",
        "outputId": "7f8879e2-88bd-4292-c2d7-6af489e9a4ee"
      },
      "source": [
        "len(sentences)"
      ],
      "execution_count": null,
      "outputs": [
        {
          "output_type": "execute_result",
          "data": {
            "text/plain": [
              "6379"
            ]
          },
          "metadata": {},
          "execution_count": 6
        }
      ]
    },
    {
      "cell_type": "code",
      "metadata": {
        "id": "cnHN5AzU48yu"
      },
      "source": [
        "# preprocess dependency parsing relations using one-hot encoding\n",
        "\n",
        "# Collect all the dependency relations that occur in all the datasets\n",
        "def collect_dep_relations(input_files):\n",
        "    dep_set = set()\n",
        "    \n",
        "    for file in input_files:\n",
        "        with open(file, \"r\") as f:\n",
        "            for line in f:\n",
        "                dep_list = line.split()\n",
        "                for dep in dep_list:\n",
        "                    dep_set.add(dep)\n",
        "\n",
        "    return dep_set\n",
        "\n",
        "\n",
        "# Transform the categorical column into their numerical counterparts, via the\n",
        "# one-hot encoding scheme.\n",
        "def create_dep_encoding(dep_set):\n",
        "    ids = []\n",
        "    id = 0\n",
        "    dep_list = list(dep_set)\n",
        "\n",
        "    for dep in dep_list:\n",
        "        ids.append(id)\n",
        "        id += 1\n",
        "    \n",
        "    df = pd.DataFrame(list(zip(ids, dep_list)), columns = ['Id', 'Dep'])\n",
        "    dep_df = pd.get_dummies(df.Dep)\n",
        "\n",
        "    return dep_df\n",
        "\n",
        "\n",
        "# Return the vector of a dependency relation\n",
        "# Ouput is a 41-dimensional vector\n",
        "def get_dep_vector(dep_df, dep_string):\n",
        "\n",
        "    try:\n",
        "        return np.array(dep_df[dep_string].tolist(), dtype = np.float32)\n",
        "    except KeyError as e:\n",
        "        print(\"Error: Dependency relation not found\")\n",
        "        null_dep = np.zeros(depset_size, dtype = np.float32)\n",
        "        return null_dep\n"
      ],
      "execution_count": null,
      "outputs": []
    },
    {
      "cell_type": "code",
      "metadata": {
        "id": "FdPAjGhOvBYK",
        "colab": {
          "base_uri": "https://localhost:8080/"
        },
        "outputId": "62d80306-ce85-4492-9ade-f2802f68bd33"
      },
      "source": [
        "# Global parameters\n",
        "batchsize_global = 16\n",
        "\n",
        "# assign each label with a unique index\n",
        "roleset_size = 5\n",
        "role_to_idx = {\"O\": 0, \"B-TARGET\": 1, \"I-TARGET\": 2, \"B-RECEPTACLE\": 3, \n",
        "              \"I-RECEPTACLE\": 4}\n",
        "\n",
        "# collect the dependency relation set, and represent each dep relation using \n",
        "# one-hot encoding\n",
        "dep_set = collect_dep_relations({TRAIN_DEP_FILE_PATH, DEV_DEP_FILE_PATH, TEST_DEP_FILE_PATH})\n",
        "dep_df = create_dep_encoding(dep_set)\n",
        "# root_vector = get_dep_vector(dep_df, 'ROOT')\n",
        "\n",
        "print(\"Number of dependency relations:\", len(dep_set))\n",
        "\n",
        "depset_size = 41\n",
        "embedding_dim = 300\n",
        "\n",
        "# parameters used in EntityLinker model\n",
        "feature_dimension = depset_size + embedding_dim\n",
        "hidden_dimension = 50"
      ],
      "execution_count": null,
      "outputs": [
        {
          "output_type": "stream",
          "name": "stdout",
          "text": [
            "Number of dependency relations: 41\n"
          ]
        }
      ]
    },
    {
      "cell_type": "code",
      "metadata": {
        "id": "mB0OYcsLItld",
        "colab": {
          "base_uri": "https://localhost:8080/"
        },
        "outputId": "086ca593-3bf4-448a-93d9-0ffa601070c1"
      },
      "source": [
        "print(dep_df)"
      ],
      "execution_count": null,
      "outputs": [
        {
          "output_type": "stream",
          "name": "stdout",
          "text": [
            "    ROOT  acl  acomp  advcl  advmod  ...  prt  punct  quantmod  relcl  xcomp\n",
            "0      0    1      0      0       0  ...    0      0         0      0      0\n",
            "1      0    0      0      0       1  ...    0      0         0      0      0\n",
            "2      0    0      0      0       0  ...    0      0         0      0      0\n",
            "3      0    0      0      0       0  ...    0      0         0      0      0\n",
            "4      0    0      0      0       0  ...    0      0         0      0      0\n",
            "5      0    0      0      0       0  ...    0      0         0      0      0\n",
            "6      0    0      0      0       0  ...    0      0         0      0      0\n",
            "7      0    0      0      0       0  ...    0      0         0      0      0\n",
            "8      0    0      0      0       0  ...    0      0         0      0      0\n",
            "9      0    0      0      0       0  ...    0      0         0      0      0\n",
            "10     0    0      0      0       0  ...    0      0         0      0      0\n",
            "11     0    0      0      0       0  ...    0      0         0      1      0\n",
            "12     0    0      0      0       0  ...    0      0         0      0      0\n",
            "13     0    0      0      0       0  ...    0      1         0      0      0\n",
            "14     0    0      0      0       0  ...    0      0         0      0      0\n",
            "15     0    0      0      1       0  ...    0      0         0      0      0\n",
            "16     0    0      0      0       0  ...    0      0         0      0      0\n",
            "17     0    0      0      0       0  ...    0      0         0      0      0\n",
            "18     0    0      0      0       0  ...    0      0         0      0      0\n",
            "19     0    0      0      0       0  ...    0      0         0      0      0\n",
            "20     0    0      1      0       0  ...    0      0         0      0      0\n",
            "21     0    0      0      0       0  ...    0      0         0      0      0\n",
            "22     0    0      0      0       0  ...    0      0         0      0      0\n",
            "23     0    0      0      0       0  ...    0      0         0      0      0\n",
            "24     0    0      0      0       0  ...    0      0         0      0      0\n",
            "25     0    0      0      0       0  ...    0      0         0      0      0\n",
            "26     0    0      0      0       0  ...    0      0         0      0      0\n",
            "27     0    0      0      0       0  ...    0      0         0      0      0\n",
            "28     0    0      0      0       0  ...    0      0         0      0      0\n",
            "29     0    0      0      0       0  ...    0      0         0      0      1\n",
            "30     0    0      0      0       0  ...    0      0         0      0      0\n",
            "31     0    0      0      0       0  ...    0      0         1      0      0\n",
            "32     1    0      0      0       0  ...    0      0         0      0      0\n",
            "33     0    0      0      0       0  ...    0      0         0      0      0\n",
            "34     0    0      0      0       0  ...    0      0         0      0      0\n",
            "35     0    0      0      0       0  ...    0      0         0      0      0\n",
            "36     0    0      0      0       0  ...    1      0         0      0      0\n",
            "37     0    0      0      0       0  ...    0      0         0      0      0\n",
            "38     0    0      0      0       0  ...    0      0         0      0      0\n",
            "39     0    0      0      0       0  ...    0      0         0      0      0\n",
            "40     0    0      0      0       0  ...    0      0         0      0      0\n",
            "\n",
            "[41 rows x 41 columns]\n"
          ]
        }
      ]
    },
    {
      "cell_type": "markdown",
      "metadata": {
        "id": "O_yojr-zey-i"
      },
      "source": [
        "maybe using segment id as a feature?"
      ]
    },
    {
      "cell_type": "code",
      "metadata": {
        "id": "6qu-HMhHrLFx"
      },
      "source": [
        "#Initialising the dataset using pytorch\n",
        "class ELDataset(Dataset):\n",
        "\n",
        "    def __init__(self, nlp_model, sentence_file, dep_file, label_file, dep_feature = True, emb_feature = True):\n",
        "        self.nlp = nlp_model\n",
        "        self.sentence_file = pd.read_csv(sentence_file, delimiter='\\t', \n",
        "                                     header = None, names = ['sentence'])\n",
        "        self.dep_file = pd.read_csv(dep_file, delimiter='\\t', \n",
        "                                    header = None, names = ['dependency'])\n",
        "        self.label_file = pd.read_csv(label_file, delimiter='\\t', \n",
        "                                      header = None, names = ['label'])\n",
        "        # self.feature_dim = depset_size + embedding_dim\n",
        "        self.dep_feature = dep_feature\n",
        "        self.emb_feature = emb_feature\n",
        "\n",
        "        if dep_feature and emb_feature:\n",
        "            self.feature_dim = depset_size + embedding_dim\n",
        "        elif not dep_feature: \n",
        "            self.feature_dim = embedding_dim\n",
        "        elif not emb_feature:\n",
        "            self.feature_dim = depset_size\n",
        "    \n",
        "\n",
        "    def __len__(self):\n",
        "        assert len(self.sentence_file) == len(self.dep_file)\n",
        "        assert len(self.sentence_file) == len(self.dep_file)\n",
        "        return len(self.sentence_file)\n",
        "    \n",
        "    # ouput is a 300-dimensional vector (numpy.array)\n",
        "    def get_spacy_embedding(self, token_string):\n",
        "        token = token_string.lower()\n",
        "        minimum_n_gram_len = 1\n",
        "\n",
        "        # if the word has a vector, the result is the pre-trained vector;\n",
        "        # if the word is out of vocabulary, then the resulting vector uses \n",
        "        # FastText’s subword features by average over n-grams of orth\n",
        "        if self.nlp.vocab.has_vector(token):\n",
        "            vector = self.nlp.vocab.get_vector(token)\n",
        "        else:\n",
        "            vector = self.nlp.vocab.get_vector(token, minn = minimum_n_gram_len)\n",
        "        \n",
        "        return vector\n",
        "    \n",
        "    # concatenate word embedding (300d) with dependency relation (41d)\n",
        "    # output is a 341 dimensional feature (numpy.array)\n",
        "    def prepare_token_feature(self, token_string, dep_string):\n",
        "        vector = self.get_spacy_embedding(token_string)\n",
        "        dep = get_dep_vector(dep_df, dep_string)\n",
        "        if self.dep_feature and self.emb_feature:\n",
        "            token_feature = np.append(vector, dep)\n",
        "        elif not self.dep_feature: \n",
        "            token_feature = vector\n",
        "        elif not self.emb_feature:\n",
        "            token_feature = dep\n",
        "        return token_feature\n",
        "    \n",
        "    # get the numerical value of the labels\n",
        "    # return the a numpy array of labels for a sentence\n",
        "    def prepare_labels(self, label_list, role_to_idx):\n",
        "        ids = [role_to_idx[role] for role in label_list]\n",
        "        return np.array(ids)\n",
        "    \n",
        "    \n",
        "    def __getitem__(self, index):\n",
        "        \n",
        "        desc = self.sentence_file.loc[index, 'sentence'].split()\n",
        "        dep = self.dep_file.loc[index, 'dependency'].split()\n",
        "        label = self.label_file.loc[index, 'label'].split()\n",
        "\n",
        "        token_count = len(desc)\n",
        "        tensor_shape = (token_count, self.feature_dim,)\n",
        "        sentence_tensor = torch.zeros(tensor_shape)\n",
        "\n",
        "        token_idx = 0\n",
        "        for token in desc:\n",
        "            token_feature = self.prepare_token_feature(token, dep[token_idx])\n",
        "            token_f_tensor = torch.from_numpy(token_feature).float()\n",
        "            sentence_tensor[token_idx] = token_f_tensor\n",
        "            token_idx += 1\n",
        "\n",
        "        label_array = self.prepare_labels(label, role_to_idx)\n",
        "        label_tensor = torch.from_numpy(label_array)\n",
        "\n",
        "        return sentence_tensor, label_tensor\n"
      ],
      "execution_count": null,
      "outputs": []
    },
    {
      "cell_type": "code",
      "metadata": {
        "id": "kUtnoYy5cfmh"
      },
      "source": [
        "# In a batch of the sentences, sequences have variable length, so we need to\n",
        "# pad them to the same size\n",
        "def pad_collate(batch):\n",
        "    (xx, yy) = zip(*batch)\n",
        "    # x_lens_t = torch.tensor([len(x) for x in xx])\n",
        "    # y_lens_t = torch.tensor([len(y) for y in yy])\n",
        "\n",
        "    x_lens = [len(x) for x in xx]\n",
        "    y_lens = [len(y) for y in yy]\n",
        "\n",
        "    padding_tensor = 0\n",
        "    # the label for the pad token is -1\n",
        "    padding_label = -1\n",
        "\n",
        "    xx_pad = pad_sequence(xx, batch_first = True, padding_value = padding_tensor)\n",
        "    yy_pad = pad_sequence(yy, batch_first = True, padding_value = padding_label)\n",
        "\n",
        "    return xx_pad, yy_pad, x_lens, y_lens"
      ],
      "execution_count": null,
      "outputs": []
    },
    {
      "cell_type": "code",
      "metadata": {
        "id": "8JULKF5yuc3r"
      },
      "source": [
        "\n"
      ],
      "execution_count": null,
      "outputs": []
    },
    {
      "cell_type": "code",
      "metadata": {
        "colab": {
          "base_uri": "https://localhost:8080/"
        },
        "id": "PCgURAXsE3PI",
        "outputId": "5bdc3547-4475-4be0-9bd0-472d5531490f"
      },
      "source": [
        "# create the dataset for training, validation and testing\n",
        "train_set = ELDataset(nlp_model = nlp, sentence_file = TRAIN_SENTENCES_FILE_PATH, \n",
        "                      dep_file = TRAIN_DEP_FILE_PATH, \n",
        "                      label_file = TRAIN_LABELS_FILE_PATH)\n",
        "\n",
        "dev_set = ELDataset(nlp_model = nlp, sentence_file = DEV_SENTENCES_FILE_PATH, \n",
        "                    dep_file = DEV_DEP_FILE_PATH, \n",
        "                    label_file = DEV_LABELS_FILE_PATH)\n",
        "\n",
        "test_set = ELDataset(nlp_model = nlp, sentence_file = TEST_SENTENCES_FILE_PATH, \n",
        "                     dep_file = TEST_DEP_FILE_PATH, \n",
        "                     label_file = TEST_LABELS_FILE_PATH)\n",
        "\n",
        "# Load the dataset\n",
        "train_loader = DataLoader(train_set, batch_size = batchsize_global, \n",
        "                          shuffle=False, pin_memory=True, \n",
        "                          collate_fn = pad_collate)\n",
        "\n",
        "dev_loader = DataLoader(dev_set, batch_size = batchsize_global, \n",
        "                        shuffle=False, pin_memory=True, \n",
        "                        collate_fn = pad_collate)\n",
        "\n",
        "test_loader = DataLoader(test_set, batch_size = batchsize_global, \n",
        "                         shuffle=False, pin_memory=True, \n",
        "                         collate_fn = pad_collate)\n",
        "\n",
        "print(\"Done loading datasets.\")"
      ],
      "execution_count": null,
      "outputs": [
        {
          "output_type": "stream",
          "name": "stdout",
          "text": [
            "Done loading datasets.\n"
          ]
        }
      ]
    },
    {
      "cell_type": "code",
      "metadata": {
        "id": "4CssSO62wrQv"
      },
      "source": [
        "class EntityLinker(nn.Module):\n",
        "    \n",
        "    def __init__(self, feature_dim, hidden_dim, roleset_size):\n",
        "        super(EntityLinker, self).__init__()\n",
        "        self.feature_dim = feature_dim\n",
        "        self.hidden_dim = hidden_dim\n",
        "        self.roleset_size = roleset_size\n",
        "\n",
        "        self.lstm = nn.LSTM(self.feature_dim, self.hidden_dim, batch_first=True)\n",
        "        self.cls_layer = nn.Linear(self.hidden_dim, self.roleset_size)\n",
        "    \n",
        "    def forward(self, input_features, input_lens):\n",
        "        \n",
        "        # print(input_features.shape)\n",
        "        input_packed = pack_padded_sequence(input_features, \n",
        "                                            input_lens, batch_first = True, \n",
        "                                            enforce_sorted = False)\n",
        "        \n",
        "        # print(\"input packed shape:\", input_packed.shape)\n",
        "        lstm_out_packed, _ = self.lstm(input_packed)\n",
        "        # print(\"output packed shape:\", lstm_out_packed.batch_sizes)\n",
        "        \n",
        "        # lstm_out_padded shape: batch size x batch_max_len x lstm_hidden_dim\n",
        "        lstm_out_padded, output_lengths = pad_packed_sequence(lstm_out_packed, \n",
        "                                                              batch_first = True)\n",
        "\n",
        "        # label_out size: batch_size x batch_max_len x roleset_size\n",
        "        label_out = self.cls_layer(lstm_out_padded)        \n",
        "        \n",
        "        return label_out"
      ],
      "execution_count": null,
      "outputs": []
    },
    {
      "cell_type": "markdown",
      "metadata": {
        "id": "zQ18bw6MnAJM"
      },
      "source": [
        "## Load GPU or CPU"
      ]
    },
    {
      "cell_type": "code",
      "metadata": {
        "id": "X-DYdrdWcai0"
      },
      "source": [
        "# calculate the cross entropy loss\n",
        "def loss_fn(output_padded, labels, num_tokens):\n",
        "    \n",
        "    batch_ce_loss = 0.0\n",
        "    \n",
        "    for i in range(output_padded.size(0)):\n",
        "        ce_loss = F.cross_entropy(output_padded[i], labels[i], reduction=\"sum\", ignore_index=-1)\n",
        "        batch_ce_loss += ce_loss\n",
        "    \n",
        "    loss = batch_ce_loss/num_tokens\n",
        "\n",
        "    return loss"
      ],
      "execution_count": null,
      "outputs": []
    },
    {
      "cell_type": "code",
      "metadata": {
        "id": "VzDtgYnbl2r9"
      },
      "source": [
        "# get the accuracy of predictions\n",
        "def get_accuracy_from_scores(label_scores, label):\n",
        "    role_scores = F.log_softmax(label_scores, dim=2)\n",
        "    flatten_scores = role_scores.view(-1, label_scores.shape[2])\n",
        "\n",
        "    flatten_labels = label.view(-1)\n",
        "    mask = (flatten_labels >= 0).float()\n",
        "    total_token = int(torch.sum(mask))\n",
        "\n",
        "    correct_pred = 0\n",
        "    all_preds = torch.tensor([])\n",
        "\n",
        "    for i in range(flatten_labels.shape[0]):\n",
        "        pred = torch.argmax(flatten_scores[i])\n",
        "        \n",
        "        if (flatten_labels[i] >= 0):\n",
        "            pred_dim1 = torch.tensor([pred.item()])\n",
        "            all_preds = torch.cat((all_preds, pred_dim1), dim=0)\n",
        "\n",
        "            if (flatten_labels[i] == pred):\n",
        "                correct_pred += 1\n",
        "\n",
        "    acc = correct_pred / total_token\n",
        "    # print(all_preds.shape, total_token)\n",
        "    return acc, all_preds\n",
        "\n",
        "\n",
        "# get fp, tp, fn of B-RECEPTACLE\n",
        "def get_recep_results(label_scores, label):\n",
        "    \n",
        "    role_scores = F.log_softmax(label_scores, dim=2)\n",
        "    flatten_scores = role_scores.view(-1, label_scores.shape[2])\n",
        "    \n",
        "    flatten_labels = label.view(-1)\n",
        "    mask = (flatten_labels >= 0).float()\n",
        "    total_token = int(torch.sum(mask))\n",
        "\n",
        "    recep_count = 0\n",
        "    tp = 0\n",
        "    fp = 0\n",
        "    fn = 0\n",
        "\n",
        "    for i in range(flatten_labels.shape[0]):\n",
        "        pred = torch.argmax(flatten_scores[i])\n",
        "        if (flatten_labels[i] == 3):\n",
        "            recep_count += 1\n",
        "            if (pred == 3):\n",
        "                tp += 1\n",
        "            else:\n",
        "                fn += 1\n",
        "        elif (flatten_labels[i] >= 0):\n",
        "            if (pred == 3 and flatten_labels[i] != 3):\n",
        "                fp += 1\n",
        "    \n",
        "    # i_recep_f = tp/(tp + 0.5*(fp + fn))\n",
        "    return recep_count, tp, fp, fn\n",
        "            "
      ],
      "execution_count": null,
      "outputs": []
    },
    {
      "cell_type": "code",
      "metadata": {
        "id": "AcCCvXdh2tgQ"
      },
      "source": [
        "def evaluate(model, dev_loader, device):\n",
        "    model.eval()\n",
        "\n",
        "    mean_acc = 0\n",
        "    count = 0\n",
        "    rec_total = 0\n",
        "    tps = 0\n",
        "    fps = 0\n",
        "    fns = 0\n",
        "    \n",
        "    all_preds = torch.tensor([])\n",
        "    \n",
        "    with torch.no_grad():\n",
        "        for batch in dev_loader:\n",
        "            x_padded, labels_padded, x_lens, labels_lens = batch\n",
        "            input = x_padded.to(device)\n",
        "            label = labels_padded.to(device)\n",
        "            input_lens = x_lens\n",
        "            label_lens = labels_lens\n",
        "\n",
        "            label_scores = model(input, input_lens)\n",
        "            \n",
        "            acc, batch_preds = get_accuracy_from_scores(label_scores, label)\n",
        "            all_preds = torch.cat((all_preds, batch_preds), dim=0)\n",
        "            mean_acc += acc\n",
        "            count += 1\n",
        "            \n",
        "            recep_count, tp, fp, fn = get_recep_results(label_scores, label)\n",
        "            rec_total += recep_count\n",
        "            tps += tp\n",
        "            fps += fp\n",
        "            fns += fn\n",
        "\n",
        "    i_recep_f = tps/(tps + 0.5*(fps + fns))           \n",
        "    \n",
        "    return i_recep_f, mean_acc/count, all_preds"
      ],
      "execution_count": null,
      "outputs": []
    },
    {
      "cell_type": "code",
      "metadata": {
        "id": "FTZMqNio96x3"
      },
      "source": [
        "def train(model, loss_fn, optimizer, train_loader, dev_loader, max_eps, device):\n",
        "\n",
        "    st = time.time()\n",
        "    dev_history = []\n",
        "    best_dev_f = 0\n",
        "    best_model = None\n",
        "\n",
        "    for ep in range(max_eps):\n",
        "        model.train()\n",
        "        for iter, batch in enumerate(train_loader):\n",
        "            optimizer.zero_grad()\n",
        "\n",
        "            x_padded, labels_padded, x_lens, labels_lens = batch\n",
        "            input = x_padded.to(device)\n",
        "            label = labels_padded.to(device)\n",
        "            input_lens = x_lens\n",
        "            label_lens = labels_lens\n",
        "\n",
        "            label_scores = model(input, input_lens)\n",
        "            loss = loss_fn(label_scores, label, sum(label_lens))\n",
        "            \n",
        "            loss.backward()\n",
        "            optimizer.step()\n",
        "            \n",
        "            if iter % 100 == 0:\n",
        "                # acc, all_preds = get_accuracy_from_scores(label_scores, label)\n",
        "                recep_count, tp, fp, fn = get_recep_results(label_scores, label)\n",
        "                recep_f = tp/(tp + 0.5*(fp + fn))\n",
        "                print(\"Iteration {} of epoch {} complete, Loss: {}; B-Receptacle f-score: {:0.3f}; Time taken (s): {}\"\n",
        "                    .format(iter, ep, loss.item(), recep_f, (time.time()-st)))\n",
        "                st = time.time()\n",
        "        \n",
        "        dev_rec_f, dev_acc, dev_preds = evaluate(model, dev_loader, device)\n",
        "        dev_history.append(dev_rec_f)\n",
        "        print(\"Epoch {} complete! Development accuracy: {:0.3f}; Development B-RECEPTACLE f-score: {:0.3f};\".format(ep, dev_acc, dev_rec_f))\n",
        "\n",
        "        if dev_rec_f > best_dev_f:\n",
        "            best_dev_f = dev_rec_f\n",
        "            best_model = model\n",
        "    \n",
        "    return dev_history, best_model"
      ],
      "execution_count": null,
      "outputs": []
    },
    {
      "cell_type": "code",
      "metadata": {
        "id": "XXXAsv2Dxfg-",
        "colab": {
          "base_uri": "https://localhost:8080/"
        },
        "outputId": "1978897b-9383-470c-9b16-2307e3c9231b"
      },
      "source": [
        "# Run the entity linker on GPU / CPU\n",
        "model = EntityLinker(feature_dim = feature_dimension, \n",
        "                     hidden_dim = hidden_dimension, \n",
        "                     roleset_size = roleset_size)\n",
        "model.to(device)\n",
        "optimizer = optim.Adam(model.parameters(), lr = 2e-3)\n",
        "print(\"Done creating the entity linker\")"
      ],
      "execution_count": null,
      "outputs": [
        {
          "output_type": "stream",
          "name": "stdout",
          "text": [
            "Done creating the entity linker\n"
          ]
        }
      ]
    },
    {
      "cell_type": "code",
      "metadata": {
        "id": "Ibb3_aoyjFd8",
        "colab": {
          "base_uri": "https://localhost:8080/"
        },
        "outputId": "8e7b48a0-3a27-4194-cef6-e9f686f1feca"
      },
      "source": [
        "num_epoch = 20\n",
        "development_recep_history, best_model = train(model, loss_fn, optimizer, train_loader, dev_loader, num_epoch, device)"
      ],
      "execution_count": null,
      "outputs": [
        {
          "output_type": "stream",
          "name": "stdout",
          "text": [
            "Iteration 0 of epoch 0 complete, Loss: 1.594138503074646; B-Receptacle f-score: 0.000; Time taken (s): 0.3972296714782715\n",
            "Iteration 100 of epoch 0 complete, Loss: 0.3831370770931244; B-Receptacle f-score: 0.583; Time taken (s): 4.1095898151397705\n",
            "Iteration 200 of epoch 0 complete, Loss: 0.4553120732307434; B-Receptacle f-score: 0.000; Time taken (s): 4.344371557235718\n",
            "Iteration 300 of epoch 0 complete, Loss: 0.10032480210065842; B-Receptacle f-score: 0.774; Time taken (s): 4.152836799621582\n",
            "Iteration 400 of epoch 0 complete, Loss: 0.12925182282924652; B-Receptacle f-score: 0.000; Time taken (s): 4.257619380950928\n",
            "Iteration 500 of epoch 0 complete, Loss: 0.07868731766939163; B-Receptacle f-score: 1.000; Time taken (s): 4.281137466430664\n",
            "Iteration 600 of epoch 0 complete, Loss: 0.2097741812467575; B-Receptacle f-score: 0.000; Time taken (s): 4.204600811004639\n",
            "Iteration 700 of epoch 0 complete, Loss: 0.05898120254278183; B-Receptacle f-score: 0.286; Time taken (s): 4.142670154571533\n",
            "Iteration 800 of epoch 0 complete, Loss: 0.11351622641086578; B-Receptacle f-score: 0.200; Time taken (s): 3.9296865463256836\n",
            "Iteration 900 of epoch 0 complete, Loss: 0.045352835208177567; B-Receptacle f-score: 1.000; Time taken (s): 4.3550426959991455\n",
            "Iteration 1000 of epoch 0 complete, Loss: 0.08960136771202087; B-Receptacle f-score: 0.353; Time taken (s): 4.179119110107422\n",
            "Iteration 1100 of epoch 0 complete, Loss: 0.11697664111852646; B-Receptacle f-score: 0.167; Time taken (s): 4.241577625274658\n",
            "Iteration 1200 of epoch 0 complete, Loss: 0.11942601948976517; B-Receptacle f-score: 0.721; Time taken (s): 4.3469319343566895\n",
            "Iteration 1300 of epoch 0 complete, Loss: 0.11084529757499695; B-Receptacle f-score: 0.435; Time taken (s): 4.27204155921936\n",
            "Iteration 1400 of epoch 0 complete, Loss: 0.1057460606098175; B-Receptacle f-score: 0.864; Time taken (s): 4.098614692687988\n",
            "Iteration 1500 of epoch 0 complete, Loss: 0.10890565812587738; B-Receptacle f-score: 0.769; Time taken (s): 4.387552261352539\n",
            "Epoch 0 complete! Development accuracy: 0.941; Development B-RECEPTACLE f-score: 0.609;\n",
            "Iteration 0 of epoch 1 complete, Loss: 0.08741431683301926; B-Receptacle f-score: 0.786; Time taken (s): 120.02182674407959\n",
            "Iteration 100 of epoch 1 complete, Loss: 0.0711759403347969; B-Receptacle f-score: 0.786; Time taken (s): 4.281392812728882\n",
            "Iteration 200 of epoch 1 complete, Loss: 0.3109005391597748; B-Receptacle f-score: 0.078; Time taken (s): 4.442835092544556\n",
            "Iteration 300 of epoch 1 complete, Loss: 0.04571330547332764; B-Receptacle f-score: 0.897; Time taken (s): 4.271652698516846\n",
            "Iteration 400 of epoch 1 complete, Loss: 0.06551302224397659; B-Receptacle f-score: 0.939; Time taken (s): 4.528522729873657\n",
            "Iteration 500 of epoch 1 complete, Loss: 0.0511857345700264; B-Receptacle f-score: 0.857; Time taken (s): 4.315793037414551\n",
            "Iteration 600 of epoch 1 complete, Loss: 0.22281424701213837; B-Receptacle f-score: 0.216; Time taken (s): 4.42066216468811\n",
            "Iteration 700 of epoch 1 complete, Loss: 0.05731042101979256; B-Receptacle f-score: 0.609; Time taken (s): 4.5680623054504395\n",
            "Iteration 800 of epoch 1 complete, Loss: 0.09471786022186279; B-Receptacle f-score: 0.615; Time taken (s): 4.25557279586792\n",
            "Iteration 900 of epoch 1 complete, Loss: 0.03606579825282097; B-Receptacle f-score: 0.980; Time taken (s): 4.5934529304504395\n",
            "Iteration 1000 of epoch 1 complete, Loss: 0.09525410085916519; B-Receptacle f-score: 0.667; Time taken (s): 4.430710077285767\n",
            "Iteration 1100 of epoch 1 complete, Loss: 0.10850135236978531; B-Receptacle f-score: 0.286; Time taken (s): 4.573449611663818\n",
            "Iteration 1200 of epoch 1 complete, Loss: 0.0702911987900734; B-Receptacle f-score: 0.889; Time taken (s): 4.566787958145142\n",
            "Iteration 1300 of epoch 1 complete, Loss: 0.0843939483165741; B-Receptacle f-score: 0.500; Time taken (s): 4.471273899078369\n",
            "Iteration 1400 of epoch 1 complete, Loss: 0.10754413902759552; B-Receptacle f-score: 0.864; Time taken (s): 4.480206489562988\n",
            "Iteration 1500 of epoch 1 complete, Loss: 0.09471540153026581; B-Receptacle f-score: 0.615; Time taken (s): 4.5313498973846436\n",
            "Epoch 1 complete! Development accuracy: 0.952; Development B-RECEPTACLE f-score: 0.679;\n",
            "Iteration 0 of epoch 2 complete, Loss: 0.08759237825870514; B-Receptacle f-score: 0.741; Time taken (s): 124.18350577354431\n",
            "Iteration 100 of epoch 2 complete, Loss: 0.05516677349805832; B-Receptacle f-score: 0.800; Time taken (s): 3.9959774017333984\n",
            "Iteration 200 of epoch 2 complete, Loss: 0.25897112488746643; B-Receptacle f-score: 0.091; Time taken (s): 4.22148585319519\n",
            "Iteration 300 of epoch 2 complete, Loss: 0.03967849910259247; B-Receptacle f-score: 0.897; Time taken (s): 4.168884038925171\n",
            "Iteration 400 of epoch 2 complete, Loss: 0.06045180559158325; B-Receptacle f-score: 0.556; Time taken (s): 4.214905261993408\n",
            "Iteration 500 of epoch 2 complete, Loss: 0.06184962019324303; B-Receptacle f-score: 0.690; Time taken (s): 4.095662355422974\n",
            "Iteration 600 of epoch 2 complete, Loss: 0.20523616671562195; B-Receptacle f-score: 0.276; Time taken (s): 4.182097911834717\n",
            "Iteration 700 of epoch 2 complete, Loss: 0.051300399005413055; B-Receptacle f-score: 0.609; Time taken (s): 4.388427019119263\n",
            "Iteration 800 of epoch 2 complete, Loss: 0.09724906831979752; B-Receptacle f-score: 0.560; Time taken (s): 4.020717620849609\n",
            "Iteration 900 of epoch 2 complete, Loss: 0.03281021490693092; B-Receptacle f-score: 0.923; Time taken (s): 4.388925790786743\n",
            "Iteration 1000 of epoch 2 complete, Loss: 0.08817087858915329; B-Receptacle f-score: 0.696; Time taken (s): 4.135828495025635\n",
            "Iteration 1100 of epoch 2 complete, Loss: 0.10301622003316879; B-Receptacle f-score: 0.250; Time taken (s): 4.13975191116333\n",
            "Iteration 1200 of epoch 2 complete, Loss: 0.06377039849758148; B-Receptacle f-score: 0.682; Time taken (s): 4.341169357299805\n",
            "Iteration 1300 of epoch 2 complete, Loss: 0.06465059518814087; B-Receptacle f-score: 0.909; Time taken (s): 4.234518527984619\n",
            "Iteration 1400 of epoch 2 complete, Loss: 0.10015872865915298; B-Receptacle f-score: 0.950; Time taken (s): 4.226749420166016\n",
            "Iteration 1500 of epoch 2 complete, Loss: 0.08753013610839844; B-Receptacle f-score: 0.667; Time taken (s): 4.3140411376953125\n",
            "Epoch 2 complete! Development accuracy: 0.952; Development B-RECEPTACLE f-score: 0.661;\n",
            "Iteration 0 of epoch 3 complete, Loss: 0.08817407488822937; B-Receptacle f-score: 0.692; Time taken (s): 120.44942784309387\n",
            "Iteration 100 of epoch 3 complete, Loss: 0.05780168995261192; B-Receptacle f-score: 0.783; Time taken (s): 4.207742691040039\n",
            "Iteration 200 of epoch 3 complete, Loss: 0.24990049004554749; B-Receptacle f-score: 0.098; Time taken (s): 4.416043758392334\n",
            "Iteration 300 of epoch 3 complete, Loss: 0.05558493733406067; B-Receptacle f-score: 0.857; Time taken (s): 4.248588800430298\n",
            "Iteration 400 of epoch 3 complete, Loss: 0.050209734588861465; B-Receptacle f-score: 0.564; Time taken (s): 4.328974485397339\n",
            "Iteration 500 of epoch 3 complete, Loss: 0.04237255081534386; B-Receptacle f-score: 0.973; Time taken (s): 4.0596723556518555\n",
            "Iteration 600 of epoch 3 complete, Loss: 0.18390235304832458; B-Receptacle f-score: 0.345; Time taken (s): 4.25979471206665\n",
            "Iteration 700 of epoch 3 complete, Loss: 0.0452195480465889; B-Receptacle f-score: 0.538; Time taken (s): 4.189027309417725\n",
            "Iteration 800 of epoch 3 complete, Loss: 0.0809759721159935; B-Receptacle f-score: 0.615; Time taken (s): 3.8781943321228027\n",
            "Iteration 900 of epoch 3 complete, Loss: 0.02280844934284687; B-Receptacle f-score: 1.000; Time taken (s): 4.3733439445495605\n",
            "Iteration 1000 of epoch 3 complete, Loss: 0.08523538708686829; B-Receptacle f-score: 0.750; Time taken (s): 4.195581912994385\n",
            "Iteration 1100 of epoch 3 complete, Loss: 0.09898582100868225; B-Receptacle f-score: 0.333; Time taken (s): 4.202520132064819\n",
            "Iteration 1200 of epoch 3 complete, Loss: 0.06098401919007301; B-Receptacle f-score: 0.750; Time taken (s): 4.25503134727478\n",
            "Iteration 1300 of epoch 3 complete, Loss: 0.05492980033159256; B-Receptacle f-score: 0.941; Time taken (s): 4.212067127227783\n",
            "Iteration 1400 of epoch 3 complete, Loss: 0.10847250372171402; B-Receptacle f-score: 0.950; Time taken (s): 4.285795450210571\n",
            "Iteration 1500 of epoch 3 complete, Loss: 0.06921932101249695; B-Receptacle f-score: 0.615; Time taken (s): 4.399669885635376\n",
            "Epoch 3 complete! Development accuracy: 0.951; Development B-RECEPTACLE f-score: 0.669;\n",
            "Iteration 0 of epoch 4 complete, Loss: 0.0910705104470253; B-Receptacle f-score: 0.692; Time taken (s): 118.00262594223022\n",
            "Iteration 100 of epoch 4 complete, Loss: 0.06852510571479797; B-Receptacle f-score: 0.741; Time taken (s): 4.062943935394287\n",
            "Iteration 200 of epoch 4 complete, Loss: 0.2516218423843384; B-Receptacle f-score: 0.148; Time taken (s): 4.313643455505371\n",
            "Iteration 300 of epoch 4 complete, Loss: 0.04184810817241669; B-Receptacle f-score: 0.929; Time taken (s): 4.094588994979858\n",
            "Iteration 400 of epoch 4 complete, Loss: 0.04231151565909386; B-Receptacle f-score: 0.867; Time taken (s): 4.394596099853516\n",
            "Iteration 500 of epoch 4 complete, Loss: 0.03653351962566376; B-Receptacle f-score: 0.909; Time taken (s): 4.215792894363403\n",
            "Iteration 600 of epoch 4 complete, Loss: 0.18704846501350403; B-Receptacle f-score: 0.345; Time taken (s): 4.270095586776733\n",
            "Iteration 700 of epoch 4 complete, Loss: 0.03327426314353943; B-Receptacle f-score: 0.875; Time taken (s): 4.212492942810059\n",
            "Iteration 800 of epoch 4 complete, Loss: 0.09333368390798569; B-Receptacle f-score: 0.538; Time taken (s): 4.1387786865234375\n",
            "Iteration 900 of epoch 4 complete, Loss: 0.024583954364061356; B-Receptacle f-score: 0.943; Time taken (s): 4.589980840682983\n",
            "Iteration 1000 of epoch 4 complete, Loss: 0.0754750669002533; B-Receptacle f-score: 0.692; Time taken (s): 4.356602191925049\n",
            "Iteration 1100 of epoch 4 complete, Loss: 0.09998190402984619; B-Receptacle f-score: 0.286; Time taken (s): 4.409245252609253\n",
            "Iteration 1200 of epoch 4 complete, Loss: 0.05804891511797905; B-Receptacle f-score: 0.698; Time taken (s): 4.472624778747559\n",
            "Iteration 1300 of epoch 4 complete, Loss: 0.07314437627792358; B-Receptacle f-score: 0.625; Time taken (s): 4.404834747314453\n",
            "Iteration 1400 of epoch 4 complete, Loss: 0.09406523406505585; B-Receptacle f-score: 0.950; Time taken (s): 4.23728084564209\n",
            "Iteration 1500 of epoch 4 complete, Loss: 0.07132729142904282; B-Receptacle f-score: 0.667; Time taken (s): 4.4838855266571045\n",
            "Epoch 4 complete! Development accuracy: 0.952; Development B-RECEPTACLE f-score: 0.681;\n",
            "Iteration 0 of epoch 5 complete, Loss: 0.06527994573116302; B-Receptacle f-score: 0.741; Time taken (s): 123.7990050315857\n",
            "Iteration 100 of epoch 5 complete, Loss: 0.054917000234127045; B-Receptacle f-score: 0.870; Time taken (s): 4.2424609661102295\n",
            "Iteration 200 of epoch 5 complete, Loss: 0.25347810983657837; B-Receptacle f-score: 0.075; Time taken (s): 4.341021776199341\n",
            "Iteration 300 of epoch 5 complete, Loss: 0.042851876467466354; B-Receptacle f-score: 0.897; Time taken (s): 4.144197225570679\n",
            "Iteration 400 of epoch 5 complete, Loss: 0.04605656862258911; B-Receptacle f-score: 0.732; Time taken (s): 4.440302133560181\n",
            "Iteration 500 of epoch 5 complete, Loss: 0.03215596079826355; B-Receptacle f-score: 0.909; Time taken (s): 4.3750646114349365\n",
            "Iteration 600 of epoch 5 complete, Loss: 0.17837075889110565; B-Receptacle f-score: 0.414; Time taken (s): 4.528396844863892\n",
            "Iteration 700 of epoch 5 complete, Loss: 0.042162664234638214; B-Receptacle f-score: 0.609; Time taken (s): 4.498033285140991\n",
            "Iteration 800 of epoch 5 complete, Loss: 0.08794562518596649; B-Receptacle f-score: 0.733; Time taken (s): 4.121125221252441\n",
            "Iteration 900 of epoch 5 complete, Loss: 0.026532061398029327; B-Receptacle f-score: 0.943; Time taken (s): 4.589852333068848\n",
            "Iteration 1000 of epoch 5 complete, Loss: 0.08137118816375732; B-Receptacle f-score: 0.741; Time taken (s): 4.399795055389404\n",
            "Iteration 1100 of epoch 5 complete, Loss: 0.08447222411632538; B-Receptacle f-score: 0.333; Time taken (s): 4.505239486694336\n",
            "Iteration 1200 of epoch 5 complete, Loss: 0.056401390582323074; B-Receptacle f-score: 0.750; Time taken (s): 4.554613351821899\n",
            "Iteration 1300 of epoch 5 complete, Loss: 0.06022537127137184; B-Receptacle f-score: 0.800; Time taken (s): 4.349009037017822\n",
            "Iteration 1400 of epoch 5 complete, Loss: 0.08476263284683228; B-Receptacle f-score: 0.950; Time taken (s): 4.289985179901123\n",
            "Iteration 1500 of epoch 5 complete, Loss: 0.06159830093383789; B-Receptacle f-score: 0.769; Time taken (s): 4.4845921993255615\n",
            "Epoch 5 complete! Development accuracy: 0.954; Development B-RECEPTACLE f-score: 0.685;\n",
            "Iteration 0 of epoch 6 complete, Loss: 0.07898394763469696; B-Receptacle f-score: 0.741; Time taken (s): 123.18920063972473\n",
            "Iteration 100 of epoch 6 complete, Loss: 0.06901665776968002; B-Receptacle f-score: 0.800; Time taken (s): 4.233579158782959\n",
            "Iteration 200 of epoch 6 complete, Loss: 0.2670463025569916; B-Receptacle f-score: 0.140; Time taken (s): 4.202005624771118\n",
            "Iteration 300 of epoch 6 complete, Loss: 0.03579236567020416; B-Receptacle f-score: 0.889; Time taken (s): 4.172581195831299\n",
            "Iteration 400 of epoch 6 complete, Loss: 0.042625974863767624; B-Receptacle f-score: 0.756; Time taken (s): 4.352824687957764\n",
            "Iteration 500 of epoch 6 complete, Loss: 0.037097979336977005; B-Receptacle f-score: 0.909; Time taken (s): 4.266879081726074\n",
            "Iteration 600 of epoch 6 complete, Loss: 0.16176582872867584; B-Receptacle f-score: 0.435; Time taken (s): 4.257279634475708\n",
            "Iteration 700 of epoch 6 complete, Loss: 0.04853822663426399; B-Receptacle f-score: 0.583; Time taken (s): 4.418640375137329\n",
            "Iteration 800 of epoch 6 complete, Loss: 0.09811235219240189; B-Receptacle f-score: 0.593; Time taken (s): 4.108779430389404\n",
            "Iteration 900 of epoch 6 complete, Loss: 0.025067316368222237; B-Receptacle f-score: 0.943; Time taken (s): 4.573580265045166\n",
            "Iteration 1000 of epoch 6 complete, Loss: 0.08494777232408524; B-Receptacle f-score: 0.692; Time taken (s): 4.079464435577393\n",
            "Iteration 1100 of epoch 6 complete, Loss: 0.09276790171861649; B-Receptacle f-score: 0.364; Time taken (s): 4.29464316368103\n",
            "Iteration 1200 of epoch 6 complete, Loss: 0.06501810997724533; B-Receptacle f-score: 0.667; Time taken (s): 4.511831045150757\n",
            "Iteration 1300 of epoch 6 complete, Loss: 0.06459717452526093; B-Receptacle f-score: 0.667; Time taken (s): 4.315302610397339\n",
            "Iteration 1400 of epoch 6 complete, Loss: 0.08423793315887451; B-Receptacle f-score: 0.950; Time taken (s): 4.338078260421753\n",
            "Iteration 1500 of epoch 6 complete, Loss: 0.051993221044540405; B-Receptacle f-score: 0.923; Time taken (s): 4.309220790863037\n",
            "Epoch 6 complete! Development accuracy: 0.953; Development B-RECEPTACLE f-score: 0.681;\n",
            "Iteration 0 of epoch 7 complete, Loss: 0.0646418109536171; B-Receptacle f-score: 0.741; Time taken (s): 123.12155365943909\n",
            "Iteration 100 of epoch 7 complete, Loss: 0.058725353330373764; B-Receptacle f-score: 0.800; Time taken (s): 4.153212547302246\n",
            "Iteration 200 of epoch 7 complete, Loss: 0.2694547176361084; B-Receptacle f-score: 0.091; Time taken (s): 4.475053787231445\n",
            "Iteration 300 of epoch 7 complete, Loss: 0.036923836916685104; B-Receptacle f-score: 0.897; Time taken (s): 4.27326512336731\n",
            "Iteration 400 of epoch 7 complete, Loss: 0.04515078291296959; B-Receptacle f-score: 0.868; Time taken (s): 4.322193622589111\n",
            "Iteration 500 of epoch 7 complete, Loss: 0.033529721200466156; B-Receptacle f-score: 0.909; Time taken (s): 4.294877290725708\n",
            "Iteration 600 of epoch 7 complete, Loss: 0.17878597974777222; B-Receptacle f-score: 0.538; Time taken (s): 4.386745452880859\n",
            "Iteration 700 of epoch 7 complete, Loss: 0.04854847490787506; B-Receptacle f-score: 0.583; Time taken (s): 4.359490871429443\n",
            "Iteration 800 of epoch 7 complete, Loss: 0.09499865025281906; B-Receptacle f-score: 0.690; Time taken (s): 4.01059627532959\n",
            "Iteration 900 of epoch 7 complete, Loss: 0.026974640786647797; B-Receptacle f-score: 0.943; Time taken (s): 4.5926899909973145\n",
            "Iteration 1000 of epoch 7 complete, Loss: 0.07443191111087799; B-Receptacle f-score: 0.741; Time taken (s): 4.302535772323608\n",
            "Iteration 1100 of epoch 7 complete, Loss: 0.08365212380886078; B-Receptacle f-score: 0.333; Time taken (s): 4.526220321655273\n",
            "Iteration 1200 of epoch 7 complete, Loss: 0.05399945378303528; B-Receptacle f-score: 0.792; Time taken (s): 4.510935068130493\n",
            "Iteration 1300 of epoch 7 complete, Loss: 0.05755259096622467; B-Receptacle f-score: 0.800; Time taken (s): 4.27911376953125\n",
            "Iteration 1400 of epoch 7 complete, Loss: 0.09102798998355865; B-Receptacle f-score: 0.950; Time taken (s): 4.419358730316162\n",
            "Iteration 1500 of epoch 7 complete, Loss: 0.04818330705165863; B-Receptacle f-score: 0.833; Time taken (s): 4.509025812149048\n",
            "Epoch 7 complete! Development accuracy: 0.952; Development B-RECEPTACLE f-score: 0.673;\n",
            "Iteration 0 of epoch 8 complete, Loss: 0.059750042855739594; B-Receptacle f-score: 0.828; Time taken (s): 122.53564643859863\n",
            "Iteration 100 of epoch 8 complete, Loss: 0.06938164681196213; B-Receptacle f-score: 0.800; Time taken (s): 4.294866323471069\n",
            "Iteration 200 of epoch 8 complete, Loss: 0.2757442891597748; B-Receptacle f-score: 0.082; Time taken (s): 4.39783787727356\n",
            "Iteration 300 of epoch 8 complete, Loss: 0.032928626984357834; B-Receptacle f-score: 0.933; Time taken (s): 4.212247610092163\n",
            "Iteration 400 of epoch 8 complete, Loss: 0.04346020147204399; B-Receptacle f-score: 0.929; Time taken (s): 4.387110710144043\n",
            "Iteration 500 of epoch 8 complete, Loss: 0.03753135725855827; B-Receptacle f-score: 0.941; Time taken (s): 4.202937364578247\n",
            "Iteration 600 of epoch 8 complete, Loss: 0.18319378793239594; B-Receptacle f-score: 0.385; Time taken (s): 4.311205148696899\n",
            "Iteration 700 of epoch 8 complete, Loss: 0.04544166103005409; B-Receptacle f-score: 0.519; Time taken (s): 4.447302341461182\n",
            "Iteration 800 of epoch 8 complete, Loss: 0.08700171113014221; B-Receptacle f-score: 0.643; Time taken (s): 3.96337890625\n",
            "Iteration 900 of epoch 8 complete, Loss: 0.024146465584635735; B-Receptacle f-score: 0.943; Time taken (s): 4.513756513595581\n",
            "Iteration 1000 of epoch 8 complete, Loss: 0.07237279415130615; B-Receptacle f-score: 0.741; Time taken (s): 4.460404872894287\n",
            "Iteration 1100 of epoch 8 complete, Loss: 0.07926692068576813; B-Receptacle f-score: 0.333; Time taken (s): 4.397339820861816\n",
            "Iteration 1200 of epoch 8 complete, Loss: 0.04380439221858978; B-Receptacle f-score: 0.864; Time taken (s): 4.369487762451172\n",
            "Iteration 1300 of epoch 8 complete, Loss: 0.06786908209323883; B-Receptacle f-score: 0.706; Time taken (s): 4.288320779800415\n",
            "Iteration 1400 of epoch 8 complete, Loss: 0.08568481355905533; B-Receptacle f-score: 0.950; Time taken (s): 4.3649582862854\n",
            "Iteration 1500 of epoch 8 complete, Loss: 0.04942208155989647; B-Receptacle f-score: 0.923; Time taken (s): 4.360432147979736\n",
            "Epoch 8 complete! Development accuracy: 0.952; Development B-RECEPTACLE f-score: 0.682;\n",
            "Iteration 0 of epoch 9 complete, Loss: 0.03944886475801468; B-Receptacle f-score: 0.897; Time taken (s): 123.07606863975525\n",
            "Iteration 100 of epoch 9 complete, Loss: 0.05388467386364937; B-Receptacle f-score: 0.833; Time taken (s): 4.193129301071167\n",
            "Iteration 200 of epoch 9 complete, Loss: 0.2682334780693054; B-Receptacle f-score: 0.095; Time taken (s): 4.254509210586548\n",
            "Iteration 300 of epoch 9 complete, Loss: 0.03605864569544792; B-Receptacle f-score: 0.933; Time taken (s): 4.220167398452759\n",
            "Iteration 400 of epoch 9 complete, Loss: 0.04386497288942337; B-Receptacle f-score: 0.700; Time taken (s): 4.367872476577759\n",
            "Iteration 500 of epoch 9 complete, Loss: 0.03021356277167797; B-Receptacle f-score: 0.941; Time taken (s): 4.276239633560181\n",
            "Iteration 600 of epoch 9 complete, Loss: 0.17265649139881134; B-Receptacle f-score: 0.476; Time taken (s): 4.235237121582031\n",
            "Iteration 700 of epoch 9 complete, Loss: 0.03396628797054291; B-Receptacle f-score: 0.778; Time taken (s): 4.425142049789429\n",
            "Iteration 800 of epoch 9 complete, Loss: 0.10143683105707169; B-Receptacle f-score: 0.519; Time taken (s): 4.043290853500366\n",
            "Iteration 900 of epoch 9 complete, Loss: 0.028653312474489212; B-Receptacle f-score: 0.943; Time taken (s): 4.457334041595459\n",
            "Iteration 1000 of epoch 9 complete, Loss: 0.07723962515592575; B-Receptacle f-score: 0.741; Time taken (s): 4.374204158782959\n",
            "Iteration 1100 of epoch 9 complete, Loss: 0.0767742246389389; B-Receptacle f-score: 0.200; Time taken (s): 4.443212985992432\n",
            "Iteration 1200 of epoch 9 complete, Loss: 0.04140445962548256; B-Receptacle f-score: 0.864; Time taken (s): 4.364261627197266\n",
            "Iteration 1300 of epoch 9 complete, Loss: 0.04590921476483345; B-Receptacle f-score: 0.842; Time taken (s): 4.423858165740967\n",
            "Iteration 1400 of epoch 9 complete, Loss: 0.09012851864099503; B-Receptacle f-score: 0.950; Time taken (s): 4.442271709442139\n",
            "Iteration 1500 of epoch 9 complete, Loss: 0.04613639786839485; B-Receptacle f-score: 0.923; Time taken (s): 4.460809946060181\n",
            "Epoch 9 complete! Development accuracy: 0.953; Development B-RECEPTACLE f-score: 0.678;\n",
            "Iteration 0 of epoch 10 complete, Loss: 0.0621696412563324; B-Receptacle f-score: 0.857; Time taken (s): 122.0310549736023\n",
            "Iteration 100 of epoch 10 complete, Loss: 0.06224387511610985; B-Receptacle f-score: 0.783; Time taken (s): 4.264094829559326\n",
            "Iteration 200 of epoch 10 complete, Loss: 0.28173935413360596; B-Receptacle f-score: 0.085; Time taken (s): 4.3346030712127686\n",
            "Iteration 300 of epoch 10 complete, Loss: 0.03386319428682327; B-Receptacle f-score: 0.897; Time taken (s): 4.245351076126099\n",
            "Iteration 400 of epoch 10 complete, Loss: 0.04514692723751068; B-Receptacle f-score: 0.732; Time taken (s): 4.5909271240234375\n",
            "Iteration 500 of epoch 10 complete, Loss: 0.030387762933969498; B-Receptacle f-score: 0.971; Time taken (s): 4.404827117919922\n",
            "Iteration 600 of epoch 10 complete, Loss: 0.17040212452411652; B-Receptacle f-score: 0.455; Time taken (s): 4.292470455169678\n",
            "Iteration 700 of epoch 10 complete, Loss: 0.03448163717985153; B-Receptacle f-score: 0.700; Time taken (s): 4.412416219711304\n",
            "Iteration 800 of epoch 10 complete, Loss: 0.10884273797273636; B-Receptacle f-score: 0.571; Time taken (s): 4.145809650421143\n",
            "Iteration 900 of epoch 10 complete, Loss: 0.02452933043241501; B-Receptacle f-score: 0.943; Time taken (s): 4.446993589401245\n",
            "Iteration 1000 of epoch 10 complete, Loss: 0.07502897828817368; B-Receptacle f-score: 0.741; Time taken (s): 4.339195489883423\n",
            "Iteration 1100 of epoch 10 complete, Loss: 0.06899736076593399; B-Receptacle f-score: 0.200; Time taken (s): 4.456319808959961\n",
            "Iteration 1200 of epoch 10 complete, Loss: 0.05240410193800926; B-Receptacle f-score: 0.750; Time taken (s): 4.378103017807007\n",
            "Iteration 1300 of epoch 10 complete, Loss: 0.0634717345237732; B-Receptacle f-score: 0.706; Time taken (s): 4.339009046554565\n",
            "Iteration 1400 of epoch 10 complete, Loss: 0.09798574447631836; B-Receptacle f-score: 0.950; Time taken (s): 4.381178855895996\n",
            "Iteration 1500 of epoch 10 complete, Loss: 0.053468361496925354; B-Receptacle f-score: 0.800; Time taken (s): 4.417582750320435\n",
            "Epoch 10 complete! Development accuracy: 0.952; Development B-RECEPTACLE f-score: 0.665;\n",
            "Iteration 0 of epoch 11 complete, Loss: 0.056316327303647995; B-Receptacle f-score: 0.897; Time taken (s): 122.69513416290283\n",
            "Iteration 100 of epoch 11 complete, Loss: 0.07146604359149933; B-Receptacle f-score: 0.690; Time taken (s): 4.18871808052063\n",
            "Iteration 200 of epoch 11 complete, Loss: 0.2681621313095093; B-Receptacle f-score: 0.089; Time taken (s): 4.454259395599365\n",
            "Iteration 300 of epoch 11 complete, Loss: 0.025725984945893288; B-Receptacle f-score: 0.933; Time taken (s): 4.194026708602905\n",
            "Iteration 400 of epoch 11 complete, Loss: 0.04550033062696457; B-Receptacle f-score: 0.682; Time taken (s): 4.343520879745483\n",
            "Iteration 500 of epoch 11 complete, Loss: 0.027311844751238823; B-Receptacle f-score: 0.971; Time taken (s): 4.220721244812012\n",
            "Iteration 600 of epoch 11 complete, Loss: 0.1714373081922531; B-Receptacle f-score: 0.480; Time taken (s): 4.264499664306641\n",
            "Iteration 700 of epoch 11 complete, Loss: 0.030741116032004356; B-Receptacle f-score: 0.700; Time taken (s): 4.3789122104644775\n",
            "Iteration 800 of epoch 11 complete, Loss: 0.112395741045475; B-Receptacle f-score: 0.519; Time taken (s): 4.001137018203735\n",
            "Iteration 900 of epoch 11 complete, Loss: 0.022012367844581604; B-Receptacle f-score: 0.943; Time taken (s): 4.492698907852173\n",
            "Iteration 1000 of epoch 11 complete, Loss: 0.06765936315059662; B-Receptacle f-score: 0.692; Time taken (s): 4.264250755310059\n",
            "Iteration 1100 of epoch 11 complete, Loss: 0.0707569345831871; B-Receptacle f-score: 0.462; Time taken (s): 4.31594443321228\n",
            "Iteration 1200 of epoch 11 complete, Loss: 0.06050103157758713; B-Receptacle f-score: 0.810; Time taken (s): 4.395168304443359\n",
            "Iteration 1300 of epoch 11 complete, Loss: 0.04904542863368988; B-Receptacle f-score: 0.743; Time taken (s): 4.2834882736206055\n",
            "Iteration 1400 of epoch 11 complete, Loss: 0.0845169872045517; B-Receptacle f-score: 0.950; Time taken (s): 4.263672828674316\n",
            "Iteration 1500 of epoch 11 complete, Loss: 0.05804787948727608; B-Receptacle f-score: 0.667; Time taken (s): 4.52696418762207\n",
            "Epoch 11 complete! Development accuracy: 0.955; Development B-RECEPTACLE f-score: 0.692;\n",
            "Iteration 0 of epoch 12 complete, Loss: 0.06297454982995987; B-Receptacle f-score: 0.815; Time taken (s): 121.97755551338196\n",
            "Iteration 100 of epoch 12 complete, Loss: 0.06529550999403; B-Receptacle f-score: 0.833; Time taken (s): 4.240935802459717\n",
            "Iteration 200 of epoch 12 complete, Loss: 0.25653135776519775; B-Receptacle f-score: 0.098; Time taken (s): 4.421790599822998\n",
            "Iteration 300 of epoch 12 complete, Loss: 0.03373725712299347; B-Receptacle f-score: 0.929; Time taken (s): 4.277782917022705\n",
            "Iteration 400 of epoch 12 complete, Loss: 0.04203413426876068; B-Receptacle f-score: 0.762; Time taken (s): 4.316079616546631\n",
            "Iteration 500 of epoch 12 complete, Loss: 0.029742678627371788; B-Receptacle f-score: 0.941; Time taken (s): 4.135876893997192\n",
            "Iteration 600 of epoch 12 complete, Loss: 0.17266549170017242; B-Receptacle f-score: 0.417; Time taken (s): 4.40350866317749\n",
            "Iteration 700 of epoch 12 complete, Loss: 0.038343362510204315; B-Receptacle f-score: 0.583; Time taken (s): 4.328958511352539\n",
            "Iteration 800 of epoch 12 complete, Loss: 0.10655268281698227; B-Receptacle f-score: 0.600; Time taken (s): 3.9322617053985596\n",
            "Iteration 900 of epoch 12 complete, Loss: 0.023131808266043663; B-Receptacle f-score: 0.943; Time taken (s): 4.427203178405762\n",
            "Iteration 1000 of epoch 12 complete, Loss: 0.07114575058221817; B-Receptacle f-score: 0.692; Time taken (s): 4.2385094165802\n",
            "Iteration 1100 of epoch 12 complete, Loss: 0.07626920193433762; B-Receptacle f-score: 0.333; Time taken (s): 4.430790662765503\n",
            "Iteration 1200 of epoch 12 complete, Loss: 0.04485546424984932; B-Receptacle f-score: 0.810; Time taken (s): 4.317314386367798\n",
            "Iteration 1300 of epoch 12 complete, Loss: 0.059459272772073746; B-Receptacle f-score: 0.706; Time taken (s): 4.092634677886963\n",
            "Iteration 1400 of epoch 12 complete, Loss: 0.08878620713949203; B-Receptacle f-score: 0.950; Time taken (s): 4.39675235748291\n",
            "Iteration 1500 of epoch 12 complete, Loss: 0.04538850113749504; B-Receptacle f-score: 0.800; Time taken (s): 4.533729553222656\n",
            "Epoch 12 complete! Development accuracy: 0.953; Development B-RECEPTACLE f-score: 0.680;\n",
            "Iteration 0 of epoch 13 complete, Loss: 0.04764392599463463; B-Receptacle f-score: 0.857; Time taken (s): 122.10850787162781\n",
            "Iteration 100 of epoch 13 complete, Loss: 0.06486762315034866; B-Receptacle f-score: 0.741; Time taken (s): 4.297110557556152\n",
            "Iteration 200 of epoch 13 complete, Loss: 0.2538466453552246; B-Receptacle f-score: 0.095; Time taken (s): 4.328458309173584\n",
            "Iteration 300 of epoch 13 complete, Loss: 0.03031325340270996; B-Receptacle f-score: 0.929; Time taken (s): 4.141953468322754\n",
            "Iteration 400 of epoch 13 complete, Loss: 0.048258136957883835; B-Receptacle f-score: 0.682; Time taken (s): 4.309633493423462\n",
            "Iteration 500 of epoch 13 complete, Loss: 0.030868088826537132; B-Receptacle f-score: 0.941; Time taken (s): 4.279223918914795\n",
            "Iteration 600 of epoch 13 complete, Loss: 0.16549840569496155; B-Receptacle f-score: 0.476; Time taken (s): 4.404083967208862\n",
            "Iteration 700 of epoch 13 complete, Loss: 0.037327028810977936; B-Receptacle f-score: 0.583; Time taken (s): 4.309239149093628\n",
            "Iteration 800 of epoch 13 complete, Loss: 0.11043376475572586; B-Receptacle f-score: 0.571; Time taken (s): 4.135653495788574\n",
            "Iteration 900 of epoch 13 complete, Loss: 0.02367829531431198; B-Receptacle f-score: 0.943; Time taken (s): 4.528681516647339\n",
            "Iteration 1000 of epoch 13 complete, Loss: 0.06674358248710632; B-Receptacle f-score: 0.692; Time taken (s): 4.1371119022369385\n",
            "Iteration 1100 of epoch 13 complete, Loss: 0.07363708317279816; B-Receptacle f-score: 0.333; Time taken (s): 4.561622858047485\n",
            "Iteration 1200 of epoch 13 complete, Loss: 0.0509784109890461; B-Receptacle f-score: 0.718; Time taken (s): 4.547689914703369\n",
            "Iteration 1300 of epoch 13 complete, Loss: 0.057825714349746704; B-Receptacle f-score: 0.706; Time taken (s): 4.418676137924194\n",
            "Iteration 1400 of epoch 13 complete, Loss: 0.0800754651427269; B-Receptacle f-score: 0.950; Time taken (s): 4.445411443710327\n",
            "Iteration 1500 of epoch 13 complete, Loss: 0.055122438818216324; B-Receptacle f-score: 0.714; Time taken (s): 4.506033420562744\n",
            "Epoch 13 complete! Development accuracy: 0.955; Development B-RECEPTACLE f-score: 0.691;\n",
            "Iteration 0 of epoch 14 complete, Loss: 0.054147642105817795; B-Receptacle f-score: 0.857; Time taken (s): 122.78283786773682\n",
            "Iteration 100 of epoch 14 complete, Loss: 0.06075716391205788; B-Receptacle f-score: 0.833; Time taken (s): 4.162497520446777\n",
            "Iteration 200 of epoch 14 complete, Loss: 0.2654065787792206; B-Receptacle f-score: 0.083; Time taken (s): 4.293540954589844\n",
            "Iteration 300 of epoch 14 complete, Loss: 0.026181718334555626; B-Receptacle f-score: 0.966; Time taken (s): 4.2407073974609375\n",
            "Iteration 400 of epoch 14 complete, Loss: 0.03787931054830551; B-Receptacle f-score: 0.844; Time taken (s): 4.3573315143585205\n",
            "Iteration 500 of epoch 14 complete, Loss: 0.024886423721909523; B-Receptacle f-score: 0.941; Time taken (s): 4.197422742843628\n",
            "Iteration 600 of epoch 14 complete, Loss: 0.15839126706123352; B-Receptacle f-score: 0.385; Time taken (s): 4.3396828174591064\n",
            "Iteration 700 of epoch 14 complete, Loss: 0.032467007637023926; B-Receptacle f-score: 0.700; Time taken (s): 4.426826477050781\n",
            "Iteration 800 of epoch 14 complete, Loss: 0.10011807084083557; B-Receptacle f-score: 0.621; Time taken (s): 3.9534261226654053\n",
            "Iteration 900 of epoch 14 complete, Loss: 0.02591611258685589; B-Receptacle f-score: 0.857; Time taken (s): 4.630427360534668\n",
            "Iteration 1000 of epoch 14 complete, Loss: 0.0678464025259018; B-Receptacle f-score: 0.692; Time taken (s): 4.317511796951294\n",
            "Iteration 1100 of epoch 14 complete, Loss: 0.07826864719390869; B-Receptacle f-score: 0.462; Time taken (s): 4.402387857437134\n",
            "Iteration 1200 of epoch 14 complete, Loss: 0.04267246648669243; B-Receptacle f-score: 0.780; Time taken (s): 4.491100072860718\n",
            "Iteration 1300 of epoch 14 complete, Loss: 0.05189744010567665; B-Receptacle f-score: 0.743; Time taken (s): 4.421832323074341\n",
            "Iteration 1400 of epoch 14 complete, Loss: 0.08920871466398239; B-Receptacle f-score: 0.950; Time taken (s): 4.335978269577026\n",
            "Iteration 1500 of epoch 14 complete, Loss: 0.050008680671453476; B-Receptacle f-score: 0.727; Time taken (s): 4.416816234588623\n",
            "Epoch 14 complete! Development accuracy: 0.953; Development B-RECEPTACLE f-score: 0.678;\n",
            "Iteration 0 of epoch 15 complete, Loss: 0.04529939219355583; B-Receptacle f-score: 0.897; Time taken (s): 122.77646970748901\n",
            "Iteration 100 of epoch 15 complete, Loss: 0.06318526715040207; B-Receptacle f-score: 0.741; Time taken (s): 4.277206659317017\n",
            "Iteration 200 of epoch 15 complete, Loss: 0.25885340571403503; B-Receptacle f-score: 0.091; Time taken (s): 4.464003801345825\n",
            "Iteration 300 of epoch 15 complete, Loss: 0.02322523109614849; B-Receptacle f-score: 0.966; Time taken (s): 4.251688003540039\n",
            "Iteration 400 of epoch 15 complete, Loss: 0.04968937113881111; B-Receptacle f-score: 0.766; Time taken (s): 4.354447603225708\n",
            "Iteration 500 of epoch 15 complete, Loss: 0.02480074018239975; B-Receptacle f-score: 0.941; Time taken (s): 4.352360248565674\n",
            "Iteration 600 of epoch 15 complete, Loss: 0.16770413517951965; B-Receptacle f-score: 0.435; Time taken (s): 4.260377407073975\n",
            "Iteration 700 of epoch 15 complete, Loss: 0.02494836039841175; B-Receptacle f-score: 0.737; Time taken (s): 4.424001693725586\n",
            "Iteration 800 of epoch 15 complete, Loss: 0.11012735217809677; B-Receptacle f-score: 0.552; Time taken (s): 4.068286418914795\n",
            "Iteration 900 of epoch 15 complete, Loss: 0.022042378783226013; B-Receptacle f-score: 0.943; Time taken (s): 4.465585947036743\n",
            "Iteration 1000 of epoch 15 complete, Loss: 0.06605897843837738; B-Receptacle f-score: 0.692; Time taken (s): 4.263434410095215\n",
            "Iteration 1100 of epoch 15 complete, Loss: 0.08476515114307404; B-Receptacle f-score: 0.308; Time taken (s): 4.471850156784058\n",
            "Iteration 1200 of epoch 15 complete, Loss: 0.05447295680642128; B-Receptacle f-score: 0.682; Time taken (s): 4.500824451446533\n",
            "Iteration 1300 of epoch 15 complete, Loss: 0.03863018751144409; B-Receptacle f-score: 0.800; Time taken (s): 4.42023491859436\n",
            "Iteration 1400 of epoch 15 complete, Loss: 0.08870670944452286; B-Receptacle f-score: 0.950; Time taken (s): 4.289823532104492\n",
            "Iteration 1500 of epoch 15 complete, Loss: 0.050887852907180786; B-Receptacle f-score: 0.727; Time taken (s): 4.5267860889434814\n",
            "Epoch 15 complete! Development accuracy: 0.955; Development B-RECEPTACLE f-score: 0.694;\n",
            "Iteration 0 of epoch 16 complete, Loss: 0.04629999399185181; B-Receptacle f-score: 0.897; Time taken (s): 123.40683126449585\n",
            "Iteration 100 of epoch 16 complete, Loss: 0.065996453166008; B-Receptacle f-score: 0.741; Time taken (s): 4.327945709228516\n",
            "Iteration 200 of epoch 16 complete, Loss: 0.24838857352733612; B-Receptacle f-score: 0.136; Time taken (s): 4.499593496322632\n",
            "Iteration 300 of epoch 16 complete, Loss: 0.03270089253783226; B-Receptacle f-score: 1.000; Time taken (s): 4.2908854484558105\n",
            "Iteration 400 of epoch 16 complete, Loss: 0.036954116076231; B-Receptacle f-score: 0.863; Time taken (s): 4.3679893016815186\n",
            "Iteration 500 of epoch 16 complete, Loss: 0.026512105017900467; B-Receptacle f-score: 0.941; Time taken (s): 4.3792173862457275\n",
            "Iteration 600 of epoch 16 complete, Loss: 0.15413327515125275; B-Receptacle f-score: 0.455; Time taken (s): 4.313042163848877\n",
            "Iteration 700 of epoch 16 complete, Loss: 0.03195207566022873; B-Receptacle f-score: 0.609; Time taken (s): 4.446992635726929\n",
            "Iteration 800 of epoch 16 complete, Loss: 0.10717202723026276; B-Receptacle f-score: 0.667; Time taken (s): 4.141596794128418\n",
            "Iteration 900 of epoch 16 complete, Loss: 0.02734091691672802; B-Receptacle f-score: 0.943; Time taken (s): 4.522944450378418\n",
            "Iteration 1000 of epoch 16 complete, Loss: 0.05701707676053047; B-Receptacle f-score: 0.741; Time taken (s): 4.29542875289917\n",
            "Iteration 1100 of epoch 16 complete, Loss: 0.07502777129411697; B-Receptacle f-score: 0.429; Time taken (s): 4.41039514541626\n",
            "Iteration 1200 of epoch 16 complete, Loss: 0.05311449617147446; B-Receptacle f-score: 0.800; Time taken (s): 4.469692945480347\n",
            "Iteration 1300 of epoch 16 complete, Loss: 0.04878935590386391; B-Receptacle f-score: 0.706; Time taken (s): 4.453548192977905\n",
            "Iteration 1400 of epoch 16 complete, Loss: 0.09180782735347748; B-Receptacle f-score: 0.950; Time taken (s): 4.281924724578857\n",
            "Iteration 1500 of epoch 16 complete, Loss: 0.04187072440981865; B-Receptacle f-score: 0.833; Time taken (s): 4.579749345779419\n",
            "Epoch 16 complete! Development accuracy: 0.954; Development B-RECEPTACLE f-score: 0.688;\n",
            "Iteration 0 of epoch 17 complete, Loss: 0.04555564001202583; B-Receptacle f-score: 0.933; Time taken (s): 123.21328902244568\n",
            "Iteration 100 of epoch 17 complete, Loss: 0.05654898285865784; B-Receptacle f-score: 0.741; Time taken (s): 4.156785249710083\n",
            "Iteration 200 of epoch 17 complete, Loss: 0.24924848973751068; B-Receptacle f-score: 0.093; Time taken (s): 4.292234659194946\n",
            "Iteration 300 of epoch 17 complete, Loss: 0.0318024568259716; B-Receptacle f-score: 0.966; Time taken (s): 4.279197931289673\n",
            "Iteration 400 of epoch 17 complete, Loss: 0.030546583235263824; B-Receptacle f-score: 0.980; Time taken (s): 4.3419225215911865\n",
            "Iteration 500 of epoch 17 complete, Loss: 0.02743968740105629; B-Receptacle f-score: 0.909; Time taken (s): 4.243220329284668\n",
            "Iteration 600 of epoch 17 complete, Loss: 0.1660737544298172; B-Receptacle f-score: 0.400; Time taken (s): 4.303726434707642\n",
            "Iteration 700 of epoch 17 complete, Loss: 0.027033111080527306; B-Receptacle f-score: 0.609; Time taken (s): 4.39043927192688\n",
            "Iteration 800 of epoch 17 complete, Loss: 0.10494284331798553; B-Receptacle f-score: 0.667; Time taken (s): 4.063750505447388\n",
            "Iteration 900 of epoch 17 complete, Loss: 0.02140098251402378; B-Receptacle f-score: 0.943; Time taken (s): 4.440410614013672\n",
            "Iteration 1000 of epoch 17 complete, Loss: 0.055959898978471756; B-Receptacle f-score: 0.720; Time taken (s): 4.330399036407471\n",
            "Iteration 1100 of epoch 17 complete, Loss: 0.08564392477273941; B-Receptacle f-score: 0.400; Time taken (s): 4.473025798797607\n",
            "Iteration 1200 of epoch 17 complete, Loss: 0.05248025804758072; B-Receptacle f-score: 0.864; Time taken (s): 4.393567323684692\n",
            "Iteration 1300 of epoch 17 complete, Loss: 0.04126657173037529; B-Receptacle f-score: 0.706; Time taken (s): 4.3650147914886475\n",
            "Iteration 1400 of epoch 17 complete, Loss: 0.07920631021261215; B-Receptacle f-score: 0.950; Time taken (s): 4.2794811725616455\n",
            "Iteration 1500 of epoch 17 complete, Loss: 0.040520213544368744; B-Receptacle f-score: 0.769; Time taken (s): 4.459831953048706\n",
            "Epoch 17 complete! Development accuracy: 0.954; Development B-RECEPTACLE f-score: 0.689;\n",
            "Iteration 0 of epoch 18 complete, Loss: 0.041689682751894; B-Receptacle f-score: 0.933; Time taken (s): 122.2465648651123\n",
            "Iteration 100 of epoch 18 complete, Loss: 0.05201096087694168; B-Receptacle f-score: 0.783; Time taken (s): 4.251625061035156\n",
            "Iteration 200 of epoch 18 complete, Loss: 0.26781830191612244; B-Receptacle f-score: 0.093; Time taken (s): 4.307477951049805\n",
            "Iteration 300 of epoch 18 complete, Loss: 0.030082428827881813; B-Receptacle f-score: 0.966; Time taken (s): 4.24492883682251\n",
            "Iteration 400 of epoch 18 complete, Loss: 0.033207815140485764; B-Receptacle f-score: 0.917; Time taken (s): 4.314946174621582\n",
            "Iteration 500 of epoch 18 complete, Loss: 0.031068025156855583; B-Receptacle f-score: 0.909; Time taken (s): 4.2068891525268555\n",
            "Iteration 600 of epoch 18 complete, Loss: 0.1537666618824005; B-Receptacle f-score: 0.476; Time taken (s): 4.330472230911255\n",
            "Iteration 700 of epoch 18 complete, Loss: 0.025747649371623993; B-Receptacle f-score: 0.737; Time taken (s): 4.352556467056274\n",
            "Iteration 800 of epoch 18 complete, Loss: 0.11093653738498688; B-Receptacle f-score: 0.750; Time taken (s): 3.976685047149658\n",
            "Iteration 900 of epoch 18 complete, Loss: 0.018149802461266518; B-Receptacle f-score: 0.943; Time taken (s): 4.452638149261475\n",
            "Iteration 1000 of epoch 18 complete, Loss: 0.05261208489537239; B-Receptacle f-score: 0.800; Time taken (s): 4.313833236694336\n",
            "Iteration 1100 of epoch 18 complete, Loss: 0.08684702217578888; B-Receptacle f-score: 0.375; Time taken (s): 4.440122842788696\n",
            "Iteration 1200 of epoch 18 complete, Loss: 0.06275101006031036; B-Receptacle f-score: 0.545; Time taken (s): 4.356607675552368\n",
            "Iteration 1300 of epoch 18 complete, Loss: 0.04924788698554039; B-Receptacle f-score: 0.706; Time taken (s): 4.370110511779785\n",
            "Iteration 1400 of epoch 18 complete, Loss: 0.08498058468103409; B-Receptacle f-score: 0.950; Time taken (s): 4.414122819900513\n",
            "Iteration 1500 of epoch 18 complete, Loss: 0.04060027375817299; B-Receptacle f-score: 0.923; Time taken (s): 4.655693292617798\n",
            "Epoch 18 complete! Development accuracy: 0.953; Development B-RECEPTACLE f-score: 0.682;\n",
            "Iteration 0 of epoch 19 complete, Loss: 0.05177603289484978; B-Receptacle f-score: 0.857; Time taken (s): 122.54672980308533\n",
            "Iteration 100 of epoch 19 complete, Loss: 0.04730222374200821; B-Receptacle f-score: 0.762; Time taken (s): 4.232284069061279\n",
            "Iteration 200 of epoch 19 complete, Loss: 0.24173672497272491; B-Receptacle f-score: 0.095; Time taken (s): 4.458298921585083\n",
            "Iteration 300 of epoch 19 complete, Loss: 0.026347242295742035; B-Receptacle f-score: 0.966; Time taken (s): 4.257436037063599\n",
            "Iteration 400 of epoch 19 complete, Loss: 0.033823125064373016; B-Receptacle f-score: 0.894; Time taken (s): 4.3312225341796875\n",
            "Iteration 500 of epoch 19 complete, Loss: 0.023935727775096893; B-Receptacle f-score: 0.909; Time taken (s): 4.096236944198608\n",
            "Iteration 600 of epoch 19 complete, Loss: 0.16505855321884155; B-Receptacle f-score: 0.500; Time taken (s): 4.342954158782959\n",
            "Iteration 700 of epoch 19 complete, Loss: 0.03470143303275108; B-Receptacle f-score: 0.636; Time taken (s): 4.468225717544556\n",
            "Iteration 800 of epoch 19 complete, Loss: 0.09760217368602753; B-Receptacle f-score: 0.710; Time taken (s): 4.011162042617798\n",
            "Iteration 900 of epoch 19 complete, Loss: 0.020658057183027267; B-Receptacle f-score: 0.943; Time taken (s): 4.498729467391968\n",
            "Iteration 1000 of epoch 19 complete, Loss: 0.054085440933704376; B-Receptacle f-score: 0.800; Time taken (s): 4.376370906829834\n",
            "Iteration 1100 of epoch 19 complete, Loss: 0.08761907368898392; B-Receptacle f-score: 0.375; Time taken (s): 4.330068111419678\n",
            "Iteration 1200 of epoch 19 complete, Loss: 0.04699436575174332; B-Receptacle f-score: 0.816; Time taken (s): 4.417798757553101\n",
            "Iteration 1300 of epoch 19 complete, Loss: 0.049402862787246704; B-Receptacle f-score: 0.706; Time taken (s): 4.28813362121582\n",
            "Iteration 1400 of epoch 19 complete, Loss: 0.0948568657040596; B-Receptacle f-score: 0.864; Time taken (s): 4.402338266372681\n",
            "Iteration 1500 of epoch 19 complete, Loss: 0.045681875199079514; B-Receptacle f-score: 0.769; Time taken (s): 4.601017713546753\n",
            "Epoch 19 complete! Development accuracy: 0.952; Development B-RECEPTACLE f-score: 0.675;\n"
          ]
        }
      ]
    },
    {
      "cell_type": "code",
      "metadata": {
        "colab": {
          "base_uri": "https://localhost:8080/",
          "height": 281
        },
        "id": "2znSA2AXp4bo",
        "outputId": "f2c2eb25-f7c1-4dd9-c067-df2461ff2370"
      },
      "source": [
        "plt.plot(development_recep_history)\n",
        "plt.title(\"B-RECEPTACLE f-score\")\n",
        "plt.show()"
      ],
      "execution_count": null,
      "outputs": [
        {
          "output_type": "display_data",
          "data": {
            "image/png": "[encoded data removed]",
            "text/plain": [
              "<Figure size 432x288 with 1 Axes>"
            ]
          },
          "metadata": {
            "needs_background": "light"
          }
        }
      ]
    },
    {
      "cell_type": "markdown",
      "metadata": {
        "id": "p8_AT7B9j4h5"
      },
      "source": [
        "## Performance on test set"
      ]
    },
    {
      "cell_type": "code",
      "metadata": {
        "id": "P2ZfNqLMatgQ"
      },
      "source": [
        "# get ground truth of the dataset\n",
        "def get_dataset_labels(test_loader):\n",
        "    all_labels = torch.tensor([])\n",
        "    \n",
        "    for batch in test_loader:\n",
        "        x_padded, labels_padded, x_lens, labels_lens = batch\n",
        "        flatten_labels = labels_padded.view(-1)\n",
        "        mask = (flatten_labels >= 0).float()\n",
        "        total_token = int(torch.sum(mask))\n",
        "\n",
        "        for i in range(flatten_labels.shape[0]):\n",
        "            if (flatten_labels[i] >= 0):\n",
        "                label_dim1 = torch.tensor([flatten_labels[i].item()])\n",
        "                all_labels = torch.cat((all_labels, label_dim1), dim=0)\n",
        "    \n",
        "    # print(all_labels.shape)\n",
        "    return all_labels\n"
      ],
      "execution_count": null,
      "outputs": []
    },
    {
      "cell_type": "code",
      "metadata": {
        "id": "5K-VD0IscWWt"
      },
      "source": [
        "import itertools\n",
        "from sklearn.metrics import confusion_matrix, classification_report, precision_score, recall_score, f1_score\n",
        "\n",
        "def plot_confusion_matrix(cm, classes, normalize=False, \n",
        "                          title = \"Confusion Matrix\", cmap=plt.cm.Blues):\n",
        "    if normalize:\n",
        "        cm = cm.astype('float') / cm.sum(axis=1)[:, np.newaxis]\n",
        "        print(\"Normalized confusion matrix\")\n",
        "    else:\n",
        "        print('Confusion matrix, without normalization')\n",
        "    \n",
        "    plt.figure(figsize=(8,8))\n",
        "    plt.imshow(cm, interpolation='nearest', cmap=cmap)\n",
        "    plt.title(title)\n",
        "    plt.colorbar()\n",
        "    tick_marks = np.arange(len(classes))\n",
        "    plt.xticks(tick_marks, classes, rotation=45)\n",
        "    plt.yticks(tick_marks, classes)\n",
        "\n",
        "    fmt = '.2f' if normalize else 'd'\n",
        "    thresh = cm.max() / 2.\n",
        "    for i, j in itertools.product(range(cm.shape[0]), range(cm.shape[1])):\n",
        "        plt.text(j, i, format(cm[i, j], fmt), horizontalalignment=\"center\", color=\"white\" if cm[i, j] > thresh else \"black\")\n",
        "\n",
        "    accuracy = np.trace(cm) / float(np.sum(cm))\n",
        "\n",
        "    plt.tight_layout()\n",
        "    plt.ylabel('True label')\n",
        "    plt.xlabel('Predicted label\\naccuracy={:0.4f}'.format(accuracy))\n"
      ],
      "execution_count": null,
      "outputs": []
    },
    {
      "cell_type": "code",
      "metadata": {
        "id": "AEtxW055PsDA",
        "colab": {
          "base_uri": "https://localhost:8080/"
        },
        "outputId": "30f8b677-66bf-4c99-a71b-3f2db6c780aa"
      },
      "source": [
        "# accuracy on test dataset\n",
        "\n",
        "test_rec_f, test_acc, test_preds = evaluate(best_model, test_loader, device)\n",
        "print(\"test B-RECEPTABLE f-score: \", test_rec_f)"
      ],
      "execution_count": null,
      "outputs": [
        {
          "output_type": "stream",
          "name": "stdout",
          "text": [
            "test B-RECEPTABLE f-score:  0.6794243485025282\n"
          ]
        }
      ]
    },
    {
      "cell_type": "code",
      "metadata": {
        "colab": {
          "base_uri": "https://localhost:8080/",
          "height": 676
        },
        "id": "NWPMhVJim9wc",
        "outputId": "5f61759d-9292-464c-c363-45c704c2fc39"
      },
      "source": [
        "# test_labels shape: total number of tokens in the dataloader\n",
        "test_labels = get_dataset_labels(test_loader)\n",
        "classes_name = list(role_to_idx)\n",
        "\n",
        "cm = confusion_matrix(test_labels, test_preds)\n",
        "print(cm)\n",
        "\n",
        "plot_confusion_matrix(cm, classes_name)"
      ],
      "execution_count": null,
      "outputs": [
        {
          "output_type": "stream",
          "name": "stdout",
          "text": [
            "[[126299    389     63   2307    520]\n",
            " [   349   5731     18    138      0]\n",
            " [   323     95   1292      1    126]\n",
            " [  1399     36      1   4367    180]\n",
            " [   252      0     11     59    830]]\n",
            "Confusion matrix, without normalization\n"
          ]
        },
        {
          "output_type": "display_data",
          "data": {
            "image/png": "[encoded data removed]",
            "text/plain": [
              "<Figure size 576x576 with 2 Axes>"
            ]
          },
          "metadata": {
            "needs_background": "light"
          }
        }
      ]
    },
    {
      "cell_type": "code",
      "metadata": {
        "colab": {
          "base_uri": "https://localhost:8080/"
        },
        "id": "8LpSL5AqHgET",
        "outputId": "b0de24eb-4048-409a-b868-d5a10487560f"
      },
      "source": [
        "print(classification_report(test_labels, test_preds, target_names=classes_name))"
      ],
      "execution_count": null,
      "outputs": [
        {
          "output_type": "stream",
          "name": "stdout",
          "text": [
            "              precision    recall  f1-score   support\n",
            "\n",
            "           O       0.98      0.97      0.98    129578\n",
            "    B-TARGET       0.92      0.92      0.92      6236\n",
            "    I-TARGET       0.93      0.70      0.80      1837\n",
            "B-RECEPTACLE       0.64      0.73      0.68      5983\n",
            "I-RECEPTACLE       0.50      0.72      0.59      1152\n",
            "\n",
            "    accuracy                           0.96    144786\n",
            "   macro avg       0.79      0.81      0.79    144786\n",
            "weighted avg       0.96      0.96      0.96    144786\n",
            "\n"
          ]
        }
      ]
    },
    {
      "cell_type": "markdown",
      "metadata": {
        "id": "oU6gce9Ir-ST"
      },
      "source": [
        "## Evaluate the impact of dependency relation feature on the performance"
      ]
    },
    {
      "cell_type": "code",
      "metadata": {
        "colab": {
          "base_uri": "https://localhost:8080/"
        },
        "id": "m58pOA_TsLp8",
        "outputId": "d82ed3e6-e8bc-46c1-8a4d-998dd1b7440c"
      },
      "source": [
        "# create the dataset for training, validation and testing\n",
        "train_set_300d = ELDataset(nlp_model = nlp, sentence_file = TRAIN_SENTENCES_FILE_PATH, \n",
        "                      dep_file = TRAIN_DEP_FILE_PATH, \n",
        "                      label_file = TRAIN_LABELS_FILE_PATH,\n",
        "                      dep_feature = False)\n",
        "\n",
        "dev_set_300d = ELDataset(nlp_model = nlp, sentence_file = DEV_SENTENCES_FILE_PATH, \n",
        "                    dep_file = DEV_DEP_FILE_PATH, \n",
        "                    label_file = DEV_LABELS_FILE_PATH, dep_feature = False)\n",
        "\n",
        "test_set_300d = ELDataset(nlp_model = nlp, sentence_file = TEST_SENTENCES_FILE_PATH, \n",
        "                     dep_file = TEST_DEP_FILE_PATH, \n",
        "                     label_file = TEST_LABELS_FILE_PATH, dep_feature = False)\n",
        "\n",
        "# Load the dataset\n",
        "train_loader_300d = DataLoader(train_set_300d, batch_size = batchsize_global, \n",
        "                          shuffle=False, pin_memory=True, \n",
        "                          collate_fn = pad_collate)\n",
        "\n",
        "dev_loader_300d = DataLoader(dev_set_300d, batch_size = batchsize_global, \n",
        "                        shuffle=False, pin_memory=True, \n",
        "                        collate_fn = pad_collate)\n",
        "\n",
        "test_loader_300d = DataLoader(test_set_300d, batch_size = batchsize_global, \n",
        "                         shuffle=False, pin_memory=True, \n",
        "                         collate_fn = pad_collate)\n",
        "\n",
        "print(\"Done loading datasets with 300d features.\")"
      ],
      "execution_count": null,
      "outputs": [
        {
          "output_type": "stream",
          "name": "stdout",
          "text": [
            "Done loading datasets with 300d features.\n"
          ]
        }
      ]
    },
    {
      "cell_type": "code",
      "metadata": {
        "colab": {
          "base_uri": "https://localhost:8080/"
        },
        "id": "pv1FgoEMtjBN",
        "outputId": "dcc8683c-a8a4-43ef-9f4c-38fde99d2552"
      },
      "source": [
        "print(train_set_300d[0][0][0].shape)"
      ],
      "execution_count": null,
      "outputs": [
        {
          "output_type": "stream",
          "name": "stdout",
          "text": [
            "torch.Size([300])\n"
          ]
        }
      ]
    },
    {
      "cell_type": "code",
      "metadata": {
        "colab": {
          "base_uri": "https://localhost:8080/"
        },
        "id": "wR-0BR1LtBfJ",
        "outputId": "2a962d69-c29f-4f3c-fd47-8dea06a5bb4e"
      },
      "source": [
        "# Run the entity linker on GPU / CPU\n",
        "model_300d = EntityLinker(feature_dim = embedding_dim, \n",
        "                     hidden_dim = hidden_dimension, \n",
        "                     roleset_size = roleset_size)\n",
        "model_300d.to(device)\n",
        "print(\"Done creating the entity linker with 300d features\")"
      ],
      "execution_count": null,
      "outputs": [
        {
          "output_type": "stream",
          "name": "stdout",
          "text": [
            "Done creating the entity linker with 300d features\n"
          ]
        }
      ]
    },
    {
      "cell_type": "code",
      "metadata": {
        "colab": {
          "base_uri": "https://localhost:8080/"
        },
        "id": "ZhL41IxptMFF",
        "outputId": "45d2d581-c8b7-42ba-ecb9-3d57b3ffe05f"
      },
      "source": [
        "num_epoch = 15\n",
        "optimizer = optim.Adam(model_300d.parameters(), lr = 2e-3)\n",
        "dev_300d_history = train(model_300d, loss_fn, optimizer, train_loader_300d, dev_loader_300d, num_epoch, device)"
      ],
      "execution_count": null,
      "outputs": [
        {
          "output_type": "stream",
          "name": "stdout",
          "text": [
            "Iteration 0 of epoch 0 complete, Loss: 0.08532711118459702; Receptacle Accuracy: 0.562; Time taken (s): 0.06673574447631836\n",
            "Iteration 100 of epoch 0 complete, Loss: 0.06561009585857391; Receptacle Accuracy: 0.875; Time taken (s): 2.039106845855713\n",
            "Iteration 200 of epoch 0 complete, Loss: 0.15936702489852905; Receptacle Accuracy: 0.154; Time taken (s): 2.1800730228424072\n",
            "Iteration 300 of epoch 0 complete, Loss: 0.045895058661699295; Receptacle Accuracy: 0.700; Time taken (s): 2.0963027477264404\n",
            "Iteration 400 of epoch 0 complete, Loss: 0.06879875063896179; Receptacle Accuracy: 0.154; Time taken (s): 2.1502509117126465\n",
            "Iteration 500 of epoch 0 complete, Loss: 0.04571054130792618; Receptacle Accuracy: 0.667; Time taken (s): 2.050626039505005\n",
            "Iteration 600 of epoch 0 complete, Loss: 0.16723741590976715; Receptacle Accuracy: 0.875; Time taken (s): 2.127401113510132\n",
            "Iteration 700 of epoch 0 complete, Loss: 0.04356494918465614; Receptacle Accuracy: 0.571; Time taken (s): 2.11427640914917\n",
            "Iteration 800 of epoch 0 complete, Loss: 0.1098371222615242; Receptacle Accuracy: 0.421; Time taken (s): 2.0450828075408936\n",
            "Iteration 900 of epoch 0 complete, Loss: 0.0536266565322876; Receptacle Accuracy: 0.615; Time taken (s): 2.217656373977661\n",
            "Iteration 1000 of epoch 0 complete, Loss: 0.09082029014825821; Receptacle Accuracy: 0.250; Time taken (s): 2.105691432952881\n",
            "Iteration 1100 of epoch 0 complete, Loss: 0.10773047059774399; Receptacle Accuracy: 0.200; Time taken (s): 2.0914838314056396\n",
            "Iteration 1200 of epoch 0 complete, Loss: 0.06370135396718979; Receptacle Accuracy: 1.000; Time taken (s): 2.1164963245391846\n",
            "Iteration 1300 of epoch 0 complete, Loss: 0.08028090745210648; Receptacle Accuracy: 0.462; Time taken (s): 2.112868547439575\n",
            "Iteration 1400 of epoch 0 complete, Loss: 0.09892196953296661; Receptacle Accuracy: 0.676; Time taken (s): 2.0982208251953125\n",
            "Iteration 1500 of epoch 0 complete, Loss: 0.08393315225839615; Receptacle Accuracy: 0.556; Time taken (s): 2.1188418865203857\n",
            "Epoch 0 complete! Development Accuracy - receptacle: 0.5375215146299483\n",
            "Iteration 0 of epoch 1 complete, Loss: 0.08574412763118744; Receptacle Accuracy: 0.750; Time taken (s): 100.52931714057922\n",
            "Iteration 100 of epoch 1 complete, Loss: 0.047873008996248245; Receptacle Accuracy: 0.875; Time taken (s): 2.0075535774230957\n",
            "Iteration 200 of epoch 1 complete, Loss: 0.13628707826137543; Receptacle Accuracy: 0.154; Time taken (s): 2.138043165206909\n",
            "Iteration 300 of epoch 1 complete, Loss: 0.04528757557272911; Receptacle Accuracy: 0.500; Time taken (s): 2.0182206630706787\n",
            "Iteration 400 of epoch 1 complete, Loss: 0.038834020495414734; Receptacle Accuracy: 0.538; Time taken (s): 2.098083019256592\n",
            "Iteration 500 of epoch 1 complete, Loss: 0.03901463747024536; Receptacle Accuracy: 0.667; Time taken (s): 2.055583953857422\n",
            "Iteration 600 of epoch 1 complete, Loss: 0.15417085587978363; Receptacle Accuracy: 0.875; Time taken (s): 2.1495790481567383\n",
            "Iteration 700 of epoch 1 complete, Loss: 0.04741988331079483; Receptacle Accuracy: 0.571; Time taken (s): 2.0946810245513916\n",
            "Iteration 800 of epoch 1 complete, Loss: 0.09349100291728973; Receptacle Accuracy: 0.474; Time taken (s): 2.0295674800872803\n",
            "Iteration 900 of epoch 1 complete, Loss: 0.04636771231889725; Receptacle Accuracy: 1.000; Time taken (s): 2.1466753482818604\n",
            "Iteration 1000 of epoch 1 complete, Loss: 0.08856610208749771; Receptacle Accuracy: 0.333; Time taken (s): 2.0574288368225098\n",
            "Iteration 1100 of epoch 1 complete, Loss: 0.10082285106182098; Receptacle Accuracy: 0.200; Time taken (s): 2.028010845184326\n",
            "Iteration 1200 of epoch 1 complete, Loss: 0.05616949871182442; Receptacle Accuracy: 0.786; Time taken (s): 2.1485753059387207\n",
            "Iteration 1300 of epoch 1 complete, Loss: 0.05876438692212105; Receptacle Accuracy: 0.538; Time taken (s): 2.0982415676116943\n",
            "Iteration 1400 of epoch 1 complete, Loss: 0.0997595489025116; Receptacle Accuracy: 0.649; Time taken (s): 2.0607597827911377\n",
            "Iteration 1500 of epoch 1 complete, Loss: 0.08972980082035065; Receptacle Accuracy: 0.556; Time taken (s): 2.050025701522827\n",
            "Epoch 1 complete! Development Accuracy - receptacle: 0.5055077452667814\n",
            "Iteration 0 of epoch 2 complete, Loss: 0.09447107464075089; Receptacle Accuracy: 0.438; Time taken (s): 99.83022928237915\n",
            "Iteration 100 of epoch 2 complete, Loss: 0.051274243742227554; Receptacle Accuracy: 0.875; Time taken (s): 1.9982337951660156\n",
            "Iteration 200 of epoch 2 complete, Loss: 0.12604284286499023; Receptacle Accuracy: 0.154; Time taken (s): 2.089486837387085\n",
            "Iteration 300 of epoch 2 complete, Loss: 0.036498136818408966; Receptacle Accuracy: 0.700; Time taken (s): 2.074665069580078\n",
            "Iteration 400 of epoch 2 complete, Loss: 0.05365009233355522; Receptacle Accuracy: 0.308; Time taken (s): 2.162628650665283\n",
            "Iteration 500 of epoch 2 complete, Loss: 0.04499424248933792; Receptacle Accuracy: 0.833; Time taken (s): 2.0555293560028076\n",
            "Iteration 600 of epoch 2 complete, Loss: 0.13982953131198883; Receptacle Accuracy: 0.500; Time taken (s): 2.054292678833008\n",
            "Iteration 700 of epoch 2 complete, Loss: 0.05079381912946701; Receptacle Accuracy: 0.571; Time taken (s): 2.0232279300689697\n",
            "Iteration 800 of epoch 2 complete, Loss: 0.08688022196292877; Receptacle Accuracy: 0.474; Time taken (s): 1.9470000267028809\n",
            "Iteration 900 of epoch 2 complete, Loss: 0.04993452876806259; Receptacle Accuracy: 0.692; Time taken (s): 2.129956007003784\n",
            "Iteration 1000 of epoch 2 complete, Loss: 0.09917094558477402; Receptacle Accuracy: 0.417; Time taken (s): 2.111943006515503\n",
            "Iteration 1100 of epoch 2 complete, Loss: 0.11309222131967545; Receptacle Accuracy: 0.200; Time taken (s): 2.0941410064697266\n",
            "Iteration 1200 of epoch 2 complete, Loss: 0.054355643689632416; Receptacle Accuracy: 0.786; Time taken (s): 2.2660255432128906\n",
            "Iteration 1300 of epoch 2 complete, Loss: 0.05700735002756119; Receptacle Accuracy: 0.538; Time taken (s): 2.1477010250091553\n",
            "Iteration 1400 of epoch 2 complete, Loss: 0.07734638452529907; Receptacle Accuracy: 0.784; Time taken (s): 2.0938892364501953\n",
            "Iteration 1500 of epoch 2 complete, Loss: 0.08742579817771912; Receptacle Accuracy: 0.556; Time taken (s): 2.130176305770874\n",
            "Epoch 2 complete! Development Accuracy - receptacle: 0.5433734939759036\n",
            "Iteration 0 of epoch 3 complete, Loss: 0.07393956929445267; Receptacle Accuracy: 0.625; Time taken (s): 100.05991411209106\n",
            "Iteration 100 of epoch 3 complete, Loss: 0.06325529515743256; Receptacle Accuracy: 0.750; Time taken (s): 2.041959762573242\n",
            "Iteration 200 of epoch 3 complete, Loss: 0.1222129687666893; Receptacle Accuracy: 0.154; Time taken (s): 2.174079656600952\n",
            "Iteration 300 of epoch 3 complete, Loss: 0.031531307846307755; Receptacle Accuracy: 0.800; Time taken (s): 1.9908483028411865\n",
            "Iteration 400 of epoch 3 complete, Loss: 0.039337754249572754; Receptacle Accuracy: 0.308; Time taken (s): 2.1059670448303223\n",
            "Iteration 500 of epoch 3 complete, Loss: 0.03630610927939415; Receptacle Accuracy: 1.000; Time taken (s): 2.005009174346924\n",
            "Iteration 600 of epoch 3 complete, Loss: 0.15047447383403778; Receptacle Accuracy: 0.500; Time taken (s): 2.068326950073242\n",
            "Iteration 700 of epoch 3 complete, Loss: 0.05767706781625748; Receptacle Accuracy: 0.571; Time taken (s): 2.1537680625915527\n",
            "Iteration 800 of epoch 3 complete, Loss: 0.09180199354887009; Receptacle Accuracy: 0.421; Time taken (s): 2.0206127166748047\n",
            "Iteration 900 of epoch 3 complete, Loss: 0.03714253753423691; Receptacle Accuracy: 1.000; Time taken (s): 2.1985952854156494\n",
            "Iteration 1000 of epoch 3 complete, Loss: 0.08707452565431595; Receptacle Accuracy: 0.333; Time taken (s): 2.024653434753418\n",
            "Iteration 1100 of epoch 3 complete, Loss: 0.09688073396682739; Receptacle Accuracy: 0.200; Time taken (s): 2.098562717437744\n",
            "Iteration 1200 of epoch 3 complete, Loss: 0.042043011635541916; Receptacle Accuracy: 0.786; Time taken (s): 2.1934921741485596\n",
            "Iteration 1300 of epoch 3 complete, Loss: 0.05785916745662689; Receptacle Accuracy: 0.538; Time taken (s): 2.1723384857177734\n",
            "Iteration 1400 of epoch 3 complete, Loss: 0.10253681242465973; Receptacle Accuracy: 0.676; Time taken (s): 2.181039571762085\n",
            "Iteration 1500 of epoch 3 complete, Loss: 0.09049850702285767; Receptacle Accuracy: 0.444; Time taken (s): 2.101733684539795\n",
            "Epoch 3 complete! Development Accuracy - receptacle: 0.5194492254733218\n",
            "Iteration 0 of epoch 4 complete, Loss: 0.07949350774288177; Receptacle Accuracy: 0.438; Time taken (s): 99.61053919792175\n",
            "Iteration 100 of epoch 4 complete, Loss: 0.0677884891629219; Receptacle Accuracy: 0.875; Time taken (s): 2.0612363815307617\n",
            "Iteration 200 of epoch 4 complete, Loss: 0.14164161682128906; Receptacle Accuracy: 0.154; Time taken (s): 2.0707273483276367\n",
            "Iteration 300 of epoch 4 complete, Loss: 0.025761153548955917; Receptacle Accuracy: 0.800; Time taken (s): 2.0834438800811768\n",
            "Iteration 400 of epoch 4 complete, Loss: 0.03955130651593208; Receptacle Accuracy: 0.538; Time taken (s): 2.090963125228882\n",
            "Iteration 500 of epoch 4 complete, Loss: 0.029944833368062973; Receptacle Accuracy: 1.000; Time taken (s): 2.058879852294922\n",
            "Iteration 600 of epoch 4 complete, Loss: 0.15708638727664948; Receptacle Accuracy: 0.625; Time taken (s): 2.077550172805786\n",
            "Iteration 700 of epoch 4 complete, Loss: 0.048305340111255646; Receptacle Accuracy: 0.571; Time taken (s): 2.1175453662872314\n",
            "Iteration 800 of epoch 4 complete, Loss: 0.0886881947517395; Receptacle Accuracy: 0.421; Time taken (s): 2.0184507369995117\n",
            "Iteration 900 of epoch 4 complete, Loss: 0.04346346855163574; Receptacle Accuracy: 1.000; Time taken (s): 2.16062331199646\n",
            "Iteration 1000 of epoch 4 complete, Loss: 0.10481347143650055; Receptacle Accuracy: 0.333; Time taken (s): 2.0271072387695312\n",
            "Iteration 1100 of epoch 4 complete, Loss: 0.09840162843465805; Receptacle Accuracy: 0.200; Time taken (s): 2.1941800117492676\n",
            "Iteration 1200 of epoch 4 complete, Loss: 0.044601455330848694; Receptacle Accuracy: 0.786; Time taken (s): 2.196850299835205\n",
            "Iteration 1300 of epoch 4 complete, Loss: 0.062230780720710754; Receptacle Accuracy: 0.846; Time taken (s): 2.1038742065429688\n",
            "Iteration 1400 of epoch 4 complete, Loss: 0.08693645149469376; Receptacle Accuracy: 0.865; Time taken (s): 2.1024234294891357\n",
            "Iteration 1500 of epoch 4 complete, Loss: 0.08022729307413101; Receptacle Accuracy: 0.556; Time taken (s): 2.0724637508392334\n",
            "Epoch 4 complete! Development Accuracy - receptacle: 0.5862306368330464\n",
            "Iteration 0 of epoch 5 complete, Loss: 0.057295288890600204; Receptacle Accuracy: 0.688; Time taken (s): 100.02613234519958\n",
            "Iteration 100 of epoch 5 complete, Loss: 0.06084417551755905; Receptacle Accuracy: 1.000; Time taken (s): 2.0247015953063965\n",
            "Iteration 200 of epoch 5 complete, Loss: 0.13249289989471436; Receptacle Accuracy: 0.154; Time taken (s): 2.1727187633514404\n",
            "Iteration 300 of epoch 5 complete, Loss: 0.0245636198669672; Receptacle Accuracy: 0.900; Time taken (s): 2.1211822032928467\n",
            "Iteration 400 of epoch 5 complete, Loss: 0.03279588744044304; Receptacle Accuracy: 0.615; Time taken (s): 2.2119228839874268\n",
            "Iteration 500 of epoch 5 complete, Loss: 0.03159285709261894; Receptacle Accuracy: 0.917; Time taken (s): 2.068037271499634\n",
            "Iteration 600 of epoch 5 complete, Loss: 0.16628514230251312; Receptacle Accuracy: 0.625; Time taken (s): 2.116105079650879\n",
            "Iteration 700 of epoch 5 complete, Loss: 0.04408600926399231; Receptacle Accuracy: 0.571; Time taken (s): 2.0759432315826416\n",
            "Iteration 800 of epoch 5 complete, Loss: 0.06894169747829437; Receptacle Accuracy: 0.474; Time taken (s): 1.965512990951538\n",
            "Iteration 900 of epoch 5 complete, Loss: 0.03270871564745903; Receptacle Accuracy: 1.000; Time taken (s): 2.144660234451294\n",
            "Iteration 1000 of epoch 5 complete, Loss: 0.09252846986055374; Receptacle Accuracy: 0.333; Time taken (s): 2.1329281330108643\n",
            "Iteration 1100 of epoch 5 complete, Loss: 0.09964057058095932; Receptacle Accuracy: 0.200; Time taken (s): 2.0987515449523926\n",
            "Iteration 1200 of epoch 5 complete, Loss: 0.04445314034819603; Receptacle Accuracy: 0.500; Time taken (s): 2.1759347915649414\n",
            "Iteration 1300 of epoch 5 complete, Loss: 0.04729171469807625; Receptacle Accuracy: 0.846; Time taken (s): 2.11586856842041\n",
            "Iteration 1400 of epoch 5 complete, Loss: 0.07730867713689804; Receptacle Accuracy: 0.811; Time taken (s): 2.0978901386260986\n",
            "Iteration 1500 of epoch 5 complete, Loss: 0.07343167066574097; Receptacle Accuracy: 0.556; Time taken (s): 2.131945848464966\n",
            "Epoch 5 complete! Development Accuracy - receptacle: 0.5807228915662651\n",
            "Iteration 0 of epoch 6 complete, Loss: 0.06662625074386597; Receptacle Accuracy: 0.625; Time taken (s): 100.00642728805542\n",
            "Iteration 100 of epoch 6 complete, Loss: 0.05760195851325989; Receptacle Accuracy: 0.875; Time taken (s): 2.0621471405029297\n",
            "Iteration 200 of epoch 6 complete, Loss: 0.10910052061080933; Receptacle Accuracy: 0.154; Time taken (s): 2.085099697113037\n",
            "Iteration 300 of epoch 6 complete, Loss: 0.030198825523257256; Receptacle Accuracy: 0.900; Time taken (s): 2.065483570098877\n",
            "Iteration 400 of epoch 6 complete, Loss: 0.030058888718485832; Receptacle Accuracy: 0.846; Time taken (s): 2.1208887100219727\n",
            "Iteration 500 of epoch 6 complete, Loss: 0.029303837567567825; Receptacle Accuracy: 1.000; Time taken (s): 2.0570127964019775\n",
            "Iteration 600 of epoch 6 complete, Loss: 0.14528515934944153; Receptacle Accuracy: 0.500; Time taken (s): 2.1344330310821533\n",
            "Iteration 700 of epoch 6 complete, Loss: 0.044218067079782486; Receptacle Accuracy: 0.571; Time taken (s): 2.161778450012207\n",
            "Iteration 800 of epoch 6 complete, Loss: 0.06688465178012848; Receptacle Accuracy: 0.526; Time taken (s): 2.008310556411743\n",
            "Iteration 900 of epoch 6 complete, Loss: 0.03018961474299431; Receptacle Accuracy: 1.000; Time taken (s): 2.1985104084014893\n",
            "Iteration 1000 of epoch 6 complete, Loss: 0.09312883019447327; Receptacle Accuracy: 0.333; Time taken (s): 2.155658006668091\n",
            "Iteration 1100 of epoch 6 complete, Loss: 0.09465301781892776; Receptacle Accuracy: 0.200; Time taken (s): 2.116422176361084\n",
            "Iteration 1200 of epoch 6 complete, Loss: 0.04668576642870903; Receptacle Accuracy: 0.500; Time taken (s): 2.217196226119995\n",
            "Iteration 1300 of epoch 6 complete, Loss: 0.04338913783431053; Receptacle Accuracy: 0.538; Time taken (s): 2.096503257751465\n",
            "Iteration 1400 of epoch 6 complete, Loss: 0.06715963780879974; Receptacle Accuracy: 0.946; Time taken (s): 2.121039867401123\n",
            "Iteration 1500 of epoch 6 complete, Loss: 0.08210735768079758; Receptacle Accuracy: 0.556; Time taken (s): 2.1225528717041016\n",
            "Epoch 6 complete! Development Accuracy - receptacle: 0.5963855421686747\n",
            "Iteration 0 of epoch 7 complete, Loss: 0.0578073114156723; Receptacle Accuracy: 0.750; Time taken (s): 100.17108583450317\n",
            "Iteration 100 of epoch 7 complete, Loss: 0.05272551253437996; Receptacle Accuracy: 0.875; Time taken (s): 2.0731658935546875\n",
            "Iteration 200 of epoch 7 complete, Loss: 0.11334403604269028; Receptacle Accuracy: 0.154; Time taken (s): 2.142181634902954\n",
            "Iteration 300 of epoch 7 complete, Loss: 0.030342577025294304; Receptacle Accuracy: 0.800; Time taken (s): 2.1212446689605713\n",
            "Iteration 400 of epoch 7 complete, Loss: 0.027996206656098366; Receptacle Accuracy: 0.846; Time taken (s): 2.196885347366333\n",
            "Iteration 500 of epoch 7 complete, Loss: 0.03041788563132286; Receptacle Accuracy: 1.000; Time taken (s): 2.1084494590759277\n",
            "Iteration 600 of epoch 7 complete, Loss: 0.15817004442214966; Receptacle Accuracy: 0.500; Time taken (s): 2.146010160446167\n",
            "Iteration 700 of epoch 7 complete, Loss: 0.03920789808034897; Receptacle Accuracy: 0.571; Time taken (s): 2.161101818084717\n",
            "Iteration 800 of epoch 7 complete, Loss: 0.07519643753767014; Receptacle Accuracy: 0.526; Time taken (s): 2.0363552570343018\n",
            "Iteration 900 of epoch 7 complete, Loss: 0.03224644809961319; Receptacle Accuracy: 1.000; Time taken (s): 2.273836374282837\n",
            "Iteration 1000 of epoch 7 complete, Loss: 0.09733212739229202; Receptacle Accuracy: 0.333; Time taken (s): 2.0692124366760254\n",
            "Iteration 1100 of epoch 7 complete, Loss: 0.1029854342341423; Receptacle Accuracy: 0.200; Time taken (s): 2.1699986457824707\n",
            "Iteration 1200 of epoch 7 complete, Loss: 0.03874649107456207; Receptacle Accuracy: 0.500; Time taken (s): 2.2296926975250244\n",
            "Iteration 1300 of epoch 7 complete, Loss: 0.031571127474308014; Receptacle Accuracy: 0.923; Time taken (s): 2.1452550888061523\n",
            "Iteration 1400 of epoch 7 complete, Loss: 0.10229774564504623; Receptacle Accuracy: 0.703; Time taken (s): 2.1513421535491943\n",
            "Iteration 1500 of epoch 7 complete, Loss: 0.05780286714434624; Receptacle Accuracy: 0.444; Time taken (s): 2.18839955329895\n",
            "Epoch 7 complete! Development Accuracy - receptacle: 0.5948364888123924\n",
            "Iteration 0 of epoch 8 complete, Loss: 0.06777605414390564; Receptacle Accuracy: 0.500; Time taken (s): 100.60332560539246\n",
            "Iteration 100 of epoch 8 complete, Loss: 0.05594715476036072; Receptacle Accuracy: 1.000; Time taken (s): 2.074275493621826\n",
            "Iteration 200 of epoch 8 complete, Loss: 0.11419228464365005; Receptacle Accuracy: 0.154; Time taken (s): 2.1240663528442383\n",
            "Iteration 300 of epoch 8 complete, Loss: 0.02428768016397953; Receptacle Accuracy: 0.800; Time taken (s): 2.088876962661743\n",
            "Iteration 400 of epoch 8 complete, Loss: 0.0273695420473814; Receptacle Accuracy: 0.692; Time taken (s): 2.126823902130127\n",
            "Iteration 500 of epoch 8 complete, Loss: 0.025806637480854988; Receptacle Accuracy: 1.000; Time taken (s): 2.0403831005096436\n",
            "Iteration 600 of epoch 8 complete, Loss: 0.14106842875480652; Receptacle Accuracy: 0.500; Time taken (s): 2.071892261505127\n",
            "Iteration 700 of epoch 8 complete, Loss: 0.0342060923576355; Receptacle Accuracy: 0.571; Time taken (s): 2.0675549507141113\n",
            "Iteration 800 of epoch 8 complete, Loss: 0.07107724249362946; Receptacle Accuracy: 0.526; Time taken (s): 2.0990958213806152\n",
            "Iteration 900 of epoch 8 complete, Loss: 0.030463846400380135; Receptacle Accuracy: 1.000; Time taken (s): 2.1822350025177\n",
            "Iteration 1000 of epoch 8 complete, Loss: 0.07536148279905319; Receptacle Accuracy: 0.333; Time taken (s): 2.0943071842193604\n",
            "Iteration 1100 of epoch 8 complete, Loss: 0.0966758131980896; Receptacle Accuracy: 0.200; Time taken (s): 2.1320531368255615\n",
            "Iteration 1200 of epoch 8 complete, Loss: 0.043721213936805725; Receptacle Accuracy: 0.357; Time taken (s): 2.2149770259857178\n",
            "Iteration 1300 of epoch 8 complete, Loss: 0.04202069342136383; Receptacle Accuracy: 0.538; Time taken (s): 2.150347948074341\n",
            "Iteration 1400 of epoch 8 complete, Loss: 0.05661282688379288; Receptacle Accuracy: 0.946; Time taken (s): 2.097992420196533\n",
            "Iteration 1500 of epoch 8 complete, Loss: 0.06023353338241577; Receptacle Accuracy: 0.667; Time taken (s): 2.1077303886413574\n",
            "Epoch 8 complete! Development Accuracy - receptacle: 0.6211703958691911\n",
            "Iteration 0 of epoch 9 complete, Loss: 0.041430067270994186; Receptacle Accuracy: 0.750; Time taken (s): 100.81426239013672\n",
            "Iteration 100 of epoch 9 complete, Loss: 0.0480479933321476; Receptacle Accuracy: 0.875; Time taken (s): 2.1233303546905518\n",
            "Iteration 200 of epoch 9 complete, Loss: 0.10101199150085449; Receptacle Accuracy: 0.154; Time taken (s): 2.2003285884857178\n",
            "Iteration 300 of epoch 9 complete, Loss: 0.021773604676127434; Receptacle Accuracy: 0.800; Time taken (s): 2.0649383068084717\n",
            "Iteration 400 of epoch 9 complete, Loss: 0.027310185134410858; Receptacle Accuracy: 0.923; Time taken (s): 2.1944990158081055\n",
            "Iteration 500 of epoch 9 complete, Loss: 0.024694714695215225; Receptacle Accuracy: 0.917; Time taken (s): 2.115185499191284\n",
            "Iteration 600 of epoch 9 complete, Loss: 0.14895407855510712; Receptacle Accuracy: 0.625; Time taken (s): 2.0712456703186035\n",
            "Iteration 700 of epoch 9 complete, Loss: 0.04445870593190193; Receptacle Accuracy: 0.571; Time taken (s): 2.1002094745635986\n",
            "Iteration 800 of epoch 9 complete, Loss: 0.08693382143974304; Receptacle Accuracy: 0.526; Time taken (s): 2.087800979614258\n",
            "Iteration 900 of epoch 9 complete, Loss: 0.0339881032705307; Receptacle Accuracy: 1.000; Time taken (s): 2.2640113830566406\n",
            "Iteration 1000 of epoch 9 complete, Loss: 0.08232416212558746; Receptacle Accuracy: 0.333; Time taken (s): 2.334400177001953\n",
            "Iteration 1100 of epoch 9 complete, Loss: 0.09383463114500046; Receptacle Accuracy: 0.200; Time taken (s): 2.210026502609253\n",
            "Iteration 1200 of epoch 9 complete, Loss: 0.03867732360959053; Receptacle Accuracy: 0.500; Time taken (s): 2.2478322982788086\n",
            "Iteration 1300 of epoch 9 complete, Loss: 0.028083093464374542; Receptacle Accuracy: 0.846; Time taken (s): 2.21433162689209\n",
            "Iteration 1400 of epoch 9 complete, Loss: 0.06887725740671158; Receptacle Accuracy: 0.892; Time taken (s): 2.1663358211517334\n",
            "Iteration 1500 of epoch 9 complete, Loss: 0.05479760095477104; Receptacle Accuracy: 0.556; Time taken (s): 2.1826651096343994\n",
            "Epoch 9 complete! Development Accuracy - receptacle: 0.6173838209982788\n",
            "Iteration 0 of epoch 10 complete, Loss: 0.07126622647047043; Receptacle Accuracy: 0.688; Time taken (s): 100.57016611099243\n",
            "Iteration 100 of epoch 10 complete, Loss: 0.05423936992883682; Receptacle Accuracy: 0.875; Time taken (s): 1.9862456321716309\n",
            "Iteration 200 of epoch 10 complete, Loss: 0.10945407301187515; Receptacle Accuracy: 0.154; Time taken (s): 2.1867213249206543\n",
            "Iteration 300 of epoch 10 complete, Loss: 0.021109532564878464; Receptacle Accuracy: 0.800; Time taken (s): 2.01285982131958\n",
            "Iteration 400 of epoch 10 complete, Loss: 0.027234146371483803; Receptacle Accuracy: 0.923; Time taken (s): 2.132145404815674\n",
            "Iteration 500 of epoch 10 complete, Loss: 0.023490961641073227; Receptacle Accuracy: 1.000; Time taken (s): 2.0778164863586426\n",
            "Iteration 600 of epoch 10 complete, Loss: 0.14734387397766113; Receptacle Accuracy: 0.625; Time taken (s): 2.0947296619415283\n",
            "Iteration 700 of epoch 10 complete, Loss: 0.03664236515760422; Receptacle Accuracy: 0.571; Time taken (s): 2.12414813041687\n",
            "Iteration 800 of epoch 10 complete, Loss: 0.08305953443050385; Receptacle Accuracy: 0.474; Time taken (s): 1.9950299263000488\n",
            "Iteration 900 of epoch 10 complete, Loss: 0.030376950278878212; Receptacle Accuracy: 1.000; Time taken (s): 2.168043613433838\n",
            "Iteration 1000 of epoch 10 complete, Loss: 0.08884663134813309; Receptacle Accuracy: 0.333; Time taken (s): 2.0540261268615723\n",
            "Iteration 1100 of epoch 10 complete, Loss: 0.08446011692285538; Receptacle Accuracy: 0.200; Time taken (s): 2.106862783432007\n",
            "Iteration 1200 of epoch 10 complete, Loss: 0.039574503898620605; Receptacle Accuracy: 0.500; Time taken (s): 2.1279096603393555\n",
            "Iteration 1300 of epoch 10 complete, Loss: 0.04277762398123741; Receptacle Accuracy: 0.846; Time taken (s): 2.11954927444458\n",
            "Iteration 1400 of epoch 10 complete, Loss: 0.0740249902009964; Receptacle Accuracy: 0.946; Time taken (s): 2.149791717529297\n",
            "Iteration 1500 of epoch 10 complete, Loss: 0.053083233535289764; Receptacle Accuracy: 0.556; Time taken (s): 2.124192476272583\n",
            "Epoch 10 complete! Development Accuracy - receptacle: 0.5948364888123924\n",
            "Iteration 0 of epoch 11 complete, Loss: 0.061081964522600174; Receptacle Accuracy: 0.688; Time taken (s): 100.43382620811462\n",
            "Iteration 100 of epoch 11 complete, Loss: 0.04193189740180969; Receptacle Accuracy: 1.000; Time taken (s): 2.0257270336151123\n",
            "Iteration 200 of epoch 11 complete, Loss: 0.10241060703992844; Receptacle Accuracy: 0.231; Time taken (s): 2.1790847778320312\n",
            "Iteration 300 of epoch 11 complete, Loss: 0.021740514785051346; Receptacle Accuracy: 0.900; Time taken (s): 2.072550058364868\n",
            "Iteration 400 of epoch 11 complete, Loss: 0.03142180293798447; Receptacle Accuracy: 0.462; Time taken (s): 2.16729474067688\n",
            "Iteration 500 of epoch 11 complete, Loss: 0.02267950214445591; Receptacle Accuracy: 1.000; Time taken (s): 2.161024570465088\n",
            "Iteration 600 of epoch 11 complete, Loss: 0.15709944069385529; Receptacle Accuracy: 0.625; Time taken (s): 2.164151668548584\n",
            "Iteration 700 of epoch 11 complete, Loss: 0.028947977349162102; Receptacle Accuracy: 0.571; Time taken (s): 2.1799983978271484\n",
            "Iteration 800 of epoch 11 complete, Loss: 0.07868495583534241; Receptacle Accuracy: 0.632; Time taken (s): 2.0524630546569824\n",
            "Iteration 900 of epoch 11 complete, Loss: 0.03881340101361275; Receptacle Accuracy: 1.000; Time taken (s): 2.215665578842163\n",
            "Iteration 1000 of epoch 11 complete, Loss: 0.07685395330190659; Receptacle Accuracy: 0.417; Time taken (s): 2.107551336288452\n",
            "Iteration 1100 of epoch 11 complete, Loss: 0.0761735588312149; Receptacle Accuracy: 0.200; Time taken (s): 2.0421085357666016\n",
            "Iteration 1200 of epoch 11 complete, Loss: 0.03986668959259987; Receptacle Accuracy: 0.786; Time taken (s): 2.167584180831909\n",
            "Iteration 1300 of epoch 11 complete, Loss: 0.04811187833547592; Receptacle Accuracy: 0.538; Time taken (s): 2.152442455291748\n",
            "Iteration 1400 of epoch 11 complete, Loss: 0.0646645575761795; Receptacle Accuracy: 0.973; Time taken (s): 2.1397829055786133\n",
            "Iteration 1500 of epoch 11 complete, Loss: 0.04896947741508484; Receptacle Accuracy: 0.556; Time taken (s): 2.096668004989624\n",
            "Epoch 11 complete! Development Accuracy - receptacle: 0.6013769363166953\n",
            "Iteration 0 of epoch 12 complete, Loss: 0.04554074630141258; Receptacle Accuracy: 0.750; Time taken (s): 101.12292814254761\n",
            "Iteration 100 of epoch 12 complete, Loss: 0.040914878249168396; Receptacle Accuracy: 0.875; Time taken (s): 2.1504805088043213\n",
            "Iteration 200 of epoch 12 complete, Loss: 0.10560180991888046; Receptacle Accuracy: 0.231; Time taken (s): 2.1717443466186523\n",
            "Iteration 300 of epoch 12 complete, Loss: 0.01886918768286705; Receptacle Accuracy: 1.000; Time taken (s): 2.1399085521698\n",
            "Iteration 400 of epoch 12 complete, Loss: 0.031199397519230843; Receptacle Accuracy: 0.538; Time taken (s): 2.1161553859710693\n",
            "Iteration 500 of epoch 12 complete, Loss: 0.02351359650492668; Receptacle Accuracy: 0.917; Time taken (s): 2.070369243621826\n",
            "Iteration 600 of epoch 12 complete, Loss: 0.15191757678985596; Receptacle Accuracy: 0.625; Time taken (s): 2.0905237197875977\n",
            "Iteration 700 of epoch 12 complete, Loss: 0.030034292489290237; Receptacle Accuracy: 0.571; Time taken (s): 2.1977076530456543\n",
            "Iteration 800 of epoch 12 complete, Loss: 0.11133334785699844; Receptacle Accuracy: 0.526; Time taken (s): 2.0224039554595947\n",
            "Iteration 900 of epoch 12 complete, Loss: 0.036135606467723846; Receptacle Accuracy: 1.000; Time taken (s): 2.208813190460205\n",
            "Iteration 1000 of epoch 12 complete, Loss: 0.07970421016216278; Receptacle Accuracy: 0.333; Time taken (s): 2.0574729442596436\n",
            "Iteration 1100 of epoch 12 complete, Loss: 0.08178938925266266; Receptacle Accuracy: 0.200; Time taken (s): 2.1271443367004395\n",
            "Iteration 1200 of epoch 12 complete, Loss: 0.038109153509140015; Receptacle Accuracy: 0.500; Time taken (s): 2.174163818359375\n",
            "Iteration 1300 of epoch 12 complete, Loss: 0.04307928681373596; Receptacle Accuracy: 0.846; Time taken (s): 2.150394916534424\n",
            "Iteration 1400 of epoch 12 complete, Loss: 0.07190494984388351; Receptacle Accuracy: 0.892; Time taken (s): 2.175074577331543\n",
            "Iteration 1500 of epoch 12 complete, Loss: 0.054827794432640076; Receptacle Accuracy: 0.556; Time taken (s): 2.153252363204956\n",
            "Epoch 12 complete! Development Accuracy - receptacle: 0.595697074010327\n",
            "Iteration 0 of epoch 13 complete, Loss: 0.05412709340453148; Receptacle Accuracy: 0.688; Time taken (s): 100.9511308670044\n",
            "Iteration 100 of epoch 13 complete, Loss: 0.04126590117812157; Receptacle Accuracy: 1.000; Time taken (s): 2.0310285091400146\n",
            "Iteration 200 of epoch 13 complete, Loss: 0.10018762946128845; Receptacle Accuracy: 0.154; Time taken (s): 2.1064023971557617\n",
            "Iteration 300 of epoch 13 complete, Loss: 0.02220889739692211; Receptacle Accuracy: 0.800; Time taken (s): 2.06608247756958\n",
            "Iteration 400 of epoch 13 complete, Loss: 0.023740297183394432; Receptacle Accuracy: 0.923; Time taken (s): 2.202759027481079\n",
            "Iteration 500 of epoch 13 complete, Loss: 0.02172299288213253; Receptacle Accuracy: 1.000; Time taken (s): 2.0678160190582275\n",
            "Iteration 600 of epoch 13 complete, Loss: 0.14626069366931915; Receptacle Accuracy: 0.625; Time taken (s): 2.145071029663086\n",
            "Iteration 700 of epoch 13 complete, Loss: 0.03753303363919258; Receptacle Accuracy: 0.571; Time taken (s): 2.1694445610046387\n",
            "Iteration 800 of epoch 13 complete, Loss: 0.06614761054515839; Receptacle Accuracy: 0.632; Time taken (s): 2.0249216556549072\n",
            "Iteration 900 of epoch 13 complete, Loss: 0.032106656581163406; Receptacle Accuracy: 1.000; Time taken (s): 2.188145637512207\n",
            "Iteration 1000 of epoch 13 complete, Loss: 0.07973304390907288; Receptacle Accuracy: 0.417; Time taken (s): 2.1055781841278076\n",
            "Iteration 1100 of epoch 13 complete, Loss: 0.08505706489086151; Receptacle Accuracy: 0.200; Time taken (s): 2.0320966243743896\n",
            "Iteration 1200 of epoch 13 complete, Loss: 0.03653340041637421; Receptacle Accuracy: 0.643; Time taken (s): 2.1801528930664062\n",
            "Iteration 1300 of epoch 13 complete, Loss: 0.03737005218863487; Receptacle Accuracy: 0.692; Time taken (s): 2.179711103439331\n",
            "Iteration 1400 of epoch 13 complete, Loss: 0.06437492370605469; Receptacle Accuracy: 0.946; Time taken (s): 2.196089744567871\n",
            "Iteration 1500 of epoch 13 complete, Loss: 0.053810108453035355; Receptacle Accuracy: 0.556; Time taken (s): 2.142392873764038\n",
            "Epoch 13 complete! Development Accuracy - receptacle: 0.6036144578313253\n",
            "Iteration 0 of epoch 14 complete, Loss: 0.04713594168424606; Receptacle Accuracy: 0.750; Time taken (s): 102.21505498886108\n",
            "Iteration 100 of epoch 14 complete, Loss: 0.039617255330085754; Receptacle Accuracy: 0.875; Time taken (s): 2.057063102722168\n",
            "Iteration 200 of epoch 14 complete, Loss: 0.09505899250507355; Receptacle Accuracy: 0.346; Time taken (s): 2.110116958618164\n",
            "Iteration 300 of epoch 14 complete, Loss: 0.023528002202510834; Receptacle Accuracy: 0.900; Time taken (s): 2.0626368522644043\n",
            "Iteration 400 of epoch 14 complete, Loss: 0.02273976244032383; Receptacle Accuracy: 0.923; Time taken (s): 2.146275043487549\n",
            "Iteration 500 of epoch 14 complete, Loss: 0.02310917340219021; Receptacle Accuracy: 0.833; Time taken (s): 2.0933260917663574\n",
            "Iteration 600 of epoch 14 complete, Loss: 0.14967678487300873; Receptacle Accuracy: 0.625; Time taken (s): 2.143310785293579\n",
            "Iteration 700 of epoch 14 complete, Loss: 0.039286937564611435; Receptacle Accuracy: 0.571; Time taken (s): 2.10406231880188\n",
            "Iteration 800 of epoch 14 complete, Loss: 0.06733988225460052; Receptacle Accuracy: 0.632; Time taken (s): 2.0715973377227783\n",
            "Iteration 900 of epoch 14 complete, Loss: 0.03016938455402851; Receptacle Accuracy: 1.000; Time taken (s): 2.2210025787353516\n",
            "Iteration 1000 of epoch 14 complete, Loss: 0.08774620294570923; Receptacle Accuracy: 0.333; Time taken (s): 2.1137001514434814\n",
            "Iteration 1100 of epoch 14 complete, Loss: 0.07779648900032043; Receptacle Accuracy: 0.600; Time taken (s): 2.1230082511901855\n",
            "Iteration 1200 of epoch 14 complete, Loss: 0.037906013429164886; Receptacle Accuracy: 0.643; Time taken (s): 2.166147232055664\n",
            "Iteration 1300 of epoch 14 complete, Loss: 0.035505883395671844; Receptacle Accuracy: 0.846; Time taken (s): 2.06378173828125\n",
            "Iteration 1400 of epoch 14 complete, Loss: 0.06257842481136322; Receptacle Accuracy: 0.946; Time taken (s): 2.1748428344726562\n",
            "Iteration 1500 of epoch 14 complete, Loss: 0.04847721382975578; Receptacle Accuracy: 0.556; Time taken (s): 2.154254198074341\n",
            "Epoch 14 complete! Development Accuracy - receptacle: 0.6053356282271944\n"
          ]
        },
        {
          "output_type": "execute_result",
          "data": {
            "text/plain": [
              "[0.5375215146299483,\n",
              " 0.5055077452667814,\n",
              " 0.5433734939759036,\n",
              " 0.5194492254733218,\n",
              " 0.5862306368330464,\n",
              " 0.5807228915662651,\n",
              " 0.5963855421686747,\n",
              " 0.5948364888123924,\n",
              " 0.6211703958691911,\n",
              " 0.6173838209982788,\n",
              " 0.5948364888123924,\n",
              " 0.6013769363166953,\n",
              " 0.595697074010327,\n",
              " 0.6036144578313253,\n",
              " 0.6053356282271944]"
            ]
          },
          "metadata": {},
          "execution_count": 64
        }
      ]
    },
    {
      "cell_type": "code",
      "metadata": {
        "colab": {
          "base_uri": "https://localhost:8080/"
        },
        "id": "CfD-EoGTzW9Y",
        "outputId": "e476b4c9-1ccf-471c-aaf0-414135b9f499"
      },
      "source": [
        "# accuracy on test dataset\n",
        "\n",
        "test_rec_acc_300d, test_preds_300d = evaluate(model_300d, test_loader_300d, device)\n",
        "print(\"test accuracy: \", test_rec_acc_300d)\n"
      ],
      "execution_count": null,
      "outputs": [
        {
          "output_type": "stream",
          "name": "stdout",
          "text": [
            "test accuracy:  0.6477342628665163\n"
          ]
        }
      ]
    },
    {
      "cell_type": "code",
      "metadata": {
        "colab": {
          "base_uri": "https://localhost:8080/",
          "height": 888
        },
        "id": "e3kXrgmzv9sB",
        "outputId": "6fcb8c05-fca2-43f9-dee0-40e79393c51a"
      },
      "source": [
        "cm_300d = confusion_matrix(test_labels, test_preds_300d)\n",
        "print(cm_300d)\n",
        "plot_confusion_matrix(cm_300d, classes_name)\n",
        "print(classification_report(test_labels, test_preds_300d, target_names=classes_name))"
      ],
      "execution_count": null,
      "outputs": [
        {
          "output_type": "stream",
          "name": "stdout",
          "text": [
            "[[131521    420     55   1621    309]\n",
            " [   275   4289     33     35      0]\n",
            " [   316    207    762      0     66]\n",
            " [  1479     23      1   2515      8]\n",
            " [   210      0      5     16    620]]\n",
            "Confusion matrix, without normalization\n",
            "              precision    recall  f1-score   support\n",
            "\n",
            "           O       0.98      0.98      0.98    133926\n",
            "    B-TARGET       0.87      0.93      0.90      4632\n",
            "    I-TARGET       0.89      0.56      0.69      1351\n",
            "B-RECEPTACLE       0.60      0.62      0.61      4026\n",
            "I-RECEPTACLE       0.62      0.73      0.67       851\n",
            "\n",
            "    accuracy                           0.96    144786\n",
            "   macro avg       0.79      0.77      0.77    144786\n",
            "weighted avg       0.97      0.96      0.96    144786\n",
            "\n"
          ]
        },
        {
          "output_type": "display_data",
          "data": {
            "image/png": "[encoded data removed]",
            "text/plain": [
              "<Figure size 576x576 with 2 Axes>"
            ]
          },
          "metadata": {
            "needs_background": "light"
          }
        }
      ]
    },
    {
      "cell_type": "markdown",
      "metadata": {
        "id": "RmD4RymxKubY"
      },
      "source": [
        "##Using dependency parsing only"
      ]
    },
    {
      "cell_type": "code",
      "metadata": {
        "colab": {
          "base_uri": "https://localhost:8080/"
        },
        "id": "l9psYjQIK1cq",
        "outputId": "1016b76c-6692-4c52-b843-001b07e12f25"
      },
      "source": [
        "# create the dataset for training, validation and testing\n",
        "train_set_dep = ELDataset(nlp_model = nlp, sentence_file = TRAIN_SENTENCES_FILE_PATH, \n",
        "                      dep_file = TRAIN_DEP_FILE_PATH, \n",
        "                      label_file = TRAIN_LABELS_FILE_PATH,\n",
        "                      emb_feature = False)\n",
        "\n",
        "dev_set_dep = ELDataset(nlp_model = nlp, sentence_file = DEV_SENTENCES_FILE_PATH, \n",
        "                    dep_file = DEV_DEP_FILE_PATH, \n",
        "                    label_file = DEV_LABELS_FILE_PATH, emb_feature = False)\n",
        "\n",
        "test_set_dep = ELDataset(nlp_model = nlp, sentence_file = TEST_SENTENCES_FILE_PATH, \n",
        "                     dep_file = TEST_DEP_FILE_PATH, \n",
        "                     label_file = TEST_LABELS_FILE_PATH, emb_feature = False)\n",
        "\n",
        "# Load the dataset\n",
        "train_loader_dep = DataLoader(train_set_dep, batch_size = batchsize_global, \n",
        "                          shuffle=False, pin_memory=True, \n",
        "                          collate_fn = pad_collate)\n",
        "\n",
        "dev_loader_dep = DataLoader(dev_set_dep, batch_size = batchsize_global, \n",
        "                        shuffle=False, pin_memory=True, \n",
        "                        collate_fn = pad_collate)\n",
        "\n",
        "test_loader_dep = DataLoader(test_set_dep, batch_size = batchsize_global, \n",
        "                         shuffle=False, pin_memory=True, \n",
        "                         collate_fn = pad_collate)\n",
        "\n",
        "print(\"Done loading datasets with only dependency features.\")"
      ],
      "execution_count": null,
      "outputs": [
        {
          "output_type": "stream",
          "name": "stdout",
          "text": [
            "Done loading datasets with only dependency features.\n"
          ]
        }
      ]
    },
    {
      "cell_type": "code",
      "metadata": {
        "colab": {
          "base_uri": "https://localhost:8080/"
        },
        "id": "D4aoDbbHMQeg",
        "outputId": "0571002a-b261-484f-dbb5-dbc6f06784d0"
      },
      "source": [
        "print(train_set_dep[0][0][0].shape)"
      ],
      "execution_count": null,
      "outputs": [
        {
          "output_type": "stream",
          "name": "stdout",
          "text": [
            "torch.Size([41])\n"
          ]
        }
      ]
    },
    {
      "cell_type": "code",
      "metadata": {
        "colab": {
          "base_uri": "https://localhost:8080/"
        },
        "id": "Dx-dobC_MRRR",
        "outputId": "3c60bc40-0193-4727-9334-3192a2c0ec6d"
      },
      "source": [
        "# Run the entity linker on GPU / CPU\n",
        "model_dep = EntityLinker(feature_dim = depset_size, \n",
        "                     hidden_dim = 20, \n",
        "                     roleset_size = roleset_size)\n",
        "model_dep.to(device)\n",
        "print(\"Done creating the entity linker with only dep features\")"
      ],
      "execution_count": null,
      "outputs": [
        {
          "output_type": "stream",
          "name": "stdout",
          "text": [
            "Done creating the entity linker with only dep features\n"
          ]
        }
      ]
    },
    {
      "cell_type": "code",
      "metadata": {
        "colab": {
          "base_uri": "https://localhost:8080/"
        },
        "id": "WSesvblTMWy_",
        "outputId": "d6fb05c9-748a-48b1-f138-2596f32fb2dc"
      },
      "source": [
        "num_epoch = 15\n",
        "optimizer = optim.Adam(model_dep.parameters(), lr = 2e-3)\n",
        "dev_dep_history, dep_best_model = train(model_dep, loss_fn, optimizer, train_loader_dep, dev_loader_dep, num_epoch, device)"
      ],
      "execution_count": null,
      "outputs": [
        {
          "output_type": "stream",
          "name": "stdout",
          "text": [
            "Iteration 0 of epoch 0 complete, Loss: 0.1806529015302658; B-Receptacle f-score: 0.222; Time taken (s): 0.06443285942077637\n",
            "Iteration 100 of epoch 0 complete, Loss: 0.08621294796466827; B-Receptacle f-score: 0.750; Time taken (s): 3.0359199047088623\n",
            "Iteration 200 of epoch 0 complete, Loss: 0.31397226452827454; B-Receptacle f-score: 0.087; Time taken (s): 3.0699427127838135\n",
            "Iteration 300 of epoch 0 complete, Loss: 0.17773586511611938; B-Receptacle f-score: 0.286; Time taken (s): 3.022629737854004\n",
            "Iteration 400 of epoch 0 complete, Loss: 0.1439291536808014; B-Receptacle f-score: 0.471; Time taken (s): 2.997635841369629\n",
            "Iteration 500 of epoch 0 complete, Loss: 0.08620554953813553; B-Receptacle f-score: 0.500; Time taken (s): 2.9733760356903076\n",
            "Iteration 600 of epoch 0 complete, Loss: 0.1555902510881424; B-Receptacle f-score: 0.250; Time taken (s): 3.0753049850463867\n",
            "Iteration 700 of epoch 0 complete, Loss: 0.09513293951749802; B-Receptacle f-score: 0.933; Time taken (s): 3.061439037322998\n",
            "Iteration 800 of epoch 0 complete, Loss: 0.21081431210041046; B-Receptacle f-score: 0.500; Time taken (s): 2.843071937561035\n",
            "Iteration 900 of epoch 0 complete, Loss: 0.13700641691684723; B-Receptacle f-score: 0.235; Time taken (s): 3.1507837772369385\n",
            "Iteration 1000 of epoch 0 complete, Loss: 0.14053994417190552; B-Receptacle f-score: 0.333; Time taken (s): 2.9034621715545654\n",
            "Iteration 1100 of epoch 0 complete, Loss: 0.1217116266489029; B-Receptacle f-score: 0.000; Time taken (s): 3.1185290813446045\n",
            "Iteration 1200 of epoch 0 complete, Loss: 0.13293194770812988; B-Receptacle f-score: 0.100; Time taken (s): 3.0810046195983887\n",
            "Iteration 1300 of epoch 0 complete, Loss: 0.10132354497909546; B-Receptacle f-score: 0.632; Time taken (s): 3.0899391174316406\n",
            "Iteration 1400 of epoch 0 complete, Loss: 0.14206668734550476; B-Receptacle f-score: 0.737; Time taken (s): 3.012882947921753\n",
            "Iteration 1500 of epoch 0 complete, Loss: 0.13196997344493866; B-Receptacle f-score: 0.000; Time taken (s): 3.0677711963653564\n",
            "Epoch 0 complete! Development accuracy: 0.936; Development B-RECEPTACLE f-score: 0.409;\n",
            "Iteration 0 of epoch 1 complete, Loss: 0.18839600682258606; B-Receptacle f-score: 0.118; Time taken (s): 99.77110505104065\n",
            "Iteration 100 of epoch 1 complete, Loss: 0.08562002331018448; B-Receptacle f-score: 0.750; Time taken (s): 2.879138946533203\n",
            "Iteration 200 of epoch 1 complete, Loss: 0.3219392001628876; B-Receptacle f-score: 0.087; Time taken (s): 2.9559121131896973\n",
            "Iteration 300 of epoch 1 complete, Loss: 0.17679788172245026; B-Receptacle f-score: 0.364; Time taken (s): 2.9591732025146484\n",
            "Iteration 400 of epoch 1 complete, Loss: 0.1416875272989273; B-Receptacle f-score: 0.471; Time taken (s): 3.0514333248138428\n",
            "Iteration 500 of epoch 1 complete, Loss: 0.08712489902973175; B-Receptacle f-score: 0.500; Time taken (s): 2.9476635456085205\n",
            "Iteration 600 of epoch 1 complete, Loss: 0.15529659390449524; B-Receptacle f-score: 0.250; Time taken (s): 3.002072811126709\n",
            "Iteration 700 of epoch 1 complete, Loss: 0.09399352222681046; B-Receptacle f-score: 0.875; Time taken (s): 3.048142910003662\n",
            "Iteration 800 of epoch 1 complete, Loss: 0.20806634426116943; B-Receptacle f-score: 0.500; Time taken (s): 2.904803514480591\n",
            "Iteration 900 of epoch 1 complete, Loss: 0.1358158439397812; B-Receptacle f-score: 0.235; Time taken (s): 3.137054681777954\n",
            "Iteration 1000 of epoch 1 complete, Loss: 0.1407032608985901; B-Receptacle f-score: 0.261; Time taken (s): 2.9997642040252686\n",
            "Iteration 1100 of epoch 1 complete, Loss: 0.12238702178001404; B-Receptacle f-score: 0.000; Time taken (s): 3.0795276165008545\n",
            "Iteration 1200 of epoch 1 complete, Loss: 0.13249337673187256; B-Receptacle f-score: 0.143; Time taken (s): 3.215345621109009\n",
            "Iteration 1300 of epoch 1 complete, Loss: 0.09674403071403503; B-Receptacle f-score: 0.649; Time taken (s): 3.0793652534484863\n",
            "Iteration 1400 of epoch 1 complete, Loss: 0.14028425514698029; B-Receptacle f-score: 0.545; Time taken (s): 3.08121657371521\n",
            "Iteration 1500 of epoch 1 complete, Loss: 0.13350802659988403; B-Receptacle f-score: 0.000; Time taken (s): 3.1151492595672607\n",
            "Epoch 1 complete! Development accuracy: 0.936; Development B-RECEPTACLE f-score: 0.410;\n",
            "Iteration 0 of epoch 2 complete, Loss: 0.19155901670455933; B-Receptacle f-score: 0.118; Time taken (s): 99.83101296424866\n",
            "Iteration 100 of epoch 2 complete, Loss: 0.0849996954202652; B-Receptacle f-score: 0.750; Time taken (s): 3.003422737121582\n",
            "Iteration 200 of epoch 2 complete, Loss: 0.31553012132644653; B-Receptacle f-score: 0.087; Time taken (s): 3.061399221420288\n",
            "Iteration 300 of epoch 2 complete, Loss: 0.1774633675813675; B-Receptacle f-score: 0.364; Time taken (s): 2.9729583263397217\n",
            "Iteration 400 of epoch 2 complete, Loss: 0.14667662978172302; B-Receptacle f-score: 0.471; Time taken (s): 3.00705885887146\n",
            "Iteration 500 of epoch 2 complete, Loss: 0.0870465561747551; B-Receptacle f-score: 0.500; Time taken (s): 2.94748592376709\n",
            "Iteration 600 of epoch 2 complete, Loss: 0.15326669812202454; B-Receptacle f-score: 0.250; Time taken (s): 3.0926458835601807\n",
            "Iteration 700 of epoch 2 complete, Loss: 0.09333089739084244; B-Receptacle f-score: 0.875; Time taken (s): 3.0380465984344482\n",
            "Iteration 800 of epoch 2 complete, Loss: 0.20735794305801392; B-Receptacle f-score: 0.500; Time taken (s): 2.843578338623047\n",
            "Iteration 900 of epoch 2 complete, Loss: 0.13587243854999542; B-Receptacle f-score: 0.235; Time taken (s): 3.092686414718628\n",
            "Iteration 1000 of epoch 2 complete, Loss: 0.14132769405841827; B-Receptacle f-score: 0.273; Time taken (s): 3.040623664855957\n",
            "Iteration 1100 of epoch 2 complete, Loss: 0.1228245422244072; B-Receptacle f-score: 0.000; Time taken (s): 3.0290119647979736\n",
            "Iteration 1200 of epoch 2 complete, Loss: 0.1323385238647461; B-Receptacle f-score: 0.195; Time taken (s): 3.109116315841675\n",
            "Iteration 1300 of epoch 2 complete, Loss: 0.09373372793197632; B-Receptacle f-score: 0.632; Time taken (s): 3.0363895893096924\n",
            "Iteration 1400 of epoch 2 complete, Loss: 0.13977006077766418; B-Receptacle f-score: 0.545; Time taken (s): 3.0026590824127197\n",
            "Iteration 1500 of epoch 2 complete, Loss: 0.13199318945407867; B-Receptacle f-score: 0.000; Time taken (s): 3.2461559772491455\n",
            "Epoch 2 complete! Development accuracy: 0.936; Development B-RECEPTACLE f-score: 0.416;\n",
            "Iteration 0 of epoch 3 complete, Loss: 0.1933455765247345; B-Receptacle f-score: 0.118; Time taken (s): 99.5854287147522\n",
            "Iteration 100 of epoch 3 complete, Loss: 0.08473005890846252; B-Receptacle f-score: 0.750; Time taken (s): 2.90204119682312\n",
            "Iteration 200 of epoch 3 complete, Loss: 0.3100561797618866; B-Receptacle f-score: 0.087; Time taken (s): 3.0371460914611816\n",
            "Iteration 300 of epoch 3 complete, Loss: 0.1786644160747528; B-Receptacle f-score: 0.308; Time taken (s): 2.9274139404296875\n",
            "Iteration 400 of epoch 3 complete, Loss: 0.1489141285419464; B-Receptacle f-score: 0.471; Time taken (s): 2.9996249675750732\n",
            "Iteration 500 of epoch 3 complete, Loss: 0.08768688142299652; B-Receptacle f-score: 0.444; Time taken (s): 2.9260997772216797\n",
            "Iteration 600 of epoch 3 complete, Loss: 0.15151555836200714; B-Receptacle f-score: 0.250; Time taken (s): 2.997581958770752\n",
            "Iteration 700 of epoch 3 complete, Loss: 0.09108532965183258; B-Receptacle f-score: 0.875; Time taken (s): 3.065446138381958\n",
            "Iteration 800 of epoch 3 complete, Loss: 0.20426562428474426; B-Receptacle f-score: 0.500; Time taken (s): 2.8152060508728027\n",
            "Iteration 900 of epoch 3 complete, Loss: 0.1365266889333725; B-Receptacle f-score: 0.235; Time taken (s): 3.182453155517578\n",
            "Iteration 1000 of epoch 3 complete, Loss: 0.1415695995092392; B-Receptacle f-score: 0.273; Time taken (s): 3.016911506652832\n",
            "Iteration 1100 of epoch 3 complete, Loss: 0.12298765778541565; B-Receptacle f-score: 0.000; Time taken (s): 3.0276548862457275\n",
            "Iteration 1200 of epoch 3 complete, Loss: 0.1299956887960434; B-Receptacle f-score: 0.216; Time taken (s): 3.18522047996521\n",
            "Iteration 1300 of epoch 3 complete, Loss: 0.09162244945764542; B-Receptacle f-score: 0.667; Time taken (s): 3.072943925857544\n",
            "Iteration 1400 of epoch 3 complete, Loss: 0.1405259519815445; B-Receptacle f-score: 0.514; Time taken (s): 3.081089973449707\n",
            "Iteration 1500 of epoch 3 complete, Loss: 0.13142862915992737; B-Receptacle f-score: 0.000; Time taken (s): 3.039214611053467\n",
            "Epoch 3 complete! Development accuracy: 0.936; Development B-RECEPTACLE f-score: 0.420;\n",
            "Iteration 0 of epoch 4 complete, Loss: 0.19453011453151703; B-Receptacle f-score: 0.118; Time taken (s): 99.92317366600037\n",
            "Iteration 100 of epoch 4 complete, Loss: 0.0846075490117073; B-Receptacle f-score: 0.750; Time taken (s): 2.987807035446167\n",
            "Iteration 200 of epoch 4 complete, Loss: 0.3050367534160614; B-Receptacle f-score: 0.087; Time taken (s): 3.13417911529541\n",
            "Iteration 300 of epoch 4 complete, Loss: 0.1808355748653412; B-Receptacle f-score: 0.308; Time taken (s): 2.948673725128174\n",
            "Iteration 400 of epoch 4 complete, Loss: 0.14967267215251923; B-Receptacle f-score: 0.471; Time taken (s): 3.008300304412842\n",
            "Iteration 500 of epoch 4 complete, Loss: 0.08842214941978455; B-Receptacle f-score: 0.444; Time taken (s): 2.98983097076416\n",
            "Iteration 600 of epoch 4 complete, Loss: 0.15277805924415588; B-Receptacle f-score: 0.250; Time taken (s): 3.0199053287506104\n",
            "Iteration 700 of epoch 4 complete, Loss: 0.08904454112052917; B-Receptacle f-score: 0.875; Time taken (s): 3.069659471511841\n",
            "Iteration 800 of epoch 4 complete, Loss: 0.2015855759382248; B-Receptacle f-score: 0.500; Time taken (s): 2.9066240787506104\n",
            "Iteration 900 of epoch 4 complete, Loss: 0.1357993632555008; B-Receptacle f-score: 0.235; Time taken (s): 3.1099960803985596\n",
            "Iteration 1000 of epoch 4 complete, Loss: 0.14152127504348755; B-Receptacle f-score: 0.273; Time taken (s): 3.0104758739471436\n",
            "Iteration 1100 of epoch 4 complete, Loss: 0.12293154746294022; B-Receptacle f-score: 0.000; Time taken (s): 3.067700147628784\n",
            "Iteration 1200 of epoch 4 complete, Loss: 0.13103817403316498; B-Receptacle f-score: 0.235; Time taken (s): 3.0170347690582275\n",
            "Iteration 1300 of epoch 4 complete, Loss: 0.08981054276227951; B-Receptacle f-score: 0.686; Time taken (s): 3.0942232608795166\n",
            "Iteration 1400 of epoch 4 complete, Loss: 0.1395977884531021; B-Receptacle f-score: 0.615; Time taken (s): 3.0300185680389404\n",
            "Iteration 1500 of epoch 4 complete, Loss: 0.13041941821575165; B-Receptacle f-score: 0.000; Time taken (s): 3.0694451332092285\n",
            "Epoch 4 complete! Development accuracy: 0.936; Development B-RECEPTACLE f-score: 0.426;\n",
            "Iteration 0 of epoch 5 complete, Loss: 0.19503960013389587; B-Receptacle f-score: 0.118; Time taken (s): 99.94160795211792\n",
            "Iteration 100 of epoch 5 complete, Loss: 0.08469367027282715; B-Receptacle f-score: 0.750; Time taken (s): 2.9613709449768066\n",
            "Iteration 200 of epoch 5 complete, Loss: 0.3022160828113556; B-Receptacle f-score: 0.087; Time taken (s): 3.0370938777923584\n",
            "Iteration 300 of epoch 5 complete, Loss: 0.1824524700641632; B-Receptacle f-score: 0.308; Time taken (s): 2.9742844104766846\n",
            "Iteration 400 of epoch 5 complete, Loss: 0.15031205117702484; B-Receptacle f-score: 0.471; Time taken (s): 3.0378940105438232\n",
            "Iteration 500 of epoch 5 complete, Loss: 0.08907562494277954; B-Receptacle f-score: 0.462; Time taken (s): 2.999933958053589\n",
            "Iteration 600 of epoch 5 complete, Loss: 0.15346835553646088; B-Receptacle f-score: 0.250; Time taken (s): 3.0593013763427734\n",
            "Iteration 700 of epoch 5 complete, Loss: 0.08580170571804047; B-Receptacle f-score: 0.875; Time taken (s): 3.070899248123169\n",
            "Iteration 800 of epoch 5 complete, Loss: 0.19949570298194885; B-Receptacle f-score: 0.500; Time taken (s): 2.853079080581665\n",
            "Iteration 900 of epoch 5 complete, Loss: 0.13535304367542267; B-Receptacle f-score: 0.235; Time taken (s): 3.1796023845672607\n",
            "Iteration 1000 of epoch 5 complete, Loss: 0.14100444316864014; B-Receptacle f-score: 0.273; Time taken (s): 3.0273220539093018\n",
            "Iteration 1100 of epoch 5 complete, Loss: 0.12241391837596893; B-Receptacle f-score: 0.000; Time taken (s): 3.1393330097198486\n",
            "Iteration 1200 of epoch 5 complete, Loss: 0.13119614124298096; B-Receptacle f-score: 0.235; Time taken (s): 3.1588282585144043\n",
            "Iteration 1300 of epoch 5 complete, Loss: 0.08853407949209213; B-Receptacle f-score: 0.686; Time taken (s): 3.02951717376709\n",
            "Iteration 1400 of epoch 5 complete, Loss: 0.14568078517913818; B-Receptacle f-score: 0.500; Time taken (s): 3.0596730709075928\n",
            "Iteration 1500 of epoch 5 complete, Loss: 0.12902937829494476; B-Receptacle f-score: 0.000; Time taken (s): 2.9837586879730225\n",
            "Epoch 5 complete! Development accuracy: 0.937; Development B-RECEPTACLE f-score: 0.430;\n",
            "Iteration 0 of epoch 6 complete, Loss: 0.19518893957138062; B-Receptacle f-score: 0.118; Time taken (s): 99.86604380607605\n",
            "Iteration 100 of epoch 6 complete, Loss: 0.08506994694471359; B-Receptacle f-score: 0.750; Time taken (s): 2.9227659702301025\n",
            "Iteration 200 of epoch 6 complete, Loss: 0.3007364571094513; B-Receptacle f-score: 0.087; Time taken (s): 3.0274384021759033\n",
            "Iteration 300 of epoch 6 complete, Loss: 0.18272916972637177; B-Receptacle f-score: 0.286; Time taken (s): 2.9505040645599365\n",
            "Iteration 400 of epoch 6 complete, Loss: 0.1514621526002884; B-Receptacle f-score: 0.471; Time taken (s): 3.0729637145996094\n",
            "Iteration 500 of epoch 6 complete, Loss: 0.08948583900928497; B-Receptacle f-score: 0.462; Time taken (s): 2.921947956085205\n",
            "Iteration 600 of epoch 6 complete, Loss: 0.1537456214427948; B-Receptacle f-score: 0.250; Time taken (s): 3.026156425476074\n",
            "Iteration 700 of epoch 6 complete, Loss: 0.08297576755285263; B-Receptacle f-score: 0.933; Time taken (s): 3.0654237270355225\n",
            "Iteration 800 of epoch 6 complete, Loss: 0.19887028634548187; B-Receptacle f-score: 0.500; Time taken (s): 2.900907516479492\n",
            "Iteration 900 of epoch 6 complete, Loss: 0.13511091470718384; B-Receptacle f-score: 0.235; Time taken (s): 3.1641714572906494\n",
            "Iteration 1000 of epoch 6 complete, Loss: 0.141062393784523; B-Receptacle f-score: 0.273; Time taken (s): 2.9848814010620117\n",
            "Iteration 1100 of epoch 6 complete, Loss: 0.1222774013876915; B-Receptacle f-score: 0.000; Time taken (s): 3.095881223678589\n",
            "Iteration 1200 of epoch 6 complete, Loss: 0.13080915808677673; B-Receptacle f-score: 0.188; Time taken (s): 3.1374785900115967\n",
            "Iteration 1300 of epoch 6 complete, Loss: 0.08795249462127686; B-Receptacle f-score: 0.686; Time taken (s): 3.167837381362915\n",
            "Iteration 1400 of epoch 6 complete, Loss: 0.1516115963459015; B-Receptacle f-score: 0.457; Time taken (s): 3.065707206726074\n",
            "Iteration 1500 of epoch 6 complete, Loss: 0.12879611551761627; B-Receptacle f-score: 0.000; Time taken (s): 3.2118382453918457\n",
            "Epoch 6 complete! Development accuracy: 0.937; Development B-RECEPTACLE f-score: 0.434;\n",
            "Iteration 0 of epoch 7 complete, Loss: 0.19403839111328125; B-Receptacle f-score: 0.118; Time taken (s): 99.6924352645874\n",
            "Iteration 100 of epoch 7 complete, Loss: 0.08541583269834518; B-Receptacle f-score: 0.750; Time taken (s): 2.935067653656006\n",
            "Iteration 200 of epoch 7 complete, Loss: 0.3008466958999634; B-Receptacle f-score: 0.087; Time taken (s): 3.0021090507507324\n",
            "Iteration 300 of epoch 7 complete, Loss: 0.18299740552902222; B-Receptacle f-score: 0.261; Time taken (s): 2.9223244190216064\n",
            "Iteration 400 of epoch 7 complete, Loss: 0.15164148807525635; B-Receptacle f-score: 0.471; Time taken (s): 3.070427894592285\n",
            "Iteration 500 of epoch 7 complete, Loss: 0.08982711285352707; B-Receptacle f-score: 0.333; Time taken (s): 2.874584436416626\n",
            "Iteration 600 of epoch 7 complete, Loss: 0.1539449244737625; B-Receptacle f-score: 0.143; Time taken (s): 3.0122785568237305\n",
            "Iteration 700 of epoch 7 complete, Loss: 0.08236819505691528; B-Receptacle f-score: 0.933; Time taken (s): 3.0326101779937744\n",
            "Iteration 800 of epoch 7 complete, Loss: 0.20022009313106537; B-Receptacle f-score: 0.500; Time taken (s): 2.896315336227417\n",
            "Iteration 900 of epoch 7 complete, Loss: 0.13502590358257294; B-Receptacle f-score: 0.229; Time taken (s): 3.1213293075561523\n",
            "Iteration 1000 of epoch 7 complete, Loss: 0.14134983718395233; B-Receptacle f-score: 0.273; Time taken (s): 2.981093406677246\n",
            "Iteration 1100 of epoch 7 complete, Loss: 0.12211117148399353; B-Receptacle f-score: 0.000; Time taken (s): 3.116856575012207\n",
            "Iteration 1200 of epoch 7 complete, Loss: 0.13007549941539764; B-Receptacle f-score: 0.188; Time taken (s): 3.095979690551758\n",
            "Iteration 1300 of epoch 7 complete, Loss: 0.08939296752214432; B-Receptacle f-score: 0.706; Time taken (s): 3.036067008972168\n",
            "Iteration 1400 of epoch 7 complete, Loss: 0.15774039924144745; B-Receptacle f-score: 0.324; Time taken (s): 2.984090566635132\n",
            "Iteration 1500 of epoch 7 complete, Loss: 0.12955880165100098; B-Receptacle f-score: 0.000; Time taken (s): 3.168830394744873\n",
            "Epoch 7 complete! Development accuracy: 0.935; Development B-RECEPTACLE f-score: 0.386;\n",
            "Iteration 0 of epoch 8 complete, Loss: 0.18909113109111786; B-Receptacle f-score: 0.000; Time taken (s): 99.97784566879272\n",
            "Iteration 100 of epoch 8 complete, Loss: 0.08600705862045288; B-Receptacle f-score: 0.750; Time taken (s): 2.9537060260772705\n",
            "Iteration 200 of epoch 8 complete, Loss: 0.3015258312225342; B-Receptacle f-score: 0.087; Time taken (s): 2.9938554763793945\n",
            "Iteration 300 of epoch 8 complete, Loss: 0.1828295886516571; B-Receptacle f-score: 0.261; Time taken (s): 2.9673357009887695\n",
            "Iteration 400 of epoch 8 complete, Loss: 0.15009021759033203; B-Receptacle f-score: 0.457; Time taken (s): 3.1240603923797607\n",
            "Iteration 500 of epoch 8 complete, Loss: 0.08972448110580444; B-Receptacle f-score: 0.320; Time taken (s): 3.0610814094543457\n",
            "Iteration 600 of epoch 8 complete, Loss: 0.15349116921424866; B-Receptacle f-score: 0.143; Time taken (s): 3.045412063598633\n",
            "Iteration 700 of epoch 8 complete, Loss: 0.08283457905054092; B-Receptacle f-score: 0.933; Time taken (s): 3.1122360229492188\n",
            "Iteration 800 of epoch 8 complete, Loss: 0.19955042004585266; B-Receptacle f-score: 0.500; Time taken (s): 2.929750442504883\n",
            "Iteration 900 of epoch 8 complete, Loss: 0.13380342721939087; B-Receptacle f-score: 0.229; Time taken (s): 3.248112916946411\n",
            "Iteration 1000 of epoch 8 complete, Loss: 0.14067775011062622; B-Receptacle f-score: 0.273; Time taken (s): 3.010953187942505\n",
            "Iteration 1100 of epoch 8 complete, Loss: 0.12099328637123108; B-Receptacle f-score: 0.000; Time taken (s): 3.0063316822052\n",
            "Iteration 1200 of epoch 8 complete, Loss: 0.1294177621603012; B-Receptacle f-score: 0.242; Time taken (s): 3.1099607944488525\n",
            "Iteration 1300 of epoch 8 complete, Loss: 0.09113802015781403; B-Receptacle f-score: 0.727; Time taken (s): 3.022765636444092\n",
            "Iteration 1400 of epoch 8 complete, Loss: 0.15135857462882996; B-Receptacle f-score: 0.387; Time taken (s): 3.0187196731567383\n",
            "Iteration 1500 of epoch 8 complete, Loss: 0.1275169551372528; B-Receptacle f-score: 0.000; Time taken (s): 3.098022699356079\n",
            "Epoch 8 complete! Development accuracy: 0.935; Development B-RECEPTACLE f-score: 0.381;\n",
            "Iteration 0 of epoch 9 complete, Loss: 0.1835189312696457; B-Receptacle f-score: 0.118; Time taken (s): 100.1040997505188\n",
            "Iteration 100 of epoch 9 complete, Loss: 0.08647093176841736; B-Receptacle f-score: 0.750; Time taken (s): 2.9317305088043213\n",
            "Iteration 200 of epoch 9 complete, Loss: 0.30013784766197205; B-Receptacle f-score: 0.128; Time taken (s): 3.0764529705047607\n",
            "Iteration 300 of epoch 9 complete, Loss: 0.18130967020988464; B-Receptacle f-score: 0.261; Time taken (s): 2.9803736209869385\n",
            "Iteration 400 of epoch 9 complete, Loss: 0.1502787321805954; B-Receptacle f-score: 0.457; Time taken (s): 3.0374860763549805\n",
            "Iteration 500 of epoch 9 complete, Loss: 0.09024909138679504; B-Receptacle f-score: 0.333; Time taken (s): 2.9918811321258545\n",
            "Iteration 600 of epoch 9 complete, Loss: 0.15204781293869019; B-Receptacle f-score: 0.143; Time taken (s): 2.987104654312134\n",
            "Iteration 700 of epoch 9 complete, Loss: 0.08390689641237259; B-Receptacle f-score: 0.933; Time taken (s): 3.2101550102233887\n",
            "Iteration 800 of epoch 9 complete, Loss: 0.19913582503795624; B-Receptacle f-score: 0.500; Time taken (s): 2.8518831729888916\n",
            "Iteration 900 of epoch 9 complete, Loss: 0.132889062166214; B-Receptacle f-score: 0.229; Time taken (s): 3.0739901065826416\n",
            "Iteration 1000 of epoch 9 complete, Loss: 0.14084656536579132; B-Receptacle f-score: 0.348; Time taken (s): 2.9824488162994385\n",
            "Iteration 1100 of epoch 9 complete, Loss: 0.1191347986459732; B-Receptacle f-score: 0.000; Time taken (s): 3.0471224784851074\n",
            "Iteration 1200 of epoch 9 complete, Loss: 0.12911728024482727; B-Receptacle f-score: 0.188; Time taken (s): 3.1577463150024414\n",
            "Iteration 1300 of epoch 9 complete, Loss: 0.09254777431488037; B-Receptacle f-score: 0.727; Time taken (s): 3.041134834289551\n",
            "Iteration 1400 of epoch 9 complete, Loss: 0.14525006711483002; B-Receptacle f-score: 0.500; Time taken (s): 3.0876054763793945\n",
            "Iteration 1500 of epoch 9 complete, Loss: 0.12507356703281403; B-Receptacle f-score: 0.000; Time taken (s): 3.131411552429199\n",
            "Epoch 9 complete! Development accuracy: 0.935; Development B-RECEPTACLE f-score: 0.380;\n",
            "Iteration 0 of epoch 10 complete, Loss: 0.18007254600524902; B-Receptacle f-score: 0.118; Time taken (s): 99.89032053947449\n",
            "Iteration 100 of epoch 10 complete, Loss: 0.0869932770729065; B-Receptacle f-score: 0.750; Time taken (s): 2.984006881713867\n",
            "Iteration 200 of epoch 10 complete, Loss: 0.3008427917957306; B-Receptacle f-score: 0.128; Time taken (s): 3.043442964553833\n",
            "Iteration 300 of epoch 10 complete, Loss: 0.1808445006608963; B-Receptacle f-score: 0.261; Time taken (s): 2.8824193477630615\n",
            "Iteration 400 of epoch 10 complete, Loss: 0.1501852571964264; B-Receptacle f-score: 0.457; Time taken (s): 2.990774631500244\n",
            "Iteration 500 of epoch 10 complete, Loss: 0.09058278053998947; B-Receptacle f-score: 0.333; Time taken (s): 2.996168375015259\n",
            "Iteration 600 of epoch 10 complete, Loss: 0.15137113630771637; B-Receptacle f-score: 0.143; Time taken (s): 3.000818967819214\n",
            "Iteration 700 of epoch 10 complete, Loss: 0.08322630077600479; B-Receptacle f-score: 0.933; Time taken (s): 3.153876304626465\n",
            "Iteration 800 of epoch 10 complete, Loss: 0.19774968922138214; B-Receptacle f-score: 0.500; Time taken (s): 2.818161725997925\n",
            "Iteration 900 of epoch 10 complete, Loss: 0.132449209690094; B-Receptacle f-score: 0.222; Time taken (s): 3.1817221641540527\n",
            "Iteration 1000 of epoch 10 complete, Loss: 0.14112846553325653; B-Receptacle f-score: 0.348; Time taken (s): 3.0421671867370605\n",
            "Iteration 1100 of epoch 10 complete, Loss: 0.11815930902957916; B-Receptacle f-score: 0.000; Time taken (s): 3.047760248184204\n",
            "Iteration 1200 of epoch 10 complete, Loss: 0.12987884879112244; B-Receptacle f-score: 0.188; Time taken (s): 3.1054651737213135\n",
            "Iteration 1300 of epoch 10 complete, Loss: 0.09150528162717819; B-Receptacle f-score: 0.727; Time taken (s): 2.9760043621063232\n",
            "Iteration 1400 of epoch 10 complete, Loss: 0.13474556803703308; B-Receptacle f-score: 0.703; Time taken (s): 3.0019493103027344\n",
            "Iteration 1500 of epoch 10 complete, Loss: 0.1238032802939415; B-Receptacle f-score: 0.000; Time taken (s): 3.10469651222229\n",
            "Epoch 10 complete! Development accuracy: 0.936; Development B-RECEPTACLE f-score: 0.427;\n",
            "Iteration 0 of epoch 11 complete, Loss: 0.1815507411956787; B-Receptacle f-score: 0.222; Time taken (s): 99.32437419891357\n",
            "Iteration 100 of epoch 11 complete, Loss: 0.08719505369663239; B-Receptacle f-score: 0.750; Time taken (s): 3.023005723953247\n",
            "Iteration 200 of epoch 11 complete, Loss: 0.3022899031639099; B-Receptacle f-score: 0.087; Time taken (s): 3.0458781719207764\n",
            "Iteration 300 of epoch 11 complete, Loss: 0.17536374926567078; B-Receptacle f-score: 0.261; Time taken (s): 2.9188156127929688\n",
            "Iteration 400 of epoch 11 complete, Loss: 0.15053637325763702; B-Receptacle f-score: 0.432; Time taken (s): 2.995879650115967\n",
            "Iteration 500 of epoch 11 complete, Loss: 0.09101614356040955; B-Receptacle f-score: 0.333; Time taken (s): 2.9786577224731445\n",
            "Iteration 600 of epoch 11 complete, Loss: 0.15181076526641846; B-Receptacle f-score: 0.154; Time taken (s): 3.0458030700683594\n",
            "Iteration 700 of epoch 11 complete, Loss: 0.08302024006843567; B-Receptacle f-score: 0.933; Time taken (s): 2.9986562728881836\n",
            "Iteration 800 of epoch 11 complete, Loss: 0.19739481806755066; B-Receptacle f-score: 0.500; Time taken (s): 2.82600736618042\n",
            "Iteration 900 of epoch 11 complete, Loss: 0.13156503438949585; B-Receptacle f-score: 0.270; Time taken (s): 3.174013614654541\n",
            "Iteration 1000 of epoch 11 complete, Loss: 0.14158415794372559; B-Receptacle f-score: 0.348; Time taken (s): 2.9320082664489746\n",
            "Iteration 1100 of epoch 11 complete, Loss: 0.11680755764245987; B-Receptacle f-score: 0.000; Time taken (s): 3.0270683765411377\n",
            "Iteration 1200 of epoch 11 complete, Loss: 0.1309034675359726; B-Receptacle f-score: 0.129; Time taken (s): 3.137037515640259\n",
            "Iteration 1300 of epoch 11 complete, Loss: 0.08984146267175674; B-Receptacle f-score: 0.727; Time taken (s): 3.022886037826538\n",
            "Iteration 1400 of epoch 11 complete, Loss: 0.1270860731601715; B-Receptacle f-score: 0.703; Time taken (s): 3.008070230484009\n",
            "Iteration 1500 of epoch 11 complete, Loss: 0.12218194454908371; B-Receptacle f-score: 0.000; Time taken (s): 3.0389180183410645\n",
            "Epoch 11 complete! Development accuracy: 0.936; Development B-RECEPTACLE f-score: 0.424;\n",
            "Iteration 0 of epoch 12 complete, Loss: 0.18254876136779785; B-Receptacle f-score: 0.222; Time taken (s): 99.39318251609802\n",
            "Iteration 100 of epoch 12 complete, Loss: 0.0871710330247879; B-Receptacle f-score: 0.750; Time taken (s): 2.874227285385132\n",
            "Iteration 200 of epoch 12 complete, Loss: 0.30313432216644287; B-Receptacle f-score: 0.087; Time taken (s): 3.1039602756500244\n",
            "Iteration 300 of epoch 12 complete, Loss: 0.17775806784629822; B-Receptacle f-score: 0.261; Time taken (s): 2.8818602561950684\n",
            "Iteration 400 of epoch 12 complete, Loss: 0.14856550097465515; B-Receptacle f-score: 0.457; Time taken (s): 3.011347532272339\n",
            "Iteration 500 of epoch 12 complete, Loss: 0.09161347895860672; B-Receptacle f-score: 0.333; Time taken (s): 2.9327409267425537\n",
            "Iteration 600 of epoch 12 complete, Loss: 0.1513260453939438; B-Receptacle f-score: 0.154; Time taken (s): 2.965837240219116\n",
            "Iteration 700 of epoch 12 complete, Loss: 0.08372465521097183; B-Receptacle f-score: 0.778; Time taken (s): 3.0340447425842285\n",
            "Iteration 800 of epoch 12 complete, Loss: 0.19771410524845123; B-Receptacle f-score: 0.500; Time taken (s): 2.8190526962280273\n",
            "Iteration 900 of epoch 12 complete, Loss: 0.130772665143013; B-Receptacle f-score: 0.250; Time taken (s): 3.142106771469116\n",
            "Iteration 1000 of epoch 12 complete, Loss: 0.14208123087882996; B-Receptacle f-score: 0.417; Time taken (s): 3.020418167114258\n",
            "Iteration 1100 of epoch 12 complete, Loss: 0.11595726758241653; B-Receptacle f-score: 0.000; Time taken (s): 3.0632169246673584\n",
            "Iteration 1200 of epoch 12 complete, Loss: 0.1307951658964157; B-Receptacle f-score: 0.121; Time taken (s): 3.095125198364258\n",
            "Iteration 1300 of epoch 12 complete, Loss: 0.08803928643465042; B-Receptacle f-score: 0.750; Time taken (s): 3.0986294746398926\n",
            "Iteration 1400 of epoch 12 complete, Loss: 0.12450259923934937; B-Receptacle f-score: 0.737; Time taken (s): 3.083812713623047\n",
            "Iteration 1500 of epoch 12 complete, Loss: 0.12232735008001328; B-Receptacle f-score: 0.000; Time taken (s): 3.1026415824890137\n",
            "Epoch 12 complete! Development accuracy: 0.936; Development B-RECEPTACLE f-score: 0.422;\n",
            "Iteration 0 of epoch 13 complete, Loss: 0.18350805342197418; B-Receptacle f-score: 0.222; Time taken (s): 99.30410575866699\n",
            "Iteration 100 of epoch 13 complete, Loss: 0.08699563890695572; B-Receptacle f-score: 0.750; Time taken (s): 2.9470951557159424\n",
            "Iteration 200 of epoch 13 complete, Loss: 0.3029935956001282; B-Receptacle f-score: 0.085; Time taken (s): 3.0444889068603516\n",
            "Iteration 300 of epoch 13 complete, Loss: 0.17740143835544586; B-Receptacle f-score: 0.261; Time taken (s): 2.8768560886383057\n",
            "Iteration 400 of epoch 13 complete, Loss: 0.1464899480342865; B-Receptacle f-score: 0.457; Time taken (s): 2.9846489429473877\n",
            "Iteration 500 of epoch 13 complete, Loss: 0.09235573559999466; B-Receptacle f-score: 0.333; Time taken (s): 3.0012094974517822\n",
            "Iteration 600 of epoch 13 complete, Loss: 0.15119008719921112; B-Receptacle f-score: 0.154; Time taken (s): 2.9934887886047363\n",
            "Iteration 700 of epoch 13 complete, Loss: 0.08391621708869934; B-Receptacle f-score: 0.778; Time taken (s): 2.9368515014648438\n",
            "Iteration 800 of epoch 13 complete, Loss: 0.19752644002437592; B-Receptacle f-score: 0.500; Time taken (s): 2.8419084548950195\n",
            "Iteration 900 of epoch 13 complete, Loss: 0.1308136135339737; B-Receptacle f-score: 0.250; Time taken (s): 3.1859002113342285\n",
            "Iteration 1000 of epoch 13 complete, Loss: 0.1420547515153885; B-Receptacle f-score: 0.348; Time taken (s): 2.9762516021728516\n",
            "Iteration 1100 of epoch 13 complete, Loss: 0.11535308510065079; B-Receptacle f-score: 0.000; Time taken (s): 2.982515811920166\n",
            "Iteration 1200 of epoch 13 complete, Loss: 0.13058225810527802; B-Receptacle f-score: 0.121; Time taken (s): 3.1116092205047607\n",
            "Iteration 1300 of epoch 13 complete, Loss: 0.08625023812055588; B-Receptacle f-score: 0.750; Time taken (s): 2.9985642433166504\n",
            "Iteration 1400 of epoch 13 complete, Loss: 0.12342241406440735; B-Receptacle f-score: 0.800; Time taken (s): 3.0578880310058594\n",
            "Iteration 1500 of epoch 13 complete, Loss: 0.12309293448925018; B-Receptacle f-score: 0.000; Time taken (s): 3.0069942474365234\n",
            "Epoch 13 complete! Development accuracy: 0.936; Development B-RECEPTACLE f-score: 0.426;\n",
            "Iteration 0 of epoch 14 complete, Loss: 0.18459157645702362; B-Receptacle f-score: 0.222; Time taken (s): 99.06024861335754\n",
            "Iteration 100 of epoch 14 complete, Loss: 0.08690419048070908; B-Receptacle f-score: 0.750; Time taken (s): 2.905982494354248\n",
            "Iteration 200 of epoch 14 complete, Loss: 0.3009381890296936; B-Receptacle f-score: 0.083; Time taken (s): 2.9294493198394775\n",
            "Iteration 300 of epoch 14 complete, Loss: 0.17581716179847717; B-Receptacle f-score: 0.261; Time taken (s): 2.895233154296875\n",
            "Iteration 400 of epoch 14 complete, Loss: 0.14501672983169556; B-Receptacle f-score: 0.457; Time taken (s): 2.918652296066284\n",
            "Iteration 500 of epoch 14 complete, Loss: 0.09326230734586716; B-Receptacle f-score: 0.174; Time taken (s): 2.8851022720336914\n",
            "Iteration 600 of epoch 14 complete, Loss: 0.1514393538236618; B-Receptacle f-score: 0.154; Time taken (s): 3.059870719909668\n",
            "Iteration 700 of epoch 14 complete, Loss: 0.08396964520215988; B-Receptacle f-score: 0.778; Time taken (s): 3.0131759643554688\n",
            "Iteration 800 of epoch 14 complete, Loss: 0.19651886820793152; B-Receptacle f-score: 0.500; Time taken (s): 2.7999274730682373\n",
            "Iteration 900 of epoch 14 complete, Loss: 0.1308889091014862; B-Receptacle f-score: 0.250; Time taken (s): 3.0779857635498047\n",
            "Iteration 1000 of epoch 14 complete, Loss: 0.141940638422966; B-Receptacle f-score: 0.348; Time taken (s): 2.934561252593994\n",
            "Iteration 1100 of epoch 14 complete, Loss: 0.11490634828805923; B-Receptacle f-score: 0.000; Time taken (s): 2.9009323120117188\n",
            "Iteration 1200 of epoch 14 complete, Loss: 0.1307326853275299; B-Receptacle f-score: 0.121; Time taken (s): 3.0672786235809326\n",
            "Iteration 1300 of epoch 14 complete, Loss: 0.08461352437734604; B-Receptacle f-score: 0.750; Time taken (s): 3.03688645362854\n",
            "Iteration 1400 of epoch 14 complete, Loss: 0.12698696553707123; B-Receptacle f-score: 0.919; Time taken (s): 2.9417786598205566\n",
            "Iteration 1500 of epoch 14 complete, Loss: 0.12392960488796234; B-Receptacle f-score: 0.000; Time taken (s): 3.0186567306518555\n",
            "Epoch 14 complete! Development accuracy: 0.936; Development B-RECEPTACLE f-score: 0.432;\n"
          ]
        }
      ]
    },
    {
      "cell_type": "code",
      "metadata": {
        "colab": {
          "base_uri": "https://localhost:8080/"
        },
        "id": "_x6MvfQ8MhhY",
        "outputId": "d934e0db-c675-449d-ea6e-b2157b3d2b9b"
      },
      "source": [
        "# accuracy on test dataset\n",
        "\n",
        "test_rec_f_dep, test_rec_acc_dep, test_preds_dep = evaluate(model_dep, test_loader_dep, device)\n",
        "print(\"test accuracy: \", test_rec_acc_dep)\n"
      ],
      "execution_count": null,
      "outputs": [
        {
          "output_type": "stream",
          "name": "stdout",
          "text": [
            "test accuracy:  0.9392903056799663\n"
          ]
        }
      ]
    },
    {
      "cell_type": "code",
      "metadata": {
        "colab": {
          "base_uri": "https://localhost:8080/",
          "height": 876
        },
        "id": "AVVsOzoiMigm",
        "outputId": "aa37de94-78dd-424a-8991-07a60d1df4c1"
      },
      "source": [
        "cm_dep = confusion_matrix(test_labels, test_preds_dep)\n",
        "print(cm_dep)\n",
        "plot_confusion_matrix(cm_dep, classes_name)\n",
        "print(classification_report(test_labels, test_preds_dep, target_names=classes_name))"
      ],
      "execution_count": null,
      "outputs": [
        {
          "output_type": "stream",
          "name": "stdout",
          "text": [
            "[[126974   1035    143   1083    343]\n",
            " [   587   5587     15     46      1]\n",
            " [   114     88   1605      0     30]\n",
            " [  3938    336      4   1623     82]\n",
            " [   518      1    141     15    477]]\n",
            "Confusion matrix, without normalization\n",
            "              precision    recall  f1-score   support\n",
            "\n",
            "           O       0.96      0.98      0.97    129578\n",
            "    B-TARGET       0.79      0.90      0.84      6236\n",
            "    I-TARGET       0.84      0.87      0.86      1837\n",
            "B-RECEPTACLE       0.59      0.27      0.37      5983\n",
            "I-RECEPTACLE       0.51      0.41      0.46      1152\n",
            "\n",
            "    accuracy                           0.94    144786\n",
            "   macro avg       0.74      0.69      0.70    144786\n",
            "weighted avg       0.93      0.94      0.93    144786\n",
            "\n"
          ]
        },
        {
          "output_type": "display_data",
          "data": {
            "image/png": "[encoded data removed]",
            "text/plain": [
              "<Figure size 576x576 with 2 Axes>"
            ]
          },
          "metadata": {
            "needs_background": "light"
          }
        }
      ]
    },
    {
      "cell_type": "markdown",
      "metadata": {
        "id": "L_9AQfOK0Qjv"
      },
      "source": [
        "## Hidden dimension size"
      ]
    },
    {
      "cell_type": "code",
      "metadata": {
        "id": "arW5nXAM7vPy"
      },
      "source": [
        ""
      ],
      "execution_count": null,
      "outputs": []
    },
    {
      "cell_type": "code",
      "metadata": {
        "colab": {
          "base_uri": "https://localhost:8080/"
        },
        "id": "8WilPMDU0Psg",
        "outputId": "05ac0a10-c209-4c25-a9b2-8015d7b65f47"
      },
      "source": [
        "hidden_dims = [20, 30, 40, 50, 60, 70]\n",
        "test_accs = []\n",
        "\n",
        "\n",
        "for i in range(len(hidden_dims)):\n",
        "    # model_hids = 0\n",
        "    model_hids = EntityLinker(feature_dim = feature_dimension, \n",
        "                     hidden_dim = hidden_dims[i], \n",
        "                     roleset_size = roleset_size)\n",
        "    model_hids.to(device)\n",
        "    optimizer = optim.Adam(model_hids.parameters(), lr = 2e-3)\n",
        "    print(\"model with {} hidden dimensions.\".format(hidden_dims[i]))\n",
        "    train(model_hids, loss_fn, optimizer, train_loader, dev_loader, 1, device)\n",
        "\n",
        "    test_acc_hids, test_preds_hids = evaluate(model_hids, test_loader, device)\n",
        "    print(\"test accuracy: \", test_acc_hids)\n",
        "    test_accs.append(test_acc_hids)\n"
      ],
      "execution_count": null,
      "outputs": [
        {
          "output_type": "stream",
          "name": "stdout",
          "text": [
            "model with 20 hidden dimensions.\n",
            "Iteration 0 of epoch 0 complete, Loss: 1.5782471895217896; Accuracy: 0.22674418604651161; Time taken (s): 0.02499532699584961\n",
            "Iteration 100 of epoch 0 complete, Loss: 0.35211381316185; Accuracy: 0.9073170731707317; Time taken (s): 2.8885514736175537\n",
            "Iteration 200 of epoch 0 complete, Loss: 0.2521200180053711; Accuracy: 0.9442231075697212; Time taken (s): 3.2713682651519775\n",
            "Iteration 300 of epoch 0 complete, Loss: 0.12472961097955704; Accuracy: 0.9563636363636364; Time taken (s): 3.04280686378479\n",
            "Iteration 400 of epoch 0 complete, Loss: 0.10204175114631653; Accuracy: 0.9699570815450643; Time taken (s): 2.8509843349456787\n",
            "Iteration 500 of epoch 0 complete, Loss: 0.11769593507051468; Accuracy: 0.9658792650918635; Time taken (s): 2.907857894897461\n",
            "Iteration 600 of epoch 0 complete, Loss: 0.14603404700756073; Accuracy: 0.9459459459459459; Time taken (s): 3.0534732341766357\n",
            "Iteration 700 of epoch 0 complete, Loss: 0.0749431699514389; Accuracy: 0.978978978978979; Time taken (s): 3.1474971771240234\n",
            "Iteration 800 of epoch 0 complete, Loss: 0.08590637892484665; Accuracy: 0.9793388429752066; Time taken (s): 2.89111590385437\n",
            "Iteration 900 of epoch 0 complete, Loss: 0.0679253414273262; Accuracy: 0.9556737588652482; Time taken (s): 3.059408664703369\n",
            "Iteration 1000 of epoch 0 complete, Loss: 0.058278344571590424; Accuracy: 0.9778761061946902; Time taken (s): 3.168692111968994\n",
            "Iteration 1100 of epoch 0 complete, Loss: 0.09015509486198425; Accuracy: 0.9705882352941176; Time taken (s): 3.114021062850952\n",
            "Iteration 1200 of epoch 0 complete, Loss: 0.08264490216970444; Accuracy: 0.9801801801801802; Time taken (s): 2.9869906902313232\n",
            "Iteration 1300 of epoch 0 complete, Loss: 0.08428029716014862; Accuracy: 0.9794344473007712; Time taken (s): 2.999898672103882\n",
            "Iteration 1400 of epoch 0 complete, Loss: 0.1752336621284485; Accuracy: 0.9320388349514563; Time taken (s): 2.967728853225708\n",
            "Iteration 1500 of epoch 0 complete, Loss: 0.08873264491558075; Accuracy: 0.9780701754385965; Time taken (s): 3.1054413318634033\n",
            "Epoch 0 complete! Development Accuracy: 0.9631618131643789;\n",
            "test accuracy:  0.9664359164687955\n",
            "model with 30 hidden dimensions.\n",
            "Iteration 0 of epoch 0 complete, Loss: 1.7293729782104492; Accuracy: 0.0; Time taken (s): 0.021946430206298828\n",
            "Iteration 100 of epoch 0 complete, Loss: 0.3712216913700104; Accuracy: 0.9073170731707317; Time taken (s): 3.1503684520721436\n",
            "Iteration 200 of epoch 0 complete, Loss: 0.27299875020980835; Accuracy: 0.9442231075697212; Time taken (s): 3.187081813812256\n",
            "Iteration 300 of epoch 0 complete, Loss: 0.1307331919670105; Accuracy: 0.9563636363636364; Time taken (s): 3.031489849090576\n",
            "Iteration 400 of epoch 0 complete, Loss: 0.10821381211280823; Accuracy: 0.9785407725321889; Time taken (s): 3.144362688064575\n",
            "Iteration 500 of epoch 0 complete, Loss: 0.09654495865106583; Accuracy: 0.973753280839895; Time taken (s): 3.089120626449585\n",
            "Iteration 600 of epoch 0 complete, Loss: 0.16477666795253754; Accuracy: 0.9486486486486486; Time taken (s): 3.2880477905273438\n",
            "Iteration 700 of epoch 0 complete, Loss: 0.04885401576757431; Accuracy: 0.987987987987988; Time taken (s): 3.2542946338653564\n",
            "Iteration 800 of epoch 0 complete, Loss: 0.081403449177742; Accuracy: 0.9752066115702479; Time taken (s): 3.008188247680664\n",
            "Iteration 900 of epoch 0 complete, Loss: 0.05553540587425232; Accuracy: 0.9787234042553191; Time taken (s): 3.2717714309692383\n",
            "Iteration 1000 of epoch 0 complete, Loss: 0.057425469160079956; Accuracy: 0.9778761061946902; Time taken (s): 3.4588265419006348\n",
            "Iteration 1100 of epoch 0 complete, Loss: 0.07394896447658539; Accuracy: 0.9747899159663865; Time taken (s): 3.391392230987549\n",
            "Iteration 1200 of epoch 0 complete, Loss: 0.06866684556007385; Accuracy: 0.9837837837837838; Time taken (s): 3.4379820823669434\n",
            "Iteration 1300 of epoch 0 complete, Loss: 0.09043562412261963; Accuracy: 0.9717223650385605; Time taken (s): 3.2902257442474365\n",
            "Iteration 1400 of epoch 0 complete, Loss: 0.18052057921886444; Accuracy: 0.9344660194174758; Time taken (s): 3.08831524848938\n",
            "Iteration 1500 of epoch 0 complete, Loss: 0.07500161975622177; Accuracy: 0.9912280701754386; Time taken (s): 3.351245880126953\n",
            "Epoch 0 complete! Development Accuracy: 0.9685486170674733;\n",
            "test accuracy:  0.9740832859909001\n",
            "model with 40 hidden dimensions.\n",
            "Iteration 0 of epoch 0 complete, Loss: 1.8108934164047241; Accuracy: 0.011627906976744186; Time taken (s): 0.02214217185974121\n",
            "Iteration 100 of epoch 0 complete, Loss: 0.38034388422966003; Accuracy: 0.9073170731707317; Time taken (s): 3.4970314502716064\n",
            "Iteration 200 of epoch 0 complete, Loss: 0.25083714723587036; Accuracy: 0.9442231075697212; Time taken (s): 3.5898754596710205\n",
            "Iteration 300 of epoch 0 complete, Loss: 0.11523865163326263; Accuracy: 0.9563636363636364; Time taken (s): 3.7465507984161377\n",
            "Iteration 400 of epoch 0 complete, Loss: 0.10338318347930908; Accuracy: 0.9763948497854077; Time taken (s): 3.5895884037017822\n",
            "Iteration 500 of epoch 0 complete, Loss: 0.08630087971687317; Accuracy: 0.973753280839895; Time taken (s): 3.6398098468780518\n",
            "Iteration 600 of epoch 0 complete, Loss: 0.14445169270038605; Accuracy: 0.9540540540540541; Time taken (s): 3.7705914974212646\n",
            "Iteration 700 of epoch 0 complete, Loss: 0.053988803178071976; Accuracy: 0.9819819819819819; Time taken (s): 3.526181221008301\n",
            "Iteration 800 of epoch 0 complete, Loss: 0.07766823470592499; Accuracy: 0.9710743801652892; Time taken (s): 3.3276500701904297\n",
            "Iteration 900 of epoch 0 complete, Loss: 0.06692732870578766; Accuracy: 0.9680851063829787; Time taken (s): 3.5855705738067627\n",
            "Iteration 1000 of epoch 0 complete, Loss: 0.0612330362200737; Accuracy: 0.9734513274336283; Time taken (s): 3.5012896060943604\n",
            "Iteration 1100 of epoch 0 complete, Loss: 0.07086862623691559; Accuracy: 0.9789915966386554; Time taken (s): 3.883989095687866\n",
            "Iteration 1200 of epoch 0 complete, Loss: 0.0675673633813858; Accuracy: 0.9855855855855856; Time taken (s): 3.8786189556121826\n",
            "Iteration 1300 of epoch 0 complete, Loss: 0.06604111194610596; Accuracy: 0.974293059125964; Time taken (s): 3.4736487865448\n",
            "Iteration 1400 of epoch 0 complete, Loss: 0.18062208592891693; Accuracy: 0.9393203883495146; Time taken (s): 3.6861658096313477\n",
            "Iteration 1500 of epoch 0 complete, Loss: 0.06785998493432999; Accuracy: 0.9912280701754386; Time taken (s): 3.964134931564331\n",
            "Epoch 0 complete! Development Accuracy: 0.9679789461730643;\n",
            "test accuracy:  0.9730365826669626\n",
            "model with 50 hidden dimensions.\n",
            "Iteration 0 of epoch 0 complete, Loss: 1.64989173412323; Accuracy: 0.011627906976744186; Time taken (s): 0.02324509620666504\n",
            "Iteration 100 of epoch 0 complete, Loss: 0.35231393575668335; Accuracy: 0.9073170731707317; Time taken (s): 4.081257581710815\n",
            "Iteration 200 of epoch 0 complete, Loss: 0.25157681107521057; Accuracy: 0.9442231075697212; Time taken (s): 3.8844799995422363\n",
            "Iteration 300 of epoch 0 complete, Loss: 0.1039491519331932; Accuracy: 0.9636363636363636; Time taken (s): 3.899747371673584\n",
            "Iteration 400 of epoch 0 complete, Loss: 0.1125682145357132; Accuracy: 0.9763948497854077; Time taken (s): 3.780433416366577\n",
            "Iteration 500 of epoch 0 complete, Loss: 0.08527626842260361; Accuracy: 0.979002624671916; Time taken (s): 3.6600406169891357\n",
            "Iteration 600 of epoch 0 complete, Loss: 0.13829834759235382; Accuracy: 0.9621621621621622; Time taken (s): 4.212190628051758\n",
            "Iteration 700 of epoch 0 complete, Loss: 0.05609524995088577; Accuracy: 0.978978978978979; Time taken (s): 4.0344743728637695\n",
            "Iteration 800 of epoch 0 complete, Loss: 0.060564231127500534; Accuracy: 0.9793388429752066; Time taken (s): 3.601621389389038\n",
            "Iteration 900 of epoch 0 complete, Loss: 0.06383048743009567; Accuracy: 0.9663120567375887; Time taken (s): 4.211675405502319\n",
            "Iteration 1000 of epoch 0 complete, Loss: 0.06105676665902138; Accuracy: 0.9734513274336283; Time taken (s): 3.8924624919891357\n",
            "Iteration 1100 of epoch 0 complete, Loss: 0.08595362305641174; Accuracy: 0.9621848739495799; Time taken (s): 4.186758279800415\n",
            "Iteration 1200 of epoch 0 complete, Loss: 0.06606455892324448; Accuracy: 0.9855855855855856; Time taken (s): 4.156815528869629\n",
            "Iteration 1300 of epoch 0 complete, Loss: 0.09607817232608795; Accuracy: 0.9588688946015425; Time taken (s): 3.8957951068878174\n",
            "Iteration 1400 of epoch 0 complete, Loss: 0.1744137704372406; Accuracy: 0.9393203883495146; Time taken (s): 3.864546060562134\n",
            "Iteration 1500 of epoch 0 complete, Loss: 0.06986778974533081; Accuracy: 0.9912280701754386; Time taken (s): 4.420255184173584\n",
            "Epoch 0 complete! Development Accuracy: 0.9689055337202984;\n",
            "test accuracy:  0.9740884842291962\n",
            "model with 60 hidden dimensions.\n",
            "Iteration 0 of epoch 0 complete, Loss: 1.5880614519119263; Accuracy: 0.046511627906976744; Time taken (s): 0.02478337287902832\n",
            "Iteration 100 of epoch 0 complete, Loss: 0.33937352895736694; Accuracy: 0.9073170731707317; Time taken (s): 4.232833623886108\n",
            "Iteration 200 of epoch 0 complete, Loss: 0.2408609241247177; Accuracy: 0.9442231075697212; Time taken (s): 4.239705324172974\n",
            "Iteration 300 of epoch 0 complete, Loss: 0.10032560676336288; Accuracy: 0.9709090909090909; Time taken (s): 4.246275186538696\n",
            "Iteration 400 of epoch 0 complete, Loss: 0.09802348911762238; Accuracy: 0.9742489270386266; Time taken (s): 4.030253171920776\n",
            "Iteration 500 of epoch 0 complete, Loss: 0.07230610400438309; Accuracy: 0.984251968503937; Time taken (s): 4.093313932418823\n",
            "Iteration 600 of epoch 0 complete, Loss: 0.118287593126297; Accuracy: 0.9567567567567568; Time taken (s): 4.384876489639282\n",
            "Iteration 700 of epoch 0 complete, Loss: 0.03667575493454933; Accuracy: 0.990990990990991; Time taken (s): 4.31245493888855\n",
            "Iteration 800 of epoch 0 complete, Loss: 0.05196433514356613; Accuracy: 0.987603305785124; Time taken (s): 3.8777048587799072\n",
            "Iteration 900 of epoch 0 complete, Loss: 0.05335039272904396; Accuracy: 0.9698581560283688; Time taken (s): 4.605378866195679\n",
            "Iteration 1000 of epoch 0 complete, Loss: 0.0456271767616272; Accuracy: 0.9867256637168141; Time taken (s): 4.21912407875061\n",
            "Iteration 1100 of epoch 0 complete, Loss: 0.07492678612470627; Accuracy: 0.9747899159663865; Time taken (s): 4.4711737632751465\n",
            "Iteration 1200 of epoch 0 complete, Loss: 0.0572834275662899; Accuracy: 0.9783783783783784; Time taken (s): 4.381298542022705\n",
            "Iteration 1300 of epoch 0 complete, Loss: 0.09018626064062119; Accuracy: 0.9691516709511568; Time taken (s): 4.295569181442261\n",
            "Iteration 1400 of epoch 0 complete, Loss: 0.16788604855537415; Accuracy: 0.941747572815534; Time taken (s): 4.27970814704895\n",
            "Iteration 1500 of epoch 0 complete, Loss: 0.06525760889053345; Accuracy: 0.9912280701754386; Time taken (s): 4.618681907653809\n",
            "Epoch 0 complete! Development Accuracy: 0.9687475767586861;\n",
            "test accuracy:  0.9734833685412904\n",
            "model with 70 hidden dimensions.\n",
            "Iteration 0 of epoch 0 complete, Loss: 1.5953699350357056; Accuracy: 0.08139534883720931; Time taken (s): 0.024644851684570312\n",
            "Iteration 100 of epoch 0 complete, Loss: 0.3398543894290924; Accuracy: 0.9073170731707317; Time taken (s): 4.52861213684082\n",
            "Iteration 200 of epoch 0 complete, Loss: 0.23827096819877625; Accuracy: 0.9442231075697212; Time taken (s): 4.751549959182739\n",
            "Iteration 300 of epoch 0 complete, Loss: 0.09260182082653046; Accuracy: 0.9745454545454545; Time taken (s): 4.830077409744263\n",
            "Iteration 400 of epoch 0 complete, Loss: 0.09964382648468018; Accuracy: 0.9721030042918455; Time taken (s): 4.443215370178223\n",
            "Iteration 500 of epoch 0 complete, Loss: 0.06220194324851036; Accuracy: 0.984251968503937; Time taken (s): 4.504884958267212\n",
            "Iteration 600 of epoch 0 complete, Loss: 0.10678087919950485; Accuracy: 0.9648648648648649; Time taken (s): 4.747637033462524\n",
            "Iteration 700 of epoch 0 complete, Loss: 0.033659178763628006; Accuracy: 0.987987987987988; Time taken (s): 4.566558837890625\n",
            "Iteration 800 of epoch 0 complete, Loss: 0.0532546229660511; Accuracy: 0.9834710743801653; Time taken (s): 4.258218050003052\n",
            "Iteration 900 of epoch 0 complete, Loss: 0.059379883110523224; Accuracy: 0.975177304964539; Time taken (s): 4.918838024139404\n",
            "Iteration 1000 of epoch 0 complete, Loss: 0.03912755101919174; Accuracy: 0.9867256637168141; Time taken (s): 4.395289897918701\n",
            "Iteration 1100 of epoch 0 complete, Loss: 0.08567948639392853; Accuracy: 0.9663865546218487; Time taken (s): 4.637007236480713\n",
            "Iteration 1200 of epoch 0 complete, Loss: 0.05061286687850952; Accuracy: 0.9855855855855856; Time taken (s): 4.715292692184448\n",
            "Iteration 1300 of epoch 0 complete, Loss: 0.08103284984827042; Accuracy: 0.9717223650385605; Time taken (s): 4.7292749881744385\n",
            "Iteration 1400 of epoch 0 complete, Loss: 0.17929847538471222; Accuracy: 0.9490291262135923; Time taken (s): 4.578937292098999\n",
            "Iteration 1500 of epoch 0 complete, Loss: 0.06756562739610672; Accuracy: 0.9912280701754386; Time taken (s): 4.919017791748047\n",
            "Epoch 0 complete! Development Accuracy: 0.9696718731597898;\n",
            "test accuracy:  0.974098329447906\n"
          ]
        }
      ]
    },
    {
      "cell_type": "code",
      "metadata": {
        "colab": {
          "base_uri": "https://localhost:8080/",
          "height": 295
        },
        "id": "KvSbLPhk2Kdc",
        "outputId": "44502080-d810-47f2-86b2-deccc456aea2"
      },
      "source": [
        "plt.plot(hidden_dims, test_accs)\n",
        "plt.title('Test accuracy with different hidden dimension size (epoch=1)')\n",
        "plt.xlabel('Hidden dimension')\n",
        "plt.ylabel('Test accuracy')\n",
        "plt.show()"
      ],
      "execution_count": null,
      "outputs": [
        {
          "output_type": "display_data",
          "data": {
            "image/png": "[encoded data removed]",
            "text/plain": [
              "<Figure size 432x288 with 1 Axes>"
            ]
          },
          "metadata": {
            "needs_background": "light"
          }
        }
      ]
    },
    {
      "cell_type": "code",
      "metadata": {
        "colab": {
          "base_uri": "https://localhost:8080/",
          "height": 295
        },
        "id": "8FFQyV73NXfP",
        "outputId": "f80c3e45-6ed4-4de1-ed3b-51f2c1557414"
      },
      "source": [
        "import matplotlib.pyplot as plt\n",
        "x = [20, 30, 40, 50, 60, 70, 80]\n",
        "y = [0.41, 0.483, 0.62, 0.65, 0.64, 0.652, 0.645]\n",
        "\n",
        "plt.xlabel(\"Hidden dimension\")\n",
        "plt.ylabel(\"B-RECEPTACLE\")\n",
        "plt.title('F1-score on B-RECEPTACLE with different hidden dimension')\n",
        "plt.plot(x, y)\n",
        "plt.show()"
      ],
      "execution_count": null,
      "outputs": [
        {
          "output_type": "display_data",
          "data": {
            "image/png": "[encoded data removed]",
            "text/plain": [
              "<Figure size 432x288 with 1 Axes>"
            ]
          },
          "metadata": {
            "needs_background": "light"
          }
        }
      ]
    },
    {
      "cell_type": "markdown",
      "metadata": {
        "id": "7oTL8d9MkDN_"
      },
      "source": [
        "## Save and load model"
      ]
    },
    {
      "cell_type": "code",
      "metadata": {
        "id": "lqin6BLSDJFE",
        "colab": {
          "base_uri": "https://localhost:8080/",
          "height": 17
        },
        "outputId": "961f32b1-7494-4f82-85d1-55ee6e1984aa"
      },
      "source": [
        "# save the model\n",
        "model_save_name = 'entity_model.pth'\n",
        "model_save_path = F\"/content/drive/MyDrive/Colab Notebooks/{model_save_name}\"\n",
        "torch.save(best_model.state_dict(), model_save_path)\n",
        "\n",
        "# download the model to the local drive\n",
        "files.download(model_save_path) "
      ],
      "execution_count": null,
      "outputs": [
        {
          "output_type": "display_data",
          "data": {
            "application/javascript": [
              "\n",
              "    async function download(id, filename, size) {\n",
              "      if (!google.colab.kernel.accessAllowed) {\n",
              "        return;\n",
              "      }\n",
              "      const div = document.createElement('div');\n",
              "      const label = document.createElement('label');\n",
              "      label.textContent = `Downloading \"${filename}\": `;\n",
              "      div.appendChild(label);\n",
              "      const progress = document.createElement('progress');\n",
              "      progress.max = size;\n",
              "      div.appendChild(progress);\n",
              "      document.body.appendChild(div);\n",
              "\n",
              "      const buffers = [];\n",
              "      let downloaded = 0;\n",
              "\n",
              "      const channel = await google.colab.kernel.comms.open(id);\n",
              "      // Send a message to notify the kernel that we're ready.\n",
              "      channel.send({})\n",
              "\n",
              "      for await (const message of channel.messages) {\n",
              "        // Send a message to notify the kernel that we're ready.\n",
              "        channel.send({})\n",
              "        if (message.buffers) {\n",
              "          for (const buffer of message.buffers) {\n",
              "            buffers.push(buffer);\n",
              "            downloaded += buffer.byteLength;\n",
              "            progress.value = downloaded;\n",
              "          }\n",
              "        }\n",
              "      }\n",
              "      const blob = new Blob(buffers, {type: 'application/binary'});\n",
              "      const a = document.createElement('a');\n",
              "      a.href = window.URL.createObjectURL(blob);\n",
              "      a.download = filename;\n",
              "      div.appendChild(a);\n",
              "      a.click();\n",
              "      div.remove();\n",
              "    }\n",
              "  "
            ],
            "text/plain": [
              "<IPython.core.display.Javascript object>"
            ]
          },
          "metadata": {}
        },
        {
          "output_type": "display_data",
          "data": {
            "application/javascript": [
              "download(\"download_2f9ff4c8-a885-4ba9-975e-0175e5fdb246\", \"entity_model.pth\", 317027)"
            ],
            "text/plain": [
              "<IPython.core.display.Javascript object>"
            ]
          },
          "metadata": {}
        }
      ]
    },
    {
      "cell_type": "code",
      "metadata": {
        "colab": {
          "base_uri": "https://localhost:8080/"
        },
        "id": "mvZ7BE5I-TJd",
        "outputId": "e5436746-b28c-4975-920b-568dfba220e3"
      },
      "source": [
        "# load the saved model from google drive\n",
        "model_load = EntityLinker(feature_dim = feature_dimension, \n",
        "                     hidden_dim = hidden_dimension, \n",
        "                     roleset_size = roleset_size)\n",
        "model_load.load_state_dict(torch.load(MODEL_PATH, map_location=torch.device('cpu')))\n"
      ],
      "execution_count": null,
      "outputs": [
        {
          "output_type": "execute_result",
          "data": {
            "text/plain": [
              "<All keys matched successfully>"
            ]
          },
          "metadata": {},
          "execution_count": 28
        }
      ]
    },
    {
      "cell_type": "markdown",
      "metadata": {
        "id": "nCT__8_qZwjX"
      },
      "source": [
        "## process a single sentence"
      ]
    },
    {
      "cell_type": "code",
      "metadata": {
        "id": "4vwNKeZhh2kz"
      },
      "source": [
        "# map index of label to the label (in string)\n",
        "def idx_to_label(preds, role_to_idx):\n",
        "    preds_string = []\n",
        "    for result in preds:\n",
        "        role = list(role_to_idx.keys())[list(role_to_idx.values()).index(result)]\n",
        "        preds_string.append(role)\n",
        "    return preds_string\n",
        "\n",
        "\n",
        "# get the features of tokens in the sentence\n",
        "def process_sentence(nlp, sentence_string):\n",
        "    sentence_nlp = nlp(sentence_string.lower())\n",
        "\n",
        "    num_token = len(sentence_nlp)\n",
        "    tensor_shape = (num_token, feature_dimension)\n",
        "    tokens_features_t = torch.zeros(tensor_shape)\n",
        "\n",
        "    i = 0\n",
        "    for token in sentence_nlp:\n",
        "        dep = get_dep_vector(dep_df, token.dep_)\n",
        "        vector = token.vector\n",
        "        feature = np.append(vector, dep)\n",
        "        feature_tensor = torch.from_numpy(feature).float()\n",
        "        tokens_features_t[i] = feature_tensor\n",
        "        i += 1\n",
        "\n",
        "    return tokens_features_t\n",
        "       \n",
        "\n",
        "# predict labels of each token\n",
        "def predict(model, nlp, sentence_string, role_to_idx):\n",
        "    \n",
        "    model.eval()\n",
        "    features_t = process_sentence(nlp, sentence_string)\n",
        "    input_lens = features_t.shape[0]\n",
        "\n",
        "    input = features_t[None, :, :]\n",
        "    predictions = []\n",
        "\n",
        "    with torch.no_grad():\n",
        "        label_scores = model(input, [input_lens])\n",
        "        role_scores = F.log_softmax(label_scores, dim=2)\n",
        "        flatten_scores = role_scores.view(-1, label_scores.shape[2])\n",
        "\n",
        "        for i in range(input_lens):\n",
        "            pred = torch.argmax(flatten_scores[i])\n",
        "            \n",
        "            predictions.append(pred.item())\n",
        "        \n",
        "        pred_roles = idx_to_label(predictions, role_to_idx)\n",
        "    return pred_roles\n"
      ],
      "execution_count": null,
      "outputs": []
    },
    {
      "cell_type": "code",
      "metadata": {
        "id": "xJw7_ry6uTxs"
      },
      "source": [
        "def get_target_and_recep(sentence_nlp, pred_roles):\n",
        "    target = []\n",
        "    receptacle = []\n",
        "\n",
        "    i = 0    \n",
        "    for label in pred_roles:\n",
        "        token = sentence_nlp[i].text\n",
        "        if label == 'B-TARGET':\n",
        "            target.append(token)\n",
        "        elif label == 'I-TARGET':\n",
        "            item = target[-1] + ' ' + token\n",
        "            target[-1] = item\n",
        "        elif label == 'B-RECEPTACLE':\n",
        "            receptacle.append(token)\n",
        "        elif label == 'I-RECEPTACLE':\n",
        "            item = receptacle[-1] + ' ' + token\n",
        "            receptacle[-1] = item\n",
        "        i += 1\n",
        "    \n",
        "    return target, receptacle\n"
      ],
      "execution_count": null,
      "outputs": []
    },
    {
      "cell_type": "code",
      "metadata": {
        "id": "fj2I4ItI1okt"
      },
      "source": [
        ""
      ],
      "execution_count": null,
      "outputs": []
    },
    {
      "cell_type": "code",
      "metadata": {
        "colab": {
          "base_uri": "https://localhost:8080/"
        },
        "id": "SSZGgenHpNzp",
        "outputId": "1b1b37d1-0bd9-4632-dfd3-24f6eb8f7bde"
      },
      "source": [
        "sentence = \"move the pillow to the chair and turn to the couch and \"\n",
        "sentence_nlp = nlp(sentence.lower())\n",
        "\n",
        "result = predict(model_load, nlp, sentence, role_to_idx)\n",
        "print(result)\n",
        "target, receptacle = get_target_and_recep(sentence_nlp, result)\n",
        "print(\"target:     {} \\nreceptacle: {}\".format(target, receptacle))\n"
      ],
      "execution_count": null,
      "outputs": [
        {
          "output_type": "stream",
          "name": "stdout",
          "text": [
            "['O', 'O', 'B-TARGET', 'O', 'O', 'B-RECEPTACLE', 'O', 'O', 'O', 'O', 'O', 'O']\n",
            "target:     ['pillow'] \n",
            "receptacle: ['chair']\n"
          ]
        }
      ]
    },
    {
      "cell_type": "code",
      "metadata": {
        "id": "q1I2PdfzpGa2"
      },
      "source": [
        ""
      ],
      "execution_count": null,
      "outputs": []
    },
    {
      "cell_type": "code",
      "metadata": {
        "id": "dw-jma6-Vgum"
      },
      "source": [
        ""
      ],
      "execution_count": null,
      "outputs": []
    }
  ]
}