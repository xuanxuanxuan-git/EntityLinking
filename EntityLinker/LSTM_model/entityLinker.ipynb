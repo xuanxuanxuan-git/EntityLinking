{
 "cells": [
  {
   "cell_type": "code",
   "execution_count": 1,
   "metadata": {
    "colab": {
     "base_uri": "https://localhost:8080/"
    },
    "id": "jUr016oJnRuU",
    "outputId": "bcabbd8f-1c51-451b-896e-c32cc32c6938"
   },
   "outputs": [],
   "source": [
    "import spacy\n",
    "\n",
    "# In Google Colab\n",
    "# !python -m spacy download en_core_web_lg"
   ]
  },
  {
   "cell_type": "code",
   "execution_count": 2,
   "metadata": {
    "id": "1cTyOM0zpxt2"
   },
   "outputs": [],
   "source": [
    "import json\n",
    "import re\n",
    "import time\n",
    "import numpy as np\n",
    "import torch\n",
    "import pandas as pd\n",
    "import torch.nn as nn\n",
    "import torch.optim as optim\n",
    "import torch.nn.functional as F\n",
    "import en_core_web_lg\n",
    "from torch.utils.data import Dataset, DataLoader\n",
    "from torch.nn.utils.rnn import pad_sequence, pack_padded_sequence, pad_packed_sequence"
   ]
  },
  {
   "cell_type": "code",
   "execution_count": 3,
   "metadata": {
    "colab": {
     "base_uri": "https://localhost:8080/"
    },
    "id": "IFZsIaFuppPS",
    "outputId": "f2cb4e14-0067-432a-9d6a-6a930b666a93"
   },
   "outputs": [
    {
     "name": "stdout",
     "output_type": "stream",
     "text": [
      "cpu\n"
     ]
    }
   ],
   "source": [
    "nlp = en_core_web_lg.load()\n",
    "\n",
    "use_cuda = torch.cuda.is_available()\n",
    "device = torch.device(\"cuda\" if use_cuda else \"cpu\")\n",
    "print(device)"
   ]
  },
  {
   "cell_type": "code",
   "execution_count": null,
   "metadata": {
    "colab": {
     "base_uri": "https://localhost:8080/"
    },
    "id": "YHnq0ikGp54T",
    "outputId": "cce006a3-b005-4fe4-c34c-a5729d5d0402"
   },
   "outputs": [
    {
     "name": "stdout",
     "output_type": "stream",
     "text": [
      "Mounted at /content/drive\n"
     ]
    }
   ],
   "source": [
    "# In Google Colab\n",
    "# from google.colab import drive, files\n",
    "# drive.mount('/content/drive')\n",
    "\n",
    "# TRAIN_SENTENCES_FILE_PATH = \"/content/drive/MyDrive/Colab Notebooks/baseline_dataset/sentences_train.txt\"\n",
    "# DEV_SENTENCES_FILE_PATH = \"/content/drive/MyDrive/Colab Notebooks/baseline_dataset/sentences_dev.txt\"\n",
    "# TEST_SENTENCES_FILE_PATH = \"/content/drive/MyDrive/Colab Notebooks/baseline_dataset/sentences_test.txt\"\n",
    "\n",
    "# TRAIN_DEP_FILE_PATH = \"/content/drive/MyDrive/Colab Notebooks/baseline_dataset/dep_train.txt\"\n",
    "# DEV_DEP_FILE_PATH = \"/content/drive/MyDrive/Colab Notebooks/baseline_dataset/dep_dev.txt\"\n",
    "# TEST_DEP_FILE_PATH = \"/content/drive/MyDrive/Colab Notebooks/baseline_dataset/dep_test.txt\"\n",
    "\n",
    "# TRAIN_LABELS_FILE_PATH = \"/content/drive/MyDrive/Colab Notebooks/baseline_dataset/labels_train.txt\"\n",
    "# DEV_LABELS_FILE_PATH = \"/content/drive/MyDrive/Colab Notebooks/baseline_dataset/labels_dev.txt\"\n",
    "# TEST_LABELS_FILE_PATH = \"/content/drive/MyDrive/Colab Notebooks/baseline_dataset/labels_test.txt\"\n",
    "\n",
    "# MODEL_PATH = \"/content/drive/MyDrive/Colab Notebooks/entity_model.pth\""
   ]
  },
  {
   "cell_type": "code",
   "execution_count": 4,
   "metadata": {},
   "outputs": [],
   "source": [
    "TRAIN_SENTENCES_FILE_PATH = \"../Data/Generated_dataset/baseline_dataset/sentences_train.txt\"\n",
    "DEV_SENTENCES_FILE_PATH = \"../Data/Generated_dataset/baseline_dataset/sentences_dev.txt\"\n",
    "TEST_SENTENCES_FILE_PATH = \"../Data/Generated_dataset/baseline_dataset/sentences_test.txt\"\n",
    "\n",
    "TRAIN_DEP_FILE_PATH = \"../Data/Generated_dataset/baseline_dataset/dep_train.txt\"\n",
    "DEV_DEP_FILE_PATH = \"../Data/Generated_dataset/baseline_dataset/dep_dev.txt\"\n",
    "TEST_DEP_FILE_PATH = \"../Data/Generated_dataset/baseline_dataset/dep_test.txt\"\n",
    "\n",
    "TRAIN_LABELS_FILE_PATH = \"../Data/Generated_dataset/baseline_dataset/labels_train.txt\"\n",
    "DEV_LABELS_FILE_PATH = \"../Data/Generated_dataset/baseline_dataset/labels_dev.txt\"\n",
    "TEST_LABELS_FILE_PATH = \"../Data/Generated_dataset/baseline_dataset/labels_test.txt\"\n",
    "\n",
    "MODEL_PATH = \"entity_model.pth\""
   ]
  },
  {
   "cell_type": "code",
   "execution_count": 5,
   "metadata": {
    "colab": {
     "base_uri": "https://localhost:8080/",
     "height": 202
    },
    "id": "4H9-p_rRYqKX",
    "outputId": "a5e29d46-6a37-42ad-83be-896fa76d3194"
   },
   "outputs": [
    {
     "data": {
      "text/html": [
       "<div>\n",
       "<style scoped>\n",
       "    .dataframe tbody tr th:only-of-type {\n",
       "        vertical-align: middle;\n",
       "    }\n",
       "\n",
       "    .dataframe tbody tr th {\n",
       "        vertical-align: top;\n",
       "    }\n",
       "\n",
       "    .dataframe thead th {\n",
       "        text-align: right;\n",
       "    }\n",
       "</style>\n",
       "<table border=\"1\" class=\"dataframe\">\n",
       "  <thead>\n",
       "    <tr style=\"text-align: right;\">\n",
       "      <th></th>\n",
       "      <th>sentence</th>\n",
       "    </tr>\n",
       "  </thead>\n",
       "  <tbody>\n",
       "    <tr>\n",
       "      <th>0</th>\n",
       "      <td>put a credit card on a couch</td>\n",
       "    </tr>\n",
       "    <tr>\n",
       "      <th>1</th>\n",
       "      <td>move the credit card from the shelf to the sofa</td>\n",
       "    </tr>\n",
       "    <tr>\n",
       "      <th>2</th>\n",
       "      <td>move a credit card from a shelf to the couch</td>\n",
       "    </tr>\n",
       "    <tr>\n",
       "      <th>3</th>\n",
       "      <td>turn around , go to the tall black shelves</td>\n",
       "    </tr>\n",
       "    <tr>\n",
       "      <th>4</th>\n",
       "      <td>pick up the credit card on the shelf</td>\n",
       "    </tr>\n",
       "  </tbody>\n",
       "</table>\n",
       "</div>"
      ],
      "text/plain": [
       "                                          sentence\n",
       "0                     put a credit card on a couch\n",
       "1  move the credit card from the shelf to the sofa\n",
       "2     move a credit card from a shelf to the couch\n",
       "3       turn around , go to the tall black shelves\n",
       "4             pick up the credit card on the shelf"
      ]
     },
     "execution_count": 5,
     "metadata": {},
     "output_type": "execute_result"
    }
   ],
   "source": [
    "sentences = pd.read_csv(DEV_SENTENCES_FILE_PATH, delimiter='\\t', header = None, names = ['sentence'])\n",
    "sentences.head()"
   ]
  },
  {
   "cell_type": "code",
   "execution_count": 6,
   "metadata": {
    "colab": {
     "base_uri": "https://localhost:8080/"
    },
    "id": "vVfQQvlDarR0",
    "outputId": "cb2a6a1c-e043-4b2a-d317-742946ce2a21"
   },
   "outputs": [
    {
     "data": {
      "text/plain": [
       "6379"
      ]
     },
     "execution_count": 6,
     "metadata": {},
     "output_type": "execute_result"
    }
   ],
   "source": [
    "len(sentences)"
   ]
  },
  {
   "cell_type": "code",
   "execution_count": 7,
   "metadata": {
    "id": "cnHN5AzU48yu"
   },
   "outputs": [],
   "source": [
    "# preprocess dependency parsing relations using one-hot encoding\n",
    "\n",
    "# Collect all the dependency relations that occur in all the datasets\n",
    "def collect_dep_relations(input_files):\n",
    "    dep_set = set()\n",
    "    \n",
    "    for file in input_files:\n",
    "        with open(file, \"r\") as f:\n",
    "            for line in f:\n",
    "                dep_list = line.split()\n",
    "                for dep in dep_list:\n",
    "                    dep_set.add(dep)\n",
    "\n",
    "    return dep_set\n",
    "\n",
    "\n",
    "# Transform the categorical column into their numerical counterparts, via the\n",
    "# one-hot encoding scheme.\n",
    "def create_dep_encoding(dep_set):\n",
    "    ids = []\n",
    "    id = 0\n",
    "    dep_list = list(dep_set)\n",
    "\n",
    "    for dep in dep_list:\n",
    "        ids.append(id)\n",
    "        id += 1\n",
    "    \n",
    "    df = pd.DataFrame(list(zip(ids, dep_list)), columns = ['Id', 'Dep'])\n",
    "    dep_df = pd.get_dummies(df.Dep)\n",
    "\n",
    "    return dep_df\n",
    "\n",
    "\n",
    "# Return the vector of a dependency relation\n",
    "# Ouput is a 41-dimensional vector\n",
    "def get_dep_vector(dep_df, dep_string):\n",
    "\n",
    "    try:\n",
    "        return np.array(dep_df[dep_string].tolist(), dtype = np.float32)\n",
    "    except KeyError as e:\n",
    "        print(\"Error: Dependency relation not found\")\n",
    "        null_dep = np.zeros(depset_size, dtype = np.float32)\n",
    "        return null_dep\n"
   ]
  },
  {
   "cell_type": "code",
   "execution_count": 8,
   "metadata": {
    "colab": {
     "base_uri": "https://localhost:8080/"
    },
    "id": "FdPAjGhOvBYK",
    "outputId": "56a2acf7-93e1-42a5-ab06-e930068288ae"
   },
   "outputs": [
    {
     "name": "stdout",
     "output_type": "stream",
     "text": [
      "Number of dependency relations: 41\n"
     ]
    }
   ],
   "source": [
    "# Global parameters\n",
    "batchsize_global = 16\n",
    "\n",
    "# assign each label with a unique index\n",
    "roleset_size = 5\n",
    "role_to_idx = {\"O\": 0, \"B-TARGET\": 1, \"I-TARGET\": 2, \"B-RECEPTACLE\": 3, \n",
    "              \"I-RECEPTACLE\": 4}\n",
    "\n",
    "# collect the dependency relation set, and represent each dep relation using \n",
    "# one-hot encoding\n",
    "dep_set = collect_dep_relations({TRAIN_DEP_FILE_PATH, DEV_DEP_FILE_PATH, TEST_DEP_FILE_PATH})\n",
    "dep_df = create_dep_encoding(dep_set)\n",
    "# root_vector = get_dep_vector(dep_df, 'ROOT')\n",
    "\n",
    "print(\"Number of dependency relations:\", len(dep_set))\n",
    "\n",
    "depset_size = 41\n",
    "embedding_dim = 300\n",
    "\n",
    "# parameters used in EntityLinker model\n",
    "feature_dimension = depset_size + embedding_dim\n",
    "hidden_dimension = 50"
   ]
  },
  {
   "cell_type": "code",
   "execution_count": null,
   "metadata": {
    "colab": {
     "base_uri": "https://localhost:8080/"
    },
    "id": "mB0OYcsLItld",
    "outputId": "6b384275-3b1b-4fe4-f0f0-67a99022671e"
   },
   "outputs": [
    {
     "name": "stdout",
     "output_type": "stream",
     "text": [
      "    ROOT  acl  acomp  advcl  advmod  ...  prt  punct  quantmod  relcl  xcomp\n",
      "0      0    0      1      0       0  ...    0      0         0      0      0\n",
      "1      0    0      0      0       0  ...    0      0         0      0      0\n",
      "2      0    0      0      0       0  ...    0      0         0      0      0\n",
      "3      0    0      0      0       0  ...    0      0         0      0      0\n",
      "4      0    0      0      0       0  ...    0      0         0      0      0\n",
      "5      0    0      0      0       0  ...    0      0         0      0      0\n",
      "6      0    0      0      0       0  ...    1      0         0      0      0\n",
      "7      0    0      0      0       0  ...    0      0         0      0      0\n",
      "8      0    0      0      0       0  ...    0      0         0      0      0\n",
      "9      0    0      0      0       0  ...    0      0         0      0      0\n",
      "10     1    0      0      0       0  ...    0      0         0      0      0\n",
      "11     0    1      0      0       0  ...    0      0         0      0      0\n",
      "12     0    0      0      0       0  ...    0      0         0      0      0\n",
      "13     0    0      0      0       0  ...    0      0         1      0      0\n",
      "14     0    0      0      0       0  ...    0      0         0      0      0\n",
      "15     0    0      0      0       0  ...    0      0         0      0      0\n",
      "16     0    0      0      0       0  ...    0      0         0      0      0\n",
      "17     0    0      0      0       0  ...    0      0         0      0      0\n",
      "18     0    0      0      0       0  ...    0      0         0      0      0\n",
      "19     0    0      0      0       0  ...    0      0         0      0      0\n",
      "20     0    0      0      0       0  ...    0      0         0      0      0\n",
      "21     0    0      0      0       0  ...    0      0         0      0      0\n",
      "22     0    0      0      0       0  ...    0      0         0      0      0\n",
      "23     0    0      0      0       0  ...    0      0         0      0      0\n",
      "24     0    0      0      0       0  ...    0      1         0      0      0\n",
      "25     0    0      0      1       0  ...    0      0         0      0      0\n",
      "26     0    0      0      0       0  ...    0      0         0      0      0\n",
      "27     0    0      0      0       0  ...    0      0         0      0      1\n",
      "28     0    0      0      0       0  ...    0      0         0      0      0\n",
      "29     0    0      0      0       0  ...    0      0         0      0      0\n",
      "30     0    0      0      0       0  ...    0      0         0      0      0\n",
      "31     0    0      0      0       0  ...    0      0         0      1      0\n",
      "32     0    0      0      0       0  ...    0      0         0      0      0\n",
      "33     0    0      0      0       0  ...    0      0         0      0      0\n",
      "34     0    0      0      0       0  ...    0      0         0      0      0\n",
      "35     0    0      0      0       1  ...    0      0         0      0      0\n",
      "36     0    0      0      0       0  ...    0      0         0      0      0\n",
      "37     0    0      0      0       0  ...    0      0         0      0      0\n",
      "38     0    0      0      0       0  ...    0      0         0      0      0\n",
      "39     0    0      0      0       0  ...    0      0         0      0      0\n",
      "40     0    0      0      0       0  ...    0      0         0      0      0\n",
      "\n",
      "[41 rows x 41 columns]\n"
     ]
    }
   ],
   "source": [
    "print(dep_df)"
   ]
  },
  {
   "cell_type": "markdown",
   "metadata": {
    "id": "O_yojr-zey-i"
   },
   "source": [
    "maybe using segment id as a feature?"
   ]
  },
  {
   "cell_type": "code",
   "execution_count": 9,
   "metadata": {
    "id": "6qu-HMhHrLFx"
   },
   "outputs": [],
   "source": [
    "#Initialising the dataset using pytorch\n",
    "class ELDataset(Dataset):\n",
    "\n",
    "    def __init__(self, nlp_model, sentence_file, dep_file, label_file, dep_feature = True):\n",
    "        self.nlp = nlp_model\n",
    "        self.sentence_file = pd.read_csv(sentence_file, delimiter='\\t', \n",
    "                                     header = None, names = ['sentence'])\n",
    "        self.dep_file = pd.read_csv(dep_file, delimiter='\\t', \n",
    "                                    header = None, names = ['dependency'])\n",
    "        self.label_file = pd.read_csv(label_file, delimiter='\\t', \n",
    "                                      header = None, names = ['label'])\n",
    "        # self.feature_dim = depset_size + embedding_dim\n",
    "        self.dep_feature = dep_feature\n",
    "\n",
    "        if dep_feature:\n",
    "            self.feature_dim = depset_size + embedding_dim\n",
    "        else: \n",
    "            self.feature_dim = embedding_dim\n",
    "\n",
    "    def __len__(self):\n",
    "        assert len(self.sentence_file) == len(self.dep_file)\n",
    "        assert len(self.sentence_file) == len(self.dep_file)\n",
    "        return len(self.sentence_file)\n",
    "    \n",
    "    # ouput is a 300-dimensional vector (numpy.array)\n",
    "    def get_spacy_embedding(self, token_string):\n",
    "        token = token_string.lower()\n",
    "        minimum_n_gram_len = 1\n",
    "\n",
    "        # if the word has a vector, the result is the pre-trained vector;\n",
    "        # if the word is out of vocabulary, then the resulting vector uses \n",
    "        # FastText’s subword features by average over n-grams of orth\n",
    "        if self.nlp.vocab.has_vector(token):\n",
    "            vector = self.nlp.vocab.get_vector(token)\n",
    "        else:\n",
    "            vector = self.nlp.vocab.get_vector(token, minn = minimum_n_gram_len)\n",
    "        \n",
    "        return vector\n",
    "    \n",
    "    # concatenate word embedding (300d) with dependency relation (41d)\n",
    "    # output is a 341 dimensional feature (numpy.array)\n",
    "    def prepare_token_feature(self, token_string, dep_string):\n",
    "        vector = self.get_spacy_embedding(token_string)\n",
    "        if self.dep_feature: \n",
    "            dep = get_dep_vector(dep_df, dep_string)\n",
    "            token_feature = np.append(vector, dep)\n",
    "        else: \n",
    "            token_feature = vector\n",
    "        return token_feature\n",
    "    \n",
    "    # get the numerical value of the labels\n",
    "    # return the a numpy array of labels for a sentence\n",
    "    def prepare_labels(self, label_list, role_to_idx):\n",
    "        ids = [role_to_idx[role] for role in label_list]\n",
    "        return np.array(ids)\n",
    "    \n",
    "    \n",
    "    def __getitem__(self, index):\n",
    "        \n",
    "        desc = self.sentence_file.loc[index, 'sentence'].split()\n",
    "        dep = self.dep_file.loc[index, 'dependency'].split()\n",
    "        label = self.label_file.loc[index, 'label'].split()\n",
    "\n",
    "        token_count = len(desc)\n",
    "        tensor_shape = (token_count, self.feature_dim,)\n",
    "        sentence_tensor = torch.zeros(tensor_shape)\n",
    "\n",
    "        token_idx = 0\n",
    "        for token in desc:\n",
    "            token_feature = self.prepare_token_feature(token, dep[token_idx])\n",
    "            token_f_tensor = torch.from_numpy(token_feature).float()\n",
    "            sentence_tensor[token_idx] = token_f_tensor\n",
    "            token_idx += 1\n",
    "\n",
    "        label_array = self.prepare_labels(label, role_to_idx)\n",
    "        label_tensor = torch.from_numpy(label_array)\n",
    "\n",
    "        return sentence_tensor, label_tensor\n"
   ]
  },
  {
   "cell_type": "code",
   "execution_count": 10,
   "metadata": {
    "id": "kUtnoYy5cfmh"
   },
   "outputs": [],
   "source": [
    "# In a batch of the sentences, sequences have variable length, so we need to\n",
    "# pad them to the same size\n",
    "def pad_collate(batch):\n",
    "    (xx, yy) = zip(*batch)\n",
    "    # x_lens_t = torch.tensor([len(x) for x in xx])\n",
    "    # y_lens_t = torch.tensor([len(y) for y in yy])\n",
    "\n",
    "    x_lens = [len(x) for x in xx]\n",
    "    y_lens = [len(y) for y in yy]\n",
    "\n",
    "    padding_tensor = 0\n",
    "    # the label for the pad token is -1\n",
    "    padding_label = -1\n",
    "\n",
    "    xx_pad = pad_sequence(xx, batch_first = True, padding_value = padding_tensor)\n",
    "    yy_pad = pad_sequence(yy, batch_first = True, padding_value = padding_label)\n",
    "\n",
    "    return xx_pad, yy_pad, x_lens, y_lens"
   ]
  },
  {
   "cell_type": "code",
   "execution_count": null,
   "metadata": {
    "id": "8JULKF5yuc3r"
   },
   "outputs": [],
   "source": [
    "\n"
   ]
  },
  {
   "cell_type": "code",
   "execution_count": 11,
   "metadata": {
    "colab": {
     "base_uri": "https://localhost:8080/"
    },
    "id": "PCgURAXsE3PI",
    "outputId": "d362bd19-4867-44dc-8f3c-045edfebb039"
   },
   "outputs": [
    {
     "name": "stdout",
     "output_type": "stream",
     "text": [
      "Done loading datasets.\n"
     ]
    }
   ],
   "source": [
    "# create the dataset for training, validation and testing\n",
    "train_set = ELDataset(nlp_model = nlp, sentence_file = TRAIN_SENTENCES_FILE_PATH, \n",
    "                      dep_file = TRAIN_DEP_FILE_PATH, \n",
    "                      label_file = TRAIN_LABELS_FILE_PATH)\n",
    "\n",
    "dev_set = ELDataset(nlp_model = nlp, sentence_file = DEV_SENTENCES_FILE_PATH, \n",
    "                    dep_file = DEV_DEP_FILE_PATH, \n",
    "                    label_file = DEV_LABELS_FILE_PATH)\n",
    "\n",
    "test_set = ELDataset(nlp_model = nlp, sentence_file = TEST_SENTENCES_FILE_PATH, \n",
    "                     dep_file = TEST_DEP_FILE_PATH, \n",
    "                     label_file = TEST_LABELS_FILE_PATH)\n",
    "\n",
    "# Load the dataset\n",
    "train_loader = DataLoader(train_set, batch_size = batchsize_global, \n",
    "                          shuffle=False, pin_memory=True, \n",
    "                          collate_fn = pad_collate)\n",
    "\n",
    "dev_loader = DataLoader(dev_set, batch_size = batchsize_global, \n",
    "                        shuffle=False, pin_memory=True, \n",
    "                        collate_fn = pad_collate)\n",
    "\n",
    "test_loader = DataLoader(test_set, batch_size = batchsize_global, \n",
    "                         shuffle=False, pin_memory=True, \n",
    "                         collate_fn = pad_collate)\n",
    "\n",
    "print(\"Done loading datasets.\")"
   ]
  },
  {
   "cell_type": "code",
   "execution_count": 12,
   "metadata": {
    "id": "4CssSO62wrQv"
   },
   "outputs": [],
   "source": [
    "class EntityLinker(nn.Module):\n",
    "    \n",
    "    def __init__(self, feature_dim, hidden_dim, roleset_size):\n",
    "        super(EntityLinker, self).__init__()\n",
    "        self.feature_dim = feature_dim\n",
    "        self.hidden_dim = hidden_dim\n",
    "        self.roleset_size = roleset_size\n",
    "\n",
    "        self.lstm = nn.LSTM(self.feature_dim, self.hidden_dim, batch_first=True)\n",
    "        self.cls_layer = nn.Linear(self.hidden_dim, self.roleset_size)\n",
    "    \n",
    "    def forward(self, input_features, input_lens):\n",
    "        \n",
    "        input_packed = pack_padded_sequence(input_features, \n",
    "                                            input_lens, batch_first = True, \n",
    "                                            enforce_sorted = False)\n",
    "        \n",
    "        # print(\"input packed shape:\", input_packed.batch_sizes)\n",
    "        lstm_out_packed, _ = self.lstm(input_packed)\n",
    "        # print(\"output packed shape:\", lstm_out_packed.batch_sizes)\n",
    "        \n",
    "        # lstm_out_padded shape: batch size x batch_max_len x lstm_hidden_dim\n",
    "        lstm_out_padded, output_lengths = pad_packed_sequence(lstm_out_packed, \n",
    "                                                              batch_first = True)\n",
    "\n",
    "        # label_out size: batch_size x batch_max_len x roleset_size\n",
    "        label_out = self.cls_layer(lstm_out_padded)        \n",
    "\n",
    "        \n",
    "        # label_scores = F.log_softmax(label_out, dim=2)\n",
    "        # # print(label_scores.shape)\n",
    "        \n",
    "        # # flatten_output size: batch_size*batch_max_len x roleset_size\n",
    "        # flatten_output = label_scores.view(-1, label_scores.shape[2])\n",
    "        # # print(flatten_output.shape)\n",
    "        \n",
    "        # return label_scores\n",
    "        return label_out"
   ]
  },
  {
   "cell_type": "markdown",
   "metadata": {
    "id": "zQ18bw6MnAJM"
   },
   "source": [
    "## Load GPU or CPU"
   ]
  },
  {
   "cell_type": "code",
   "execution_count": 24,
   "metadata": {
    "id": "X-DYdrdWcai0"
   },
   "outputs": [],
   "source": [
    "# calculate the cross entropy loss\n",
    "def loss_fn(output_padded, labels, num_tokens):\n",
    "    \n",
    "    batch_ce_loss = 0.0\n",
    "    \n",
    "    for i in range(output_padded.size(0)):\n",
    "        ce_loss = F.cross_entropy(output_padded[i], labels[i], reduction=\"sum\", ignore_index=-1)\n",
    "        batch_ce_loss += ce_loss\n",
    "    \n",
    "    loss = batch_ce_loss/num_tokens\n",
    "\n",
    "    return loss"
   ]
  },
  {
   "cell_type": "code",
   "execution_count": 25,
   "metadata": {
    "id": "VzDtgYnbl2r9"
   },
   "outputs": [],
   "source": [
    "def get_accuracy_from_scores(label_scores, label):\n",
    "    role_scores = F.log_softmax(label_scores, dim=2)\n",
    "    flatten_scores = role_scores.view(-1, label_scores.shape[2])\n",
    "\n",
    "    flatten_labels = label.view(-1)\n",
    "    mask = (flatten_labels >= 0).float()\n",
    "    total_token = int(torch.sum(mask))\n",
    "\n",
    "    correct_pred = 0\n",
    "    all_preds = torch.tensor([])\n",
    "\n",
    "    for i in range(flatten_labels.shape[0]):\n",
    "        pred = torch.argmax(flatten_scores[i])\n",
    "        \n",
    "        if (flatten_labels[i] >= 0):\n",
    "            pred_dim1 = torch.tensor([pred.item()])\n",
    "            all_preds = torch.cat((all_preds, pred_dim1), dim=0)\n",
    "\n",
    "            if (flatten_labels[i] == pred):\n",
    "                correct_pred += 1\n",
    "\n",
    "    acc = correct_pred / total_token\n",
    "    # print(all_preds.shape, total_token)\n",
    "    return acc, all_preds\n",
    "\n",
    "\n",
    "def get_recep_accuracy(label_scores, label):\n",
    "        \n",
    "    role_scores = F.log_softmax(label_scores, dim=2)\n",
    "    flatten_scores = role_scores.view(-1, label_scores.shape[2])\n",
    "    \n",
    "    flatten_labels = label.view(-1)\n",
    "    mask = (flatten_labels >= 0).float()\n",
    "    total_token = int(torch.sum(mask))\n",
    "    \n",
    "    recep_count = 0\n",
    "    recep_correct_pred = 0\n",
    "    \n",
    "    for i in range(flatten_labels.shape[0]):\n",
    "        pred = torch.argmax(flatten_scores[i])\n",
    "        \n",
    "        if (flatten_labels[i] >= 0):\n",
    "            if (flatten_labels[i] in [3,4]):\n",
    "                recep_count += 1\n",
    "#             if (flatten_labels[i] == pred):\n",
    "                if (pred in [3, 4]):\n",
    "                    recep_correct_pred += 1\n",
    "    \n",
    "    recep_acc = recep_correct_pred / recep_count\n",
    "    \n",
    "    return recep_correct_pred, recep_count"
   ]
  },
  {
   "cell_type": "code",
   "execution_count": 26,
   "metadata": {
    "id": "AcCCvXdh2tgQ"
   },
   "outputs": [],
   "source": [
    "def evaluate(model, dev_loader, loss_fn, device):\n",
    "    model.eval()\n",
    "\n",
    "    mean_acc = 0\n",
    "    count = 0\n",
    "    rec_total = 0\n",
    "    rec_correct = 0\n",
    "    total_loss = 0\n",
    "    \n",
    "    all_preds = torch.tensor([])\n",
    "    \n",
    "    with torch.no_grad():\n",
    "        for batch in dev_loader:\n",
    "            x_padded, labels_padded, x_lens, labels_lens = batch\n",
    "            input = x_padded.to(device)\n",
    "            label = labels_padded.to(device)\n",
    "            input_lens = x_lens\n",
    "            label_lens = labels_lens\n",
    "\n",
    "            label_scores = model(input, input_lens)\n",
    "            batch_loss = loss_fn(label_scores, label, sum(label_lens))\n",
    "            total_loss += batch_loss\n",
    "            \n",
    "            # acc, batch_preds = get_accuracy_from_scores(label_scores, label)\n",
    "            # all_preds = torch.cat((all_preds, batch_preds), dim=0)\n",
    "            # mean_acc += acc\n",
    "            # count += 1\n",
    "            \n",
    "            recep_correct, recep_count = get_recep_accuracy(label_scores, label)\n",
    "            rec_total += recep_count\n",
    "            rec_correct += recep_correct\n",
    "           \n",
    "    \n",
    "    return rec_correct/rec_total, total_loss"
   ]
  },
  {
   "cell_type": "code",
   "execution_count": 27,
   "metadata": {
    "id": "FTZMqNio96x3"
   },
   "outputs": [],
   "source": [
    "def train(model, loss_fn, optimizer, train_loader, dev_loader, max_eps, device):\n",
    "\n",
    "    st = time.time()\n",
    "    \n",
    "    for ep in range(max_eps):\n",
    "        model.train()\n",
    "        for iter, batch in enumerate(train_loader):\n",
    "            optimizer.zero_grad()\n",
    "\n",
    "            x_padded, labels_padded, x_lens, labels_lens = batch\n",
    "            input = x_padded.to(device)\n",
    "            label = labels_padded.to(device)\n",
    "            input_lens = x_lens\n",
    "            label_lens = labels_lens\n",
    "\n",
    "            label_scores = model(input, input_lens)\n",
    "            loss = loss_fn(label_scores, label, sum(label_lens))\n",
    "            \n",
    "            loss.backward()\n",
    "            optimizer.step()\n",
    "            \n",
    "            if iter % 100 == 0:\n",
    "                # acc, all_preds = get_accuracy_from_scores(label_scores, label)\n",
    "                rec_correct, rec_count = get_recep_accuracy(label_scores, label)\n",
    "                rec_acc = rec_correct/rec_count\n",
    "                print(\"Iteration {} of epoch {} complete, Loss: {}; Receptacle Accuracy: {:0.3f}; Time taken (s): {}\"\n",
    "                    .format(iter, ep, loss.item(), rec_acc, (time.time()-st)))\n",
    "                st = time.time()\n",
    "        \n",
    "        dev_rec_acc, dev_loss = evaluate(model, dev_loader, loss_fn, device)\n",
    "        print(\"Epoch {} complete! Development Accuracy - receptacle: {}; Development loss: {}\"\n",
    "              .format(ep, dev_rec_acc, dev_loss))\n",
    "    \n",
    "    return None"
   ]
  },
  {
   "cell_type": "code",
   "execution_count": 28,
   "metadata": {
    "colab": {
     "base_uri": "https://localhost:8080/"
    },
    "id": "XXXAsv2Dxfg-",
    "outputId": "91d859d0-c0a3-4aa4-e739-8c8f27599b63"
   },
   "outputs": [
    {
     "name": "stdout",
     "output_type": "stream",
     "text": [
      "Done creating the entity linker\n"
     ]
    }
   ],
   "source": [
    "# Run the entity linker on GPU / CPU\n",
    "model = EntityLinker(feature_dim = feature_dimension, \n",
    "                     hidden_dim = hidden_dimension, \n",
    "                     roleset_size = roleset_size)\n",
    "model.to(device)\n",
    "optimizer = optim.Adam(model.parameters(), lr = 2e-3)\n",
    "print(\"Done creating the entity linker\")"
   ]
  },
  {
   "cell_type": "code",
   "execution_count": 29,
   "metadata": {
    "colab": {
     "base_uri": "https://localhost:8080/"
    },
    "id": "Ibb3_aoyjFd8",
    "outputId": "bb794646-8a75-44ba-c0a8-30625b96b427"
   },
   "outputs": [
    {
     "ename": "RuntimeError",
     "evalue": "expected scalar type Long but found Int",
     "output_type": "error",
     "traceback": [
      "\u001b[1;31m---------------------------------------------------------------------------\u001b[0m",
      "\u001b[1;31mRuntimeError\u001b[0m                              Traceback (most recent call last)",
      "\u001b[1;32m<ipython-input-29-2830cbba552b>\u001b[0m in \u001b[0;36m<module>\u001b[1;34m\u001b[0m\n\u001b[0;32m      1\u001b[0m \u001b[0mnum_epoch\u001b[0m \u001b[1;33m=\u001b[0m \u001b[1;36m2\u001b[0m\u001b[1;33m\u001b[0m\u001b[1;33m\u001b[0m\u001b[0m\n\u001b[1;32m----> 2\u001b[1;33m \u001b[0mtrain\u001b[0m\u001b[1;33m(\u001b[0m\u001b[0mmodel\u001b[0m\u001b[1;33m,\u001b[0m \u001b[0mloss_fn\u001b[0m\u001b[1;33m,\u001b[0m \u001b[0moptimizer\u001b[0m\u001b[1;33m,\u001b[0m \u001b[0mtrain_loader\u001b[0m\u001b[1;33m,\u001b[0m \u001b[0mdev_loader\u001b[0m\u001b[1;33m,\u001b[0m \u001b[0mnum_epoch\u001b[0m\u001b[1;33m,\u001b[0m \u001b[0mdevice\u001b[0m\u001b[1;33m)\u001b[0m\u001b[1;33m\u001b[0m\u001b[1;33m\u001b[0m\u001b[0m\n\u001b[0m",
      "\u001b[1;32m<ipython-input-27-db873e323d5c>\u001b[0m in \u001b[0;36mtrain\u001b[1;34m(model, loss_fn, optimizer, train_loader, dev_loader, max_eps, device)\u001b[0m\n\u001b[0;32m     15\u001b[0m \u001b[1;33m\u001b[0m\u001b[0m\n\u001b[0;32m     16\u001b[0m             \u001b[0mlabel_scores\u001b[0m \u001b[1;33m=\u001b[0m \u001b[0mmodel\u001b[0m\u001b[1;33m(\u001b[0m\u001b[0minput\u001b[0m\u001b[1;33m,\u001b[0m \u001b[0minput_lens\u001b[0m\u001b[1;33m)\u001b[0m\u001b[1;33m\u001b[0m\u001b[1;33m\u001b[0m\u001b[0m\n\u001b[1;32m---> 17\u001b[1;33m             \u001b[0mloss\u001b[0m \u001b[1;33m=\u001b[0m \u001b[0mloss_fn\u001b[0m\u001b[1;33m(\u001b[0m\u001b[0mlabel_scores\u001b[0m\u001b[1;33m,\u001b[0m \u001b[0mlabel\u001b[0m\u001b[1;33m,\u001b[0m \u001b[0msum\u001b[0m\u001b[1;33m(\u001b[0m\u001b[0mlabel_lens\u001b[0m\u001b[1;33m)\u001b[0m\u001b[1;33m)\u001b[0m\u001b[1;33m\u001b[0m\u001b[1;33m\u001b[0m\u001b[0m\n\u001b[0m\u001b[0;32m     18\u001b[0m \u001b[1;33m\u001b[0m\u001b[0m\n\u001b[0;32m     19\u001b[0m             \u001b[0mloss\u001b[0m\u001b[1;33m.\u001b[0m\u001b[0mbackward\u001b[0m\u001b[1;33m(\u001b[0m\u001b[1;33m)\u001b[0m\u001b[1;33m\u001b[0m\u001b[1;33m\u001b[0m\u001b[0m\n",
      "\u001b[1;32m<ipython-input-24-2413c6e55fb5>\u001b[0m in \u001b[0;36mloss_fn\u001b[1;34m(output_padded, labels, num_tokens)\u001b[0m\n\u001b[0;32m      5\u001b[0m \u001b[1;33m\u001b[0m\u001b[0m\n\u001b[0;32m      6\u001b[0m     \u001b[1;32mfor\u001b[0m \u001b[0mi\u001b[0m \u001b[1;32min\u001b[0m \u001b[0mrange\u001b[0m\u001b[1;33m(\u001b[0m\u001b[0moutput_padded\u001b[0m\u001b[1;33m.\u001b[0m\u001b[0msize\u001b[0m\u001b[1;33m(\u001b[0m\u001b[1;36m0\u001b[0m\u001b[1;33m)\u001b[0m\u001b[1;33m)\u001b[0m\u001b[1;33m:\u001b[0m\u001b[1;33m\u001b[0m\u001b[1;33m\u001b[0m\u001b[0m\n\u001b[1;32m----> 7\u001b[1;33m         \u001b[0mce_loss\u001b[0m \u001b[1;33m=\u001b[0m \u001b[0mF\u001b[0m\u001b[1;33m.\u001b[0m\u001b[0mcross_entropy\u001b[0m\u001b[1;33m(\u001b[0m\u001b[0moutput_padded\u001b[0m\u001b[1;33m[\u001b[0m\u001b[0mi\u001b[0m\u001b[1;33m]\u001b[0m\u001b[1;33m,\u001b[0m \u001b[0mlabels\u001b[0m\u001b[1;33m[\u001b[0m\u001b[0mi\u001b[0m\u001b[1;33m]\u001b[0m\u001b[1;33m,\u001b[0m \u001b[0mreduction\u001b[0m\u001b[1;33m=\u001b[0m\u001b[1;34m\"sum\"\u001b[0m\u001b[1;33m,\u001b[0m \u001b[0mignore_index\u001b[0m\u001b[1;33m=\u001b[0m\u001b[1;33m-\u001b[0m\u001b[1;36m1\u001b[0m\u001b[1;33m)\u001b[0m\u001b[1;33m\u001b[0m\u001b[1;33m\u001b[0m\u001b[0m\n\u001b[0m\u001b[0;32m      8\u001b[0m         \u001b[0mbatch_ce_loss\u001b[0m \u001b[1;33m+=\u001b[0m \u001b[0mce_loss\u001b[0m\u001b[1;33m\u001b[0m\u001b[1;33m\u001b[0m\u001b[0m\n\u001b[0;32m      9\u001b[0m \u001b[1;33m\u001b[0m\u001b[0m\n",
      "\u001b[1;32m~\\miniconda3\\envs\\spacy\\lib\\site-packages\\torch\\nn\\functional.py\u001b[0m in \u001b[0;36mcross_entropy\u001b[1;34m(input, target, weight, size_average, ignore_index, reduce, reduction)\u001b[0m\n\u001b[0;32m   2822\u001b[0m     \u001b[1;32mif\u001b[0m \u001b[0msize_average\u001b[0m \u001b[1;32mis\u001b[0m \u001b[1;32mnot\u001b[0m \u001b[1;32mNone\u001b[0m \u001b[1;32mor\u001b[0m \u001b[0mreduce\u001b[0m \u001b[1;32mis\u001b[0m \u001b[1;32mnot\u001b[0m \u001b[1;32mNone\u001b[0m\u001b[1;33m:\u001b[0m\u001b[1;33m\u001b[0m\u001b[1;33m\u001b[0m\u001b[0m\n\u001b[0;32m   2823\u001b[0m         \u001b[0mreduction\u001b[0m \u001b[1;33m=\u001b[0m \u001b[0m_Reduction\u001b[0m\u001b[1;33m.\u001b[0m\u001b[0mlegacy_get_string\u001b[0m\u001b[1;33m(\u001b[0m\u001b[0msize_average\u001b[0m\u001b[1;33m,\u001b[0m \u001b[0mreduce\u001b[0m\u001b[1;33m)\u001b[0m\u001b[1;33m\u001b[0m\u001b[1;33m\u001b[0m\u001b[0m\n\u001b[1;32m-> 2824\u001b[1;33m     \u001b[1;32mreturn\u001b[0m \u001b[0mtorch\u001b[0m\u001b[1;33m.\u001b[0m\u001b[0m_C\u001b[0m\u001b[1;33m.\u001b[0m\u001b[0m_nn\u001b[0m\u001b[1;33m.\u001b[0m\u001b[0mcross_entropy_loss\u001b[0m\u001b[1;33m(\u001b[0m\u001b[0minput\u001b[0m\u001b[1;33m,\u001b[0m \u001b[0mtarget\u001b[0m\u001b[1;33m,\u001b[0m \u001b[0mweight\u001b[0m\u001b[1;33m,\u001b[0m \u001b[0m_Reduction\u001b[0m\u001b[1;33m.\u001b[0m\u001b[0mget_enum\u001b[0m\u001b[1;33m(\u001b[0m\u001b[0mreduction\u001b[0m\u001b[1;33m)\u001b[0m\u001b[1;33m,\u001b[0m \u001b[0mignore_index\u001b[0m\u001b[1;33m)\u001b[0m\u001b[1;33m\u001b[0m\u001b[1;33m\u001b[0m\u001b[0m\n\u001b[0m\u001b[0;32m   2825\u001b[0m \u001b[1;33m\u001b[0m\u001b[0m\n\u001b[0;32m   2826\u001b[0m \u001b[1;33m\u001b[0m\u001b[0m\n",
      "\u001b[1;31mRuntimeError\u001b[0m: expected scalar type Long but found Int"
     ]
    }
   ],
   "source": [
    "num_epoch = 2\n",
    "train(model, loss_fn, optimizer, train_loader, dev_loader, num_epoch, device)"
   ]
  },
  {
   "cell_type": "markdown",
   "metadata": {
    "id": "p8_AT7B9j4h5"
   },
   "source": [
    "## Performance on test set"
   ]
  },
  {
   "cell_type": "code",
   "execution_count": null,
   "metadata": {
    "id": "P2ZfNqLMatgQ"
   },
   "outputs": [],
   "source": [
    "def get_dataset_labels(test_loader):\n",
    "    all_labels = torch.tensor([])\n",
    "    \n",
    "    for batch in test_loader:\n",
    "        x_padded, labels_padded, x_lens, labels_lens = batch\n",
    "        flatten_labels = labels_padded.view(-1)\n",
    "        mask = (flatten_labels >= 0).float()\n",
    "        total_token = int(torch.sum(mask))\n",
    "\n",
    "        for i in range(flatten_labels.shape[0]):\n",
    "            if (flatten_labels[i] >= 0):\n",
    "                label_dim1 = torch.tensor([flatten_labels[i].item()])\n",
    "                all_labels = torch.cat((all_labels, label_dim1), dim=0)\n",
    "    \n",
    "    # print(all_labels.shape)\n",
    "    return all_labels\n"
   ]
  },
  {
   "cell_type": "code",
   "execution_count": null,
   "metadata": {
    "id": "5K-VD0IscWWt"
   },
   "outputs": [],
   "source": [
    "import matplotlib.pyplot as plt\n",
    "import itertools\n",
    "from sklearn.metrics import confusion_matrix, classification_report, precision_score, recall_score, f1_score\n",
    "\n",
    "def plot_confusion_matrix(cm, classes, normalize=False, \n",
    "                          title = \"Confusion Matrix\", cmap=plt.cm.Blues):\n",
    "    if normalize:\n",
    "        cm = cm.astype('float') / cm.sum(axis=1)[:, np.newaxis]\n",
    "        print(\"Normalized confusion matrix\")\n",
    "    else:\n",
    "        print('Confusion matrix, without normalization')\n",
    "    \n",
    "    plt.figure(figsize=(8,8))\n",
    "    plt.imshow(cm, interpolation='nearest', cmap=cmap)\n",
    "    plt.title(title)\n",
    "    plt.colorbar()\n",
    "    tick_marks = np.arange(len(classes))\n",
    "    plt.xticks(tick_marks, classes, rotation=45)\n",
    "    plt.yticks(tick_marks, classes)\n",
    "\n",
    "    fmt = '.2f' if normalize else 'd'\n",
    "    thresh = cm.max() / 2.\n",
    "    for i, j in itertools.product(range(cm.shape[0]), range(cm.shape[1])):\n",
    "        plt.text(j, i, format(cm[i, j], fmt), horizontalalignment=\"center\", color=\"white\" if cm[i, j] > thresh else \"black\")\n",
    "\n",
    "    accuracy = np.trace(cm) / float(np.sum(cm))\n",
    "\n",
    "    plt.tight_layout()\n",
    "    plt.ylabel('True label')\n",
    "    plt.xlabel('Predicted label\\naccuracy={:0.4f}'.format(accuracy))\n"
   ]
  },
  {
   "cell_type": "code",
   "execution_count": null,
   "metadata": {
    "colab": {
     "base_uri": "https://localhost:8080/"
    },
    "id": "AEtxW055PsDA",
    "outputId": "f8a3d4ae-d334-460d-878b-d8128d8c020e"
   },
   "outputs": [
    {
     "name": "stdout",
     "output_type": "stream",
     "text": [
      "test accuracy:  0.9738909210321685\n"
     ]
    }
   ],
   "source": [
    "# accuracy on test dataset\n",
    "\n",
    "test_acc, test_rec_acc, test_loss = evaluate(model, test_loader, loss_fn, device)\n",
    "print(\"test accuracy: \", test_acc)"
   ]
  },
  {
   "cell_type": "code",
   "execution_count": null,
   "metadata": {
    "colab": {
     "base_uri": "https://localhost:8080/",
     "height": 676
    },
    "id": "NWPMhVJim9wc",
    "outputId": "3d6dd46a-cf93-4cb2-dd3d-d00fbe3b1b0f"
   },
   "outputs": [
    {
     "name": "stdout",
     "output_type": "stream",
     "text": [
      "[[134022    457     43    777    174]\n",
      " [   373   4262     19     22      0]\n",
      " [   111     33   1269      0      6]\n",
      " [  1323     36      0   1274      2]\n",
      " [   289      0     43     12    239]]\n",
      "Confusion matrix, without normalization\n"
     ]
    },
    {
     "data": {
      "image/png": "[encoded data removed]",
      "text/plain": [
       "<Figure size 576x576 with 2 Axes>"
      ]
     },
     "metadata": {
      "needs_background": "light"
     },
     "output_type": "display_data"
    }
   ],
   "source": [
    "# test_labels shape: total number of tokens in the dataloader\n",
    "test_labels = get_dataset_labels(test_loader)\n",
    "\n",
    "cm = confusion_matrix(test_labels, test_preds)\n",
    "print(cm)\n",
    "\n",
    "classes_name = list(role_to_idx)\n",
    "plot_confusion_matrix(cm, classes_name)"
   ]
  },
  {
   "cell_type": "code",
   "execution_count": null,
   "metadata": {
    "colab": {
     "base_uri": "https://localhost:8080/"
    },
    "id": "8LpSL5AqHgET",
    "outputId": "6f3ac5d1-db96-44a9-90b3-bfd34b8489db"
   },
   "outputs": [
    {
     "name": "stdout",
     "output_type": "stream",
     "text": [
      "              precision    recall  f1-score   support\n",
      "\n",
      "           O       0.98      0.99      0.99    135473\n",
      "    B-TARGET       0.89      0.91      0.90      4676\n",
      "    I-TARGET       0.92      0.89      0.91      1419\n",
      "B-RECEPTACLE       0.61      0.48      0.54      2635\n",
      "I-RECEPTACLE       0.57      0.41      0.48       583\n",
      "\n",
      "    accuracy                           0.97    144786\n",
      "   macro avg       0.80      0.74      0.76    144786\n",
      "weighted avg       0.97      0.97      0.97    144786\n",
      "\n"
     ]
    }
   ],
   "source": [
    "print(classification_report(test_labels, test_preds, target_names=classes_name))"
   ]
  },
  {
   "cell_type": "markdown",
   "metadata": {
    "id": "oU6gce9Ir-ST"
   },
   "source": [
    "## Evaluate the impact of dependency relation feature on the performance"
   ]
  },
  {
   "cell_type": "code",
   "execution_count": null,
   "metadata": {
    "colab": {
     "base_uri": "https://localhost:8080/"
    },
    "id": "m58pOA_TsLp8",
    "outputId": "d55d0627-dcfe-4721-a94a-692844a587ec"
   },
   "outputs": [
    {
     "name": "stdout",
     "output_type": "stream",
     "text": [
      "Done loading datasets with 300d features.\n"
     ]
    }
   ],
   "source": [
    "# create the dataset for training, validation and testing\n",
    "train_set_300d = ELDataset(nlp_model = nlp, sentence_file = TRAIN_SENTENCES_FILE_PATH, \n",
    "                      dep_file = TRAIN_DEP_FILE_PATH, \n",
    "                      label_file = TRAIN_LABELS_FILE_PATH,\n",
    "                      dep_feature = False)\n",
    "\n",
    "dev_set_300d = ELDataset(nlp_model = nlp, sentence_file = DEV_SENTENCES_FILE_PATH, \n",
    "                    dep_file = DEV_DEP_FILE_PATH, \n",
    "                    label_file = DEV_LABELS_FILE_PATH, dep_feature = False)\n",
    "\n",
    "test_set_300d = ELDataset(nlp_model = nlp, sentence_file = TEST_SENTENCES_FILE_PATH, \n",
    "                     dep_file = TEST_DEP_FILE_PATH, \n",
    "                     label_file = TEST_LABELS_FILE_PATH, dep_feature = False)\n",
    "\n",
    "# Load the dataset\n",
    "train_loader_300d = DataLoader(train_set_300d, batch_size = batchsize_global, \n",
    "                          shuffle=False, pin_memory=True, \n",
    "                          collate_fn = pad_collate)\n",
    "\n",
    "dev_loader_300d = DataLoader(dev_set_300d, batch_size = batchsize_global, \n",
    "                        shuffle=False, pin_memory=True, \n",
    "                        collate_fn = pad_collate)\n",
    "\n",
    "test_loader_300d = DataLoader(test_set_300d, batch_size = batchsize_global, \n",
    "                         shuffle=False, pin_memory=True, \n",
    "                         collate_fn = pad_collate)\n",
    "\n",
    "print(\"Done loading datasets with 300d features.\")"
   ]
  },
  {
   "cell_type": "code",
   "execution_count": null,
   "metadata": {
    "colab": {
     "base_uri": "https://localhost:8080/"
    },
    "id": "pv1FgoEMtjBN",
    "outputId": "5923a191-a3dc-4906-9ac7-505fb0e1bbfa"
   },
   "outputs": [
    {
     "name": "stdout",
     "output_type": "stream",
     "text": [
      "torch.Size([300])\n"
     ]
    }
   ],
   "source": [
    "print(train_set_300d[0][0][0].shape)"
   ]
  },
  {
   "cell_type": "code",
   "execution_count": null,
   "metadata": {
    "colab": {
     "base_uri": "https://localhost:8080/"
    },
    "id": "wR-0BR1LtBfJ",
    "outputId": "f4ae3131-f65d-4553-be1d-3900acda6d0c"
   },
   "outputs": [
    {
     "name": "stdout",
     "output_type": "stream",
     "text": [
      "Done creating the entity linker with 300d features\n"
     ]
    }
   ],
   "source": [
    "# Run the entity linker on GPU / CPU\n",
    "model_300d = EntityLinker(feature_dim = embedding_dim, \n",
    "                     hidden_dim = hidden_dimension, \n",
    "                     roleset_size = roleset_size)\n",
    "model_300d.to(device)\n",
    "print(\"Done creating the entity linker with 300d features\")"
   ]
  },
  {
   "cell_type": "code",
   "execution_count": null,
   "metadata": {
    "colab": {
     "base_uri": "https://localhost:8080/"
    },
    "id": "ZhL41IxptMFF",
    "outputId": "d88dc1a1-bdcc-4d19-a668-929ce1fc5423"
   },
   "outputs": [
    {
     "name": "stdout",
     "output_type": "stream",
     "text": [
      "Iteration 0 of epoch 0 complete, Loss: 1.5799864530563354; Accuracy: 0.22093023255813954; Time taken (s): 0.03461432456970215\n",
      "Iteration 100 of epoch 0 complete, Loss: 0.42173075675964355; Accuracy: 0.9073170731707317; Time taken (s): 2.8577980995178223\n",
      "Iteration 200 of epoch 0 complete, Loss: 0.26887989044189453; Accuracy: 0.9442231075697212; Time taken (s): 2.80466628074646\n",
      "Iteration 300 of epoch 0 complete, Loss: 0.11236396431922913; Accuracy: 0.9636363636363636; Time taken (s): 2.9683265686035156\n",
      "Iteration 400 of epoch 0 complete, Loss: 0.10703779757022858; Accuracy: 0.9678111587982833; Time taken (s): 2.817996025085449\n",
      "Iteration 500 of epoch 0 complete, Loss: 0.08652655780315399; Accuracy: 0.9816272965879265; Time taken (s): 3.012637138366699\n",
      "Iteration 600 of epoch 0 complete, Loss: 0.14153499901294708; Accuracy: 0.9540540540540541; Time taken (s): 2.984499454498291\n",
      "Iteration 700 of epoch 0 complete, Loss: 0.04853988066315651; Accuracy: 0.984984984984985; Time taken (s): 2.9399609565734863\n",
      "Iteration 800 of epoch 0 complete, Loss: 0.06050984561443329; Accuracy: 0.9793388429752066; Time taken (s): 2.543680191040039\n",
      "Iteration 900 of epoch 0 complete, Loss: 0.055499013513326645; Accuracy: 0.9804964539007093; Time taken (s): 3.0162954330444336\n",
      "Iteration 1000 of epoch 0 complete, Loss: 0.05142727494239807; Accuracy: 0.9823008849557522; Time taken (s): 2.8182995319366455\n",
      "Iteration 1100 of epoch 0 complete, Loss: 0.07470446825027466; Accuracy: 0.9789915966386554; Time taken (s): 3.2469687461853027\n",
      "Iteration 1200 of epoch 0 complete, Loss: 0.05907238647341728; Accuracy: 0.9837837837837838; Time taken (s): 3.0379393100738525\n",
      "Iteration 1300 of epoch 0 complete, Loss: 0.08160754293203354; Accuracy: 0.9717223650385605; Time taken (s): 3.0608887672424316\n",
      "Iteration 1400 of epoch 0 complete, Loss: 0.14631575345993042; Accuracy: 0.9466019417475728; Time taken (s): 2.943392038345337\n",
      "Iteration 1500 of epoch 0 complete, Loss: 0.06283163279294968; Accuracy: 0.9868421052631579; Time taken (s): 3.1264259815216064\n",
      "Epoch 0 complete! Development Accuracy: 0.969007157241866;\n",
      "Iteration 0 of epoch 1 complete, Loss: 0.050776708871126175; Accuracy: 0.9825581395348837; Time taken (s): 14.724274158477783\n",
      "Iteration 100 of epoch 1 complete, Loss: 0.056500084698200226; Accuracy: 0.9804878048780488; Time taken (s): 2.951401710510254\n",
      "Iteration 200 of epoch 1 complete, Loss: 0.09032346308231354; Accuracy: 0.9800796812749004; Time taken (s): 3.0784311294555664\n",
      "Iteration 300 of epoch 1 complete, Loss: 0.05328463390469551; Accuracy: 0.9818181818181818; Time taken (s): 2.816901922225952\n",
      "Iteration 400 of epoch 1 complete, Loss: 0.0790315642952919; Accuracy: 0.9763948497854077; Time taken (s): 2.7813379764556885\n",
      "Iteration 500 of epoch 1 complete, Loss: 0.042601194232702255; Accuracy: 0.984251968503937; Time taken (s): 2.7811524868011475\n",
      "Iteration 600 of epoch 1 complete, Loss: 0.14154237508773804; Accuracy: 0.9513513513513514; Time taken (s): 2.9432501792907715\n",
      "Iteration 700 of epoch 1 complete, Loss: 0.028419451788067818; Accuracy: 0.987987987987988; Time taken (s): 2.858677625656128\n",
      "Iteration 800 of epoch 1 complete, Loss: 0.03582452982664108; Accuracy: 0.987603305785124; Time taken (s): 2.6513524055480957\n",
      "Iteration 900 of epoch 1 complete, Loss: 0.042129192501306534; Accuracy: 0.9804964539007093; Time taken (s): 3.0691163539886475\n",
      "Iteration 1000 of epoch 1 complete, Loss: 0.042233653366565704; Accuracy: 0.9867256637168141; Time taken (s): 3.13181734085083\n",
      "Iteration 1100 of epoch 1 complete, Loss: 0.07420499622821808; Accuracy: 0.9663865546218487; Time taken (s): 3.0216405391693115\n",
      "Iteration 1200 of epoch 1 complete, Loss: 0.047536689788103104; Accuracy: 0.9855855855855856; Time taken (s): 2.9775588512420654\n",
      "Iteration 1300 of epoch 1 complete, Loss: 0.09748569875955582; Accuracy: 0.9588688946015425; Time taken (s): 2.8717310428619385\n",
      "Iteration 1400 of epoch 1 complete, Loss: 0.16913175582885742; Accuracy: 0.9490291262135923; Time taken (s): 3.034475326538086\n",
      "Iteration 1500 of epoch 1 complete, Loss: 0.057097505778074265; Accuracy: 0.9912280701754386; Time taken (s): 3.0675268173217773\n",
      "Epoch 1 complete! Development Accuracy: 0.9712395639932185;\n"
     ]
    }
   ],
   "source": [
    "num_epoch = 2\n",
    "optimizer = optim.Adam(model_300d.parameters(), lr = 2e-3)\n",
    "train(model_300d, loss_fn, optimizer, train_loader_300d, dev_loader_300d, num_epoch, device)"
   ]
  },
  {
   "cell_type": "code",
   "execution_count": null,
   "metadata": {
    "colab": {
     "base_uri": "https://localhost:8080/"
    },
    "id": "CfD-EoGTzW9Y",
    "outputId": "311aa678-bcce-4572-e47d-2b0a0df57a56"
   },
   "outputs": [
    {
     "name": "stdout",
     "output_type": "stream",
     "text": [
      "test accuracy:  0.9748135138218968\n"
     ]
    }
   ],
   "source": [
    "# accuracy on test dataset\n",
    "\n",
    "test_acc_300d, test_preds_300d = evaluate(model_300d, test_loader_300d, device)\n",
    "print(\"test accuracy: \", test_acc_300d)"
   ]
  },
  {
   "cell_type": "markdown",
   "metadata": {
    "id": "L_9AQfOK0Qjv"
   },
   "source": [
    "## Hidden dimension size"
   ]
  },
  {
   "cell_type": "code",
   "execution_count": null,
   "metadata": {
    "id": "arW5nXAM7vPy"
   },
   "outputs": [],
   "source": []
  },
  {
   "cell_type": "code",
   "execution_count": null,
   "metadata": {
    "colab": {
     "base_uri": "https://localhost:8080/"
    },
    "id": "8WilPMDU0Psg",
    "outputId": "05ac0a10-c209-4c25-a9b2-8015d7b65f47"
   },
   "outputs": [
    {
     "name": "stdout",
     "output_type": "stream",
     "text": [
      "model with 20 hidden dimensions.\n",
      "Iteration 0 of epoch 0 complete, Loss: 1.5782471895217896; Accuracy: 0.22674418604651161; Time taken (s): 0.02499532699584961\n",
      "Iteration 100 of epoch 0 complete, Loss: 0.35211381316185; Accuracy: 0.9073170731707317; Time taken (s): 2.8885514736175537\n",
      "Iteration 200 of epoch 0 complete, Loss: 0.2521200180053711; Accuracy: 0.9442231075697212; Time taken (s): 3.2713682651519775\n",
      "Iteration 300 of epoch 0 complete, Loss: 0.12472961097955704; Accuracy: 0.9563636363636364; Time taken (s): 3.04280686378479\n",
      "Iteration 400 of epoch 0 complete, Loss: 0.10204175114631653; Accuracy: 0.9699570815450643; Time taken (s): 2.8509843349456787\n",
      "Iteration 500 of epoch 0 complete, Loss: 0.11769593507051468; Accuracy: 0.9658792650918635; Time taken (s): 2.907857894897461\n",
      "Iteration 600 of epoch 0 complete, Loss: 0.14603404700756073; Accuracy: 0.9459459459459459; Time taken (s): 3.0534732341766357\n",
      "Iteration 700 of epoch 0 complete, Loss: 0.0749431699514389; Accuracy: 0.978978978978979; Time taken (s): 3.1474971771240234\n",
      "Iteration 800 of epoch 0 complete, Loss: 0.08590637892484665; Accuracy: 0.9793388429752066; Time taken (s): 2.89111590385437\n",
      "Iteration 900 of epoch 0 complete, Loss: 0.0679253414273262; Accuracy: 0.9556737588652482; Time taken (s): 3.059408664703369\n",
      "Iteration 1000 of epoch 0 complete, Loss: 0.058278344571590424; Accuracy: 0.9778761061946902; Time taken (s): 3.168692111968994\n",
      "Iteration 1100 of epoch 0 complete, Loss: 0.09015509486198425; Accuracy: 0.9705882352941176; Time taken (s): 3.114021062850952\n",
      "Iteration 1200 of epoch 0 complete, Loss: 0.08264490216970444; Accuracy: 0.9801801801801802; Time taken (s): 2.9869906902313232\n",
      "Iteration 1300 of epoch 0 complete, Loss: 0.08428029716014862; Accuracy: 0.9794344473007712; Time taken (s): 2.999898672103882\n",
      "Iteration 1400 of epoch 0 complete, Loss: 0.1752336621284485; Accuracy: 0.9320388349514563; Time taken (s): 2.967728853225708\n",
      "Iteration 1500 of epoch 0 complete, Loss: 0.08873264491558075; Accuracy: 0.9780701754385965; Time taken (s): 3.1054413318634033\n",
      "Epoch 0 complete! Development Accuracy: 0.9631618131643789;\n",
      "test accuracy:  0.9664359164687955\n",
      "model with 30 hidden dimensions.\n",
      "Iteration 0 of epoch 0 complete, Loss: 1.7293729782104492; Accuracy: 0.0; Time taken (s): 0.021946430206298828\n",
      "Iteration 100 of epoch 0 complete, Loss: 0.3712216913700104; Accuracy: 0.9073170731707317; Time taken (s): 3.1503684520721436\n",
      "Iteration 200 of epoch 0 complete, Loss: 0.27299875020980835; Accuracy: 0.9442231075697212; Time taken (s): 3.187081813812256\n",
      "Iteration 300 of epoch 0 complete, Loss: 0.1307331919670105; Accuracy: 0.9563636363636364; Time taken (s): 3.031489849090576\n",
      "Iteration 400 of epoch 0 complete, Loss: 0.10821381211280823; Accuracy: 0.9785407725321889; Time taken (s): 3.144362688064575\n",
      "Iteration 500 of epoch 0 complete, Loss: 0.09654495865106583; Accuracy: 0.973753280839895; Time taken (s): 3.089120626449585\n",
      "Iteration 600 of epoch 0 complete, Loss: 0.16477666795253754; Accuracy: 0.9486486486486486; Time taken (s): 3.2880477905273438\n",
      "Iteration 700 of epoch 0 complete, Loss: 0.04885401576757431; Accuracy: 0.987987987987988; Time taken (s): 3.2542946338653564\n",
      "Iteration 800 of epoch 0 complete, Loss: 0.081403449177742; Accuracy: 0.9752066115702479; Time taken (s): 3.008188247680664\n",
      "Iteration 900 of epoch 0 complete, Loss: 0.05553540587425232; Accuracy: 0.9787234042553191; Time taken (s): 3.2717714309692383\n",
      "Iteration 1000 of epoch 0 complete, Loss: 0.057425469160079956; Accuracy: 0.9778761061946902; Time taken (s): 3.4588265419006348\n",
      "Iteration 1100 of epoch 0 complete, Loss: 0.07394896447658539; Accuracy: 0.9747899159663865; Time taken (s): 3.391392230987549\n",
      "Iteration 1200 of epoch 0 complete, Loss: 0.06866684556007385; Accuracy: 0.9837837837837838; Time taken (s): 3.4379820823669434\n",
      "Iteration 1300 of epoch 0 complete, Loss: 0.09043562412261963; Accuracy: 0.9717223650385605; Time taken (s): 3.2902257442474365\n",
      "Iteration 1400 of epoch 0 complete, Loss: 0.18052057921886444; Accuracy: 0.9344660194174758; Time taken (s): 3.08831524848938\n",
      "Iteration 1500 of epoch 0 complete, Loss: 0.07500161975622177; Accuracy: 0.9912280701754386; Time taken (s): 3.351245880126953\n",
      "Epoch 0 complete! Development Accuracy: 0.9685486170674733;\n",
      "test accuracy:  0.9740832859909001\n",
      "model with 40 hidden dimensions.\n",
      "Iteration 0 of epoch 0 complete, Loss: 1.8108934164047241; Accuracy: 0.011627906976744186; Time taken (s): 0.02214217185974121\n",
      "Iteration 100 of epoch 0 complete, Loss: 0.38034388422966003; Accuracy: 0.9073170731707317; Time taken (s): 3.4970314502716064\n",
      "Iteration 200 of epoch 0 complete, Loss: 0.25083714723587036; Accuracy: 0.9442231075697212; Time taken (s): 3.5898754596710205\n",
      "Iteration 300 of epoch 0 complete, Loss: 0.11523865163326263; Accuracy: 0.9563636363636364; Time taken (s): 3.7465507984161377\n",
      "Iteration 400 of epoch 0 complete, Loss: 0.10338318347930908; Accuracy: 0.9763948497854077; Time taken (s): 3.5895884037017822\n",
      "Iteration 500 of epoch 0 complete, Loss: 0.08630087971687317; Accuracy: 0.973753280839895; Time taken (s): 3.6398098468780518\n",
      "Iteration 600 of epoch 0 complete, Loss: 0.14445169270038605; Accuracy: 0.9540540540540541; Time taken (s): 3.7705914974212646\n",
      "Iteration 700 of epoch 0 complete, Loss: 0.053988803178071976; Accuracy: 0.9819819819819819; Time taken (s): 3.526181221008301\n",
      "Iteration 800 of epoch 0 complete, Loss: 0.07766823470592499; Accuracy: 0.9710743801652892; Time taken (s): 3.3276500701904297\n",
      "Iteration 900 of epoch 0 complete, Loss: 0.06692732870578766; Accuracy: 0.9680851063829787; Time taken (s): 3.5855705738067627\n",
      "Iteration 1000 of epoch 0 complete, Loss: 0.0612330362200737; Accuracy: 0.9734513274336283; Time taken (s): 3.5012896060943604\n",
      "Iteration 1100 of epoch 0 complete, Loss: 0.07086862623691559; Accuracy: 0.9789915966386554; Time taken (s): 3.883989095687866\n",
      "Iteration 1200 of epoch 0 complete, Loss: 0.0675673633813858; Accuracy: 0.9855855855855856; Time taken (s): 3.8786189556121826\n",
      "Iteration 1300 of epoch 0 complete, Loss: 0.06604111194610596; Accuracy: 0.974293059125964; Time taken (s): 3.4736487865448\n",
      "Iteration 1400 of epoch 0 complete, Loss: 0.18062208592891693; Accuracy: 0.9393203883495146; Time taken (s): 3.6861658096313477\n",
      "Iteration 1500 of epoch 0 complete, Loss: 0.06785998493432999; Accuracy: 0.9912280701754386; Time taken (s): 3.964134931564331\n",
      "Epoch 0 complete! Development Accuracy: 0.9679789461730643;\n",
      "test accuracy:  0.9730365826669626\n",
      "model with 50 hidden dimensions.\n",
      "Iteration 0 of epoch 0 complete, Loss: 1.64989173412323; Accuracy: 0.011627906976744186; Time taken (s): 0.02324509620666504\n",
      "Iteration 100 of epoch 0 complete, Loss: 0.35231393575668335; Accuracy: 0.9073170731707317; Time taken (s): 4.081257581710815\n",
      "Iteration 200 of epoch 0 complete, Loss: 0.25157681107521057; Accuracy: 0.9442231075697212; Time taken (s): 3.8844799995422363\n",
      "Iteration 300 of epoch 0 complete, Loss: 0.1039491519331932; Accuracy: 0.9636363636363636; Time taken (s): 3.899747371673584\n",
      "Iteration 400 of epoch 0 complete, Loss: 0.1125682145357132; Accuracy: 0.9763948497854077; Time taken (s): 3.780433416366577\n",
      "Iteration 500 of epoch 0 complete, Loss: 0.08527626842260361; Accuracy: 0.979002624671916; Time taken (s): 3.6600406169891357\n",
      "Iteration 600 of epoch 0 complete, Loss: 0.13829834759235382; Accuracy: 0.9621621621621622; Time taken (s): 4.212190628051758\n",
      "Iteration 700 of epoch 0 complete, Loss: 0.05609524995088577; Accuracy: 0.978978978978979; Time taken (s): 4.0344743728637695\n",
      "Iteration 800 of epoch 0 complete, Loss: 0.060564231127500534; Accuracy: 0.9793388429752066; Time taken (s): 3.601621389389038\n",
      "Iteration 900 of epoch 0 complete, Loss: 0.06383048743009567; Accuracy: 0.9663120567375887; Time taken (s): 4.211675405502319\n",
      "Iteration 1000 of epoch 0 complete, Loss: 0.06105676665902138; Accuracy: 0.9734513274336283; Time taken (s): 3.8924624919891357\n",
      "Iteration 1100 of epoch 0 complete, Loss: 0.08595362305641174; Accuracy: 0.9621848739495799; Time taken (s): 4.186758279800415\n",
      "Iteration 1200 of epoch 0 complete, Loss: 0.06606455892324448; Accuracy: 0.9855855855855856; Time taken (s): 4.156815528869629\n",
      "Iteration 1300 of epoch 0 complete, Loss: 0.09607817232608795; Accuracy: 0.9588688946015425; Time taken (s): 3.8957951068878174\n",
      "Iteration 1400 of epoch 0 complete, Loss: 0.1744137704372406; Accuracy: 0.9393203883495146; Time taken (s): 3.864546060562134\n",
      "Iteration 1500 of epoch 0 complete, Loss: 0.06986778974533081; Accuracy: 0.9912280701754386; Time taken (s): 4.420255184173584\n",
      "Epoch 0 complete! Development Accuracy: 0.9689055337202984;\n",
      "test accuracy:  0.9740884842291962\n",
      "model with 60 hidden dimensions.\n",
      "Iteration 0 of epoch 0 complete, Loss: 1.5880614519119263; Accuracy: 0.046511627906976744; Time taken (s): 0.02478337287902832\n",
      "Iteration 100 of epoch 0 complete, Loss: 0.33937352895736694; Accuracy: 0.9073170731707317; Time taken (s): 4.232833623886108\n",
      "Iteration 200 of epoch 0 complete, Loss: 0.2408609241247177; Accuracy: 0.9442231075697212; Time taken (s): 4.239705324172974\n",
      "Iteration 300 of epoch 0 complete, Loss: 0.10032560676336288; Accuracy: 0.9709090909090909; Time taken (s): 4.246275186538696\n",
      "Iteration 400 of epoch 0 complete, Loss: 0.09802348911762238; Accuracy: 0.9742489270386266; Time taken (s): 4.030253171920776\n",
      "Iteration 500 of epoch 0 complete, Loss: 0.07230610400438309; Accuracy: 0.984251968503937; Time taken (s): 4.093313932418823\n",
      "Iteration 600 of epoch 0 complete, Loss: 0.118287593126297; Accuracy: 0.9567567567567568; Time taken (s): 4.384876489639282\n",
      "Iteration 700 of epoch 0 complete, Loss: 0.03667575493454933; Accuracy: 0.990990990990991; Time taken (s): 4.31245493888855\n",
      "Iteration 800 of epoch 0 complete, Loss: 0.05196433514356613; Accuracy: 0.987603305785124; Time taken (s): 3.8777048587799072\n",
      "Iteration 900 of epoch 0 complete, Loss: 0.05335039272904396; Accuracy: 0.9698581560283688; Time taken (s): 4.605378866195679\n",
      "Iteration 1000 of epoch 0 complete, Loss: 0.0456271767616272; Accuracy: 0.9867256637168141; Time taken (s): 4.21912407875061\n",
      "Iteration 1100 of epoch 0 complete, Loss: 0.07492678612470627; Accuracy: 0.9747899159663865; Time taken (s): 4.4711737632751465\n",
      "Iteration 1200 of epoch 0 complete, Loss: 0.0572834275662899; Accuracy: 0.9783783783783784; Time taken (s): 4.381298542022705\n",
      "Iteration 1300 of epoch 0 complete, Loss: 0.09018626064062119; Accuracy: 0.9691516709511568; Time taken (s): 4.295569181442261\n",
      "Iteration 1400 of epoch 0 complete, Loss: 0.16788604855537415; Accuracy: 0.941747572815534; Time taken (s): 4.27970814704895\n",
      "Iteration 1500 of epoch 0 complete, Loss: 0.06525760889053345; Accuracy: 0.9912280701754386; Time taken (s): 4.618681907653809\n",
      "Epoch 0 complete! Development Accuracy: 0.9687475767586861;\n",
      "test accuracy:  0.9734833685412904\n",
      "model with 70 hidden dimensions.\n",
      "Iteration 0 of epoch 0 complete, Loss: 1.5953699350357056; Accuracy: 0.08139534883720931; Time taken (s): 0.024644851684570312\n",
      "Iteration 100 of epoch 0 complete, Loss: 0.3398543894290924; Accuracy: 0.9073170731707317; Time taken (s): 4.52861213684082\n",
      "Iteration 200 of epoch 0 complete, Loss: 0.23827096819877625; Accuracy: 0.9442231075697212; Time taken (s): 4.751549959182739\n",
      "Iteration 300 of epoch 0 complete, Loss: 0.09260182082653046; Accuracy: 0.9745454545454545; Time taken (s): 4.830077409744263\n",
      "Iteration 400 of epoch 0 complete, Loss: 0.09964382648468018; Accuracy: 0.9721030042918455; Time taken (s): 4.443215370178223\n",
      "Iteration 500 of epoch 0 complete, Loss: 0.06220194324851036; Accuracy: 0.984251968503937; Time taken (s): 4.504884958267212\n",
      "Iteration 600 of epoch 0 complete, Loss: 0.10678087919950485; Accuracy: 0.9648648648648649; Time taken (s): 4.747637033462524\n",
      "Iteration 700 of epoch 0 complete, Loss: 0.033659178763628006; Accuracy: 0.987987987987988; Time taken (s): 4.566558837890625\n",
      "Iteration 800 of epoch 0 complete, Loss: 0.0532546229660511; Accuracy: 0.9834710743801653; Time taken (s): 4.258218050003052\n",
      "Iteration 900 of epoch 0 complete, Loss: 0.059379883110523224; Accuracy: 0.975177304964539; Time taken (s): 4.918838024139404\n",
      "Iteration 1000 of epoch 0 complete, Loss: 0.03912755101919174; Accuracy: 0.9867256637168141; Time taken (s): 4.395289897918701\n",
      "Iteration 1100 of epoch 0 complete, Loss: 0.08567948639392853; Accuracy: 0.9663865546218487; Time taken (s): 4.637007236480713\n",
      "Iteration 1200 of epoch 0 complete, Loss: 0.05061286687850952; Accuracy: 0.9855855855855856; Time taken (s): 4.715292692184448\n",
      "Iteration 1300 of epoch 0 complete, Loss: 0.08103284984827042; Accuracy: 0.9717223650385605; Time taken (s): 4.7292749881744385\n",
      "Iteration 1400 of epoch 0 complete, Loss: 0.17929847538471222; Accuracy: 0.9490291262135923; Time taken (s): 4.578937292098999\n",
      "Iteration 1500 of epoch 0 complete, Loss: 0.06756562739610672; Accuracy: 0.9912280701754386; Time taken (s): 4.919017791748047\n",
      "Epoch 0 complete! Development Accuracy: 0.9696718731597898;\n",
      "test accuracy:  0.974098329447906\n"
     ]
    }
   ],
   "source": [
    "hidden_dims = [20, 30, 40, 50, 60, 70]\n",
    "test_accs = []\n",
    "\n",
    "\n",
    "for i in range(len(hidden_dims)):\n",
    "    # model_hids = 0\n",
    "    model_hids = EntityLinker(feature_dim = feature_dimension, \n",
    "                     hidden_dim = hidden_dims[i], \n",
    "                     roleset_size = roleset_size)\n",
    "    model_hids.to(device)\n",
    "    optimizer = optim.Adam(model_hids.parameters(), lr = 2e-3)\n",
    "    print(\"model with {} hidden dimensions.\".format(hidden_dims[i]))\n",
    "    train(model_hids, loss_fn, optimizer, train_loader, dev_loader, 1, device)\n",
    "\n",
    "    test_acc_hids, test_preds_hids = evaluate(model_hids, test_loader, device)\n",
    "    print(\"test accuracy: \", test_acc_hids)\n",
    "    test_accs.append(test_acc_hids)\n"
   ]
  },
  {
   "cell_type": "code",
   "execution_count": null,
   "metadata": {
    "colab": {
     "base_uri": "https://localhost:8080/",
     "height": 295
    },
    "id": "KvSbLPhk2Kdc",
    "outputId": "44502080-d810-47f2-86b2-deccc456aea2"
   },
   "outputs": [
    {
     "data": {
      "image/png": "[encoded data removed]",
      "text/plain": [
       "<Figure size 432x288 with 1 Axes>"
      ]
     },
     "metadata": {
      "needs_background": "light"
     },
     "output_type": "display_data"
    }
   ],
   "source": [
    "plt.plot(hidden_dims, test_accs)\n",
    "plt.title('Test accuracy with different hidden dimension size (epoch=1)')\n",
    "plt.xlabel('Hidden dimension')\n",
    "plt.ylabel('Test accuracy')\n",
    "plt.show()"
   ]
  },
  {
   "cell_type": "markdown",
   "metadata": {
    "id": "7oTL8d9MkDN_"
   },
   "source": [
    "## Save and load model"
   ]
  },
  {
   "cell_type": "code",
   "execution_count": null,
   "metadata": {
    "id": "lqin6BLSDJFE"
   },
   "outputs": [],
   "source": [
    "# save the model\n",
    "model_save_name = 'entity_model.pth'\n",
    "model_save_path = F\"/content/drive/MyDrive/Colab Notebooks/{model_save_name}\"\n",
    "torch.save(model.state_dict(), model_save_path)\n",
    "\n",
    "# download the model to the local drive\n",
    "# files.download(model_save_path) "
   ]
  },
  {
   "cell_type": "code",
   "execution_count": null,
   "metadata": {
    "colab": {
     "base_uri": "https://localhost:8080/"
    },
    "id": "mvZ7BE5I-TJd",
    "outputId": "e5436746-b28c-4975-920b-568dfba220e3"
   },
   "outputs": [
    {
     "data": {
      "text/plain": [
       "<All keys matched successfully>"
      ]
     },
     "execution_count": 28,
     "metadata": {},
     "output_type": "execute_result"
    }
   ],
   "source": [
    "# load the saved model from google drive\n",
    "model_load = EntityLinker(feature_dim = feature_dimension, \n",
    "                     hidden_dim = hidden_dimension, \n",
    "                     roleset_size = roleset_size)\n",
    "model_load.load_state_dict(torch.load(MODEL_PATH, map_location=torch.device('cpu')))\n"
   ]
  },
  {
   "cell_type": "markdown",
   "metadata": {
    "id": "nCT__8_qZwjX"
   },
   "source": [
    "## process a single sentence"
   ]
  },
  {
   "cell_type": "code",
   "execution_count": null,
   "metadata": {
    "id": "4vwNKeZhh2kz"
   },
   "outputs": [],
   "source": [
    "def idx_to_label(preds, role_to_idx):\n",
    "    preds_string = []\n",
    "    for result in preds:\n",
    "        role = list(role_to_idx.keys())[list(role_to_idx.values()).index(result)]\n",
    "        preds_string.append(role)\n",
    "    return preds_string\n",
    "\n",
    "\n",
    "def process_sentence(nlp, sentence_string):\n",
    "    sentence_nlp = nlp(sentence_string.lower())\n",
    "\n",
    "    num_token = len(sentence_nlp)\n",
    "    tensor_shape = (num_token, feature_dimension)\n",
    "    tokens_features_t = torch.zeros(tensor_shape)\n",
    "\n",
    "    i = 0\n",
    "    for token in sentence_nlp:\n",
    "        dep = get_dep_vector(dep_df, token.dep_)\n",
    "        vector = token.vector\n",
    "        feature = np.append(vector, dep)\n",
    "        feature_tensor = torch.from_numpy(feature).float()\n",
    "        tokens_features_t[i] = feature_tensor\n",
    "        i += 1\n",
    "\n",
    "    return tokens_features_t\n",
    "       \n",
    "\n",
    "def predict(model, nlp, sentence_string, role_to_idx):\n",
    "    \n",
    "    model.eval()\n",
    "    features_t = process_sentence(nlp, sentence_string)\n",
    "    input_lens = features_t.shape[0]\n",
    "\n",
    "    input = features_t[None, :, :]\n",
    "    predictions = []\n",
    "\n",
    "    with torch.no_grad():\n",
    "        label_scores = model(input, [input_lens])\n",
    "        role_scores = F.log_softmax(label_scores, dim=2)\n",
    "        flatten_scores = role_scores.view(-1, label_scores.shape[2])\n",
    "\n",
    "        for i in range(input_lens):\n",
    "            pred = torch.argmax(flatten_scores[i])\n",
    "            \n",
    "            predictions.append(pred.item())\n",
    "        \n",
    "        pred_roles = idx_to_label(predictions, role_to_idx)\n",
    "    return pred_roles\n"
   ]
  },
  {
   "cell_type": "code",
   "execution_count": null,
   "metadata": {
    "id": "xJw7_ry6uTxs"
   },
   "outputs": [],
   "source": [
    "def get_target_and_recep(sentence_nlp, pred_roles):\n",
    "    target = []\n",
    "    receptacle = []\n",
    "\n",
    "    i = 0    \n",
    "    for label in pred_roles:\n",
    "        token = sentence_nlp[i].text\n",
    "        if label == 'B-TARGET':\n",
    "            target.append(token)\n",
    "        elif label == 'I-TARGET':\n",
    "            item = target[-1] + ' ' + token\n",
    "            target[-1] = item\n",
    "        elif label == 'B-RECEPTACLE':\n",
    "            receptacle.append(token)\n",
    "        elif label == 'I-RECEPTACLE':\n",
    "            item = receptacle[-1] + ' ' + token\n",
    "            receptacle[-1] = item\n",
    "        i += 1\n",
    "    \n",
    "    return target, receptacle\n"
   ]
  },
  {
   "cell_type": "code",
   "execution_count": null,
   "metadata": {
    "id": "fj2I4ItI1okt"
   },
   "outputs": [],
   "source": []
  },
  {
   "cell_type": "code",
   "execution_count": null,
   "metadata": {
    "colab": {
     "base_uri": "https://localhost:8080/"
    },
    "id": "SSZGgenHpNzp",
    "outputId": "1b1b37d1-0bd9-4632-dfd3-24f6eb8f7bde"
   },
   "outputs": [
    {
     "name": "stdout",
     "output_type": "stream",
     "text": [
      "['O', 'O', 'B-TARGET', 'O', 'O', 'B-RECEPTACLE', 'O', 'O', 'O', 'O', 'O', 'O']\n",
      "target:     ['pillow'] \n",
      "receptacle: ['chair']\n"
     ]
    }
   ],
   "source": [
    "sentence = \"move the pillow to the chair and turn to the couch and \"\n",
    "sentence_nlp = nlp(sentence.lower())\n",
    "\n",
    "result = predict(model_load, nlp, sentence, role_to_idx)\n",
    "print(result)\n",
    "target, receptacle = get_target_and_recep(sentence_nlp, result)\n",
    "print(\"target:     {} \\nreceptacle: {}\".format(target, receptacle))\n"
   ]
  },
  {
   "cell_type": "code",
   "execution_count": null,
   "metadata": {
    "id": "q1I2PdfzpGa2"
   },
   "outputs": [],
   "source": []
  },
  {
   "cell_type": "code",
   "execution_count": null,
   "metadata": {
    "id": "dw-jma6-Vgum"
   },
   "outputs": [],
   "source": []
  }
 ],
 "metadata": {
  "accelerator": "GPU",
  "colab": {
   "collapsed_sections": [
    "p8_AT7B9j4h5"
   ],
   "name": "entityLinker.ipynb",
   "provenance": []
  },
  "kernelspec": {
   "display_name": "Python 3",
   "language": "python",
   "name": "python3"
  },
  "language_info": {
   "codemirror_mode": {
    "name": "ipython",
    "version": 3
   },
   "file_extension": ".py",
   "mimetype": "text/x-python",
   "name": "python",
   "nbconvert_exporter": "python",
   "pygments_lexer": "ipython3",
   "version": "3.7.11"
  }
 },
 "nbformat": 4,
 "nbformat_minor": 1
}
