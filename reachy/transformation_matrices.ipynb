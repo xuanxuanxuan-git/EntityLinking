{
 "cells": [
  {
   "cell_type": "code",
   "execution_count": null,
   "id": "fcd41a32",
   "metadata": {},
   "outputs": [],
   "source": [
    "from scipy.spatial.transform import Rotation as R\n",
    "import numpy as np\n",
    "import math"
   ]
  },
  {
   "cell_type": "code",
   "execution_count": 1,
   "id": "65955acf",
   "metadata": {},
   "outputs": [
    {
     "name": "stderr",
     "output_type": "stream",
     "text": [
      "C:\\Users\\62572\\miniconda3\\envs\\spacy\\lib\\site-packages\\ipykernel_launcher.py:9: UserWarning: Gimbal lock detected. Setting third angle to zero since it is not possible to uniquely determine all angles.\n",
      "  if __name__ == '__main__':\n"
     ]
    },
    {
     "data": {
      "text/plain": [
       "array([  0.        , -89.99999879,   0.        ])"
      ]
     },
     "execution_count": 1,
     "metadata": {},
     "output_type": "execute_result"
    }
   ],
   "source": [
    "# the rotation matrix used by reachy\n",
    "R.from_matrix([\n",
    "    [0, 0, -1],\n",
    "    [0, 1, 0],\n",
    "    [1, 0, 0],\n",
    "]).as_euler('xyz', degrees=True)\n"
   ]
  },
  {
   "cell_type": "code",
   "execution_count": 59,
   "id": "3043e52c",
   "metadata": {},
   "outputs": [
    {
     "name": "stdout",
     "output_type": "stream",
     "text": [
      "0.49999999999999994\n",
      "0.8660254037844387\n"
     ]
    }
   ],
   "source": [
    "# deg (degree) is the angle between the camera and the ground \n",
    "deg = 30\n",
    "radian = math.radians(deg)\n",
    "sin_angle = math.sin(radian)\n",
    "cos_angle = math.cos(radian)\n",
    "print(sin_angle)\n",
    "print(cos_angle)"
   ]
  },
  {
   "cell_type": "markdown",
   "id": "9093f28c",
   "metadata": {},
   "source": [
    "### when the robot and the camera are facing toward each other"
   ]
  },
  {
   "cell_type": "code",
   "execution_count": 60,
   "id": "f9a6c496",
   "metadata": {},
   "outputs": [
    {
     "name": "stdout",
     "output_type": "stream",
     "text": [
      "[[ 1.         0.         0.       ]\n",
      " [ 0.         0.8660254 -0.5      ]\n",
      " [ 0.         0.5        0.8660254]]\n"
     ]
    },
    {
     "data": {
      "text/plain": [
       "array([30.,  0.,  0.])"
      ]
     },
     "execution_count": 60,
     "metadata": {},
     "output_type": "execute_result"
    }
   ],
   "source": [
    "# step 1: rotate along the x-axis by about +30 degrees\n",
    "# this will first make the z axis (and the camera) be parallel to the ground,\n",
    "R_x1 = np.array([\n",
    "    [1, 0, 0],\n",
    "    [0, cos_angle, -sin_angle],\n",
    "    [0, sin_angle, cos_angle],\n",
    "])\n",
    "print(R_x1)\n",
    "R.from_matrix(R_x1).as_euler('xyz', degrees=True)"
   ]
  },
  {
   "cell_type": "code",
   "execution_count": 40,
   "id": "b7d28203",
   "metadata": {},
   "outputs": [
    {
     "data": {
      "text/plain": [
       "array([90.,  0.,  0.])"
      ]
     },
     "execution_count": 40,
     "metadata": {},
     "output_type": "execute_result"
    }
   ],
   "source": [
    "# step 2: rotate along x-axis by +90 degrees (anti-clockwise)\n",
    "R_x2 = np.array([\n",
    "    [1, 0, 0],\n",
    "    [0, 0, -1],\n",
    "    [0, 1, 0],\n",
    "])\n",
    "\n",
    "R.from_matrix(R_x2).as_euler('xyz', degrees=True)"
   ]
  },
  {
   "cell_type": "code",
   "execution_count": 41,
   "id": "77a82af6",
   "metadata": {},
   "outputs": [
    {
     "data": {
      "text/plain": [
       "array([  0.,   0., -90.])"
      ]
     },
     "execution_count": 41,
     "metadata": {},
     "output_type": "execute_result"
    }
   ],
   "source": [
    "# step 3: rotate along z-axis by -90 degrees (clockwise)\n",
    "R_z1 = np.array([\n",
    "    [0, 1, 0],\n",
    "    [-1, 0, 0],\n",
    "    [0, 0, 1],\n",
    "])\n",
    "\n",
    "R.from_matrix(R_z1).as_euler('xyz', degrees=True)"
   ]
  },
  {
   "cell_type": "code",
   "execution_count": 61,
   "id": "84719cea",
   "metadata": {},
   "outputs": [
    {
     "name": "stdout",
     "output_type": "stream",
     "text": [
      "[[ 0.         1.         0.       ]\n",
      " [ 0.5        0.        -0.8660254]\n",
      " [-0.8660254  0.        -0.5      ]]\n"
     ]
    }
   ],
   "source": [
    "M_opposite = R_x1.dot(R_x2).dot(R_z1)\n",
    "print(M_opposite)"
   ]
  },
  {
   "cell_type": "markdown",
   "id": "13d84686",
   "metadata": {},
   "source": [
    "### when the robot and the camera is facing toward the same direction"
   ]
  },
  {
   "cell_type": "code",
   "execution_count": 18,
   "id": "d21ef290",
   "metadata": {},
   "outputs": [
    {
     "data": {
      "text/plain": [
       "array([ 0.,  0., 90.])"
      ]
     },
     "execution_count": 18,
     "metadata": {},
     "output_type": "execute_result"
    }
   ],
   "source": [
    "# step 1: rotate along the x-axis by about +30 degrees\n",
    "\n",
    "# step 2: rotate along the x-axis by +90 degrees\n",
    "\n",
    "# step 3: rotate along z-axis by +90 degrees (anti-clockwise)\n",
    "R_z2 = np.array([\n",
    "    [0, -1, 0],\n",
    "    [1, 0, 0],\n",
    "    [0, 0, 1],\n",
    "])\n",
    "\n",
    "R.from_matrix(R_z2).as_euler('xyz', degrees=True)"
   ]
  },
  {
   "cell_type": "markdown",
   "id": "3b71516e",
   "metadata": {},
   "source": [
    "### when the robot is facing orthogonal to the camera (camera is on the right hand side of the robot)"
   ]
  },
  {
   "cell_type": "code",
   "execution_count": null,
   "id": "cfa89b9a",
   "metadata": {},
   "outputs": [],
   "source": [
    "# step 1: rotate along the x-axis by about +30 degrees\n",
    "\n",
    "# step 2: rotate along the x-axis by +90 degrees\n"
   ]
  },
  {
   "cell_type": "markdown",
   "id": "d260cd1e",
   "metadata": {},
   "source": [
    "### when the robot is facing orthogonal to the camera (camera is on the left hand side of the robot)"
   ]
  },
  {
   "cell_type": "code",
   "execution_count": 19,
   "id": "7fb36952",
   "metadata": {},
   "outputs": [
    {
     "data": {
      "text/plain": [
       "array([  0.,   0., 180.])"
      ]
     },
     "execution_count": 19,
     "metadata": {},
     "output_type": "execute_result"
    }
   ],
   "source": [
    "# step 1: rotate along the x-axis by about +30 degrees\n",
    "\n",
    "# step 2: rotate along the x-axis by +90 degrees\n",
    "\n",
    "# step 3: rotate along z-axis by 180 degrees (clockwise)\n",
    "R_z3 = np.array([\n",
    "    [-1, 0, 0],\n",
    "    [0, -1, 0],\n",
    "    [0, 0, 1],\n",
    "])\n",
    "\n",
    "R.from_matrix(R_z3).as_euler('xyz', degrees=True)\n"
   ]
  },
  {
   "cell_type": "markdown",
   "id": "8b61f6d3",
   "metadata": {},
   "source": [
    "### Test the transformation matrix on a few points \n",
    "\n",
    "Here we assume that the camera is on the opposite side of the robot. So we use the matrix <i>M_opposite</i>. We also assume that the angle between the camera and the ground is 30 degrees. The results after the transformation are the coordinates of the object from reachy's perspective. "
   ]
  },
  {
   "cell_type": "code",
   "execution_count": 62,
   "id": "17d03b6c",
   "metadata": {},
   "outputs": [
    {
     "name": "stdout",
     "output_type": "stream",
     "text": [
      "[0.01 0.19 0.55]\n",
      "[-0.38131397  0.01       -0.43954483]\n",
      "[ 0.41868603 -0.09       -0.28954483]\n"
     ]
    }
   ],
   "source": [
    "# coord of the objects (from camera's perspective)\n",
    "(x, y, z) = (0.01, 0.19, 0.55)\n",
    "\n",
    "# translation vector (the distance between the origins of two coordinate systems based on reachy's view)\n",
    "(d_x, d_y, d_z) = (0.8, -0.1, 0.15)\n",
    "\n",
    "obj_vector = np.array([x, y, z])\n",
    "obj_vector_r = obj_vector.dot(M_opposite)\n",
    "obj_vector_t = np.array([obj_vector_r[0]+0.8, \n",
    "                         obj_vector_r[1]-0.1, \n",
    "                         obj_vector_r[2]+0.15])\n",
    "print(obj_vector)\n",
    "print(obj_vector_r)\n",
    "print(obj_vector_t)"
   ]
  }
 ],
 "metadata": {
  "kernelspec": {
   "display_name": "Python 3",
   "language": "python",
   "name": "python3"
  },
  "language_info": {
   "codemirror_mode": {
    "name": "ipython",
    "version": 3
   },
   "file_extension": ".py",
   "mimetype": "text/x-python",
   "name": "python",
   "nbconvert_exporter": "python",
   "pygments_lexer": "ipython3",
   "version": "3.7.11"
  }
 },
 "nbformat": 4,
 "nbformat_minor": 5
}